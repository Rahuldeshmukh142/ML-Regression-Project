{
 "cells": [
  {
   "cell_type": "markdown",
   "metadata": {
    "id": "tOGC-qoyhJeX"
   },
   "source": [
    "# <b><u> Project Title : Traffic Jam: Predicting People's Movement into Nairobi </u></b>"
   ]
  },
  {
   "cell_type": "markdown",
   "metadata": {
    "id": "Y06xIdG26kRF"
   },
   "source": [
    "## <b> Problem Description </b>\n",
    "\n",
    "### This challenge asks you to build a model that predicts the number of seats that Mobiticket can expect to sell for each ride, i.e. for a specific route on a specific date and time. There are 14 routes in this dataset. All of the routes end in Nairobi and originate in towns to the North-West of Nairobi towards Lake Victoria.\n",
    "\n",
    "\n",
    "### The towns from which these routes originate are:\n",
    "\n",
    "* Awendo\n",
    "* Homa Bay\n",
    "* Kehancha\n",
    "* Kendu Bay\n",
    "* Keroka\n",
    "* Keumbu\n",
    "* Kijauri\n",
    "* Kisii\n",
    "* Mbita\n",
    "* Migori\n",
    "* Ndhiwa\n",
    "* Nyachenge\n",
    "* Oyugis\n",
    "* Rodi\n",
    "* Rongo\n",
    "* Sirare\n",
    "* Sori\n",
    "\n",
    "### The routes from these 14 origins to the first stop in the outskirts of Nairobi takes approximately 8 to 9 hours from time of departure. From the first stop in the outskirts of Nairobi into the main bus terminal, where most passengers get off, in Central Business District, takes another 2 to 3 hours depending on traffic.\n",
    "\n",
    "### The three stops that all these routes make in Nairobi (in order) are:\n",
    "\n",
    "1. Kawangware: the first stop in the outskirts of Nairobi\n",
    "2. Westlands\n",
    "3. Afya Centre: the main bus terminal where most passengers disembark\n",
    "\n",
    "### All of these points are mapped [here](https://www.google.com/maps/d/viewer?mid=1Ef2pFdP8keVHHid8bwju2raoRvjOGagN&ll=-0.8281897101491997%2C35.51706279999996&z=8).\n",
    "\n",
    "### Passengers of these bus (or shuttle) rides are affected by Nairobi traffic not only during their ride into the city, but from there they must continue their journey to their final destination in Nairobi wherever that may be. Traffic can act as a deterrent for those who have the option to avoid buses that arrive in Nairobi during peak traffic hours. On the other hand, traffic may be an indication for people’s movement patterns, reflecting business hours, cultural events, political events, and holidays."
   ]
  },
  {
   "cell_type": "markdown",
   "metadata": {
    "id": "AlLxAtlziMbP"
   },
   "source": [
    "## <b> Data Description </b>\n",
    "\n",
    "### <b>Nairobi Transport Data.csv (zipped)</b> is the dataset of tickets purchased from Mobiticket for the 14 routes from “up country” into Nairobi between 17 October 2017 and 20 April 2018. This dataset includes the variables: ride_id, seat_number, payment_method, payment_receipt, travel_date, travel_time, travel_from, travel_to, car_type, max_capacity.\n",
    "\n",
    "\n",
    "### Uber Movement traffic data can be accessed [here](https://movement.uber.com). Data is available for Nairobi through June 2018. Uber Movement provided historic hourly travel time between any two points in Nairobi. Any tables that are extracted from the Uber Movement platform can be used in your model.\n",
    "\n",
    "### Variables description:\n",
    "\n",
    "* #### ride_id: unique ID of a vehicle on a specific route on a specific day and time.\n",
    "* #### seat_number: seat assigned to ticket\n",
    "* #### payment_method: method used by customer to purchase ticket from Mobiticket (cash or Mpesa)\n",
    "* #### payment_receipt: unique id number for ticket purchased from Mobiticket\n",
    "* #### travel_date: date of ride departure. (MM/DD/YYYY)\n",
    "* #### travel_time: scheduled departure time of ride. Rides generally depart on time. (hh:mm)\n",
    "* #### travel_from: town from which ride originated\n",
    "* #### travel_to: destination of ride. All rides are to Nairobi.\n",
    "* #### car_type: vehicle type (shuttle or bus)\n",
    "* #### max_capacity: number of seats on the vehicle"
   ]
  },
  {
   "cell_type": "code",
   "execution_count": 1,
   "metadata": {
    "id": "LybP2RqKaT3i"
   },
   "outputs": [],
   "source": [
    "## importing libraries\n",
    "import pandas as pd\n",
    "import numpy as np\n",
    "import seaborn as sns\n",
    "import matplotlib.pyplot as plt\n",
    "%matplotlib inline\n",
    "import datetime"
   ]
  },
  {
   "cell_type": "code",
   "execution_count": 2,
   "metadata": {
    "colab": {
     "base_uri": "https://localhost:8080/"
    },
    "id": "dGFu9UP1dMdw",
    "outputId": "87e1bf5b-bf4e-4534-bda3-8aab62fbbefe"
   },
   "outputs": [],
   "source": [
    "# from google.colab import drive\n",
    "# drive.mount('/content/drive')"
   ]
  },
  {
   "cell_type": "code",
   "execution_count": 3,
   "metadata": {
    "colab": {
     "base_uri": "https://localhost:8080/",
     "height": 206
    },
    "id": "dByMsuzT8Tnw",
    "outputId": "e2297a68-40d9-46e5-d1b0-14ba3801b7a9"
   },
   "outputs": [
    {
     "data": {
      "text/html": [
       "<div>\n",
       "<style scoped>\n",
       "    .dataframe tbody tr th:only-of-type {\n",
       "        vertical-align: middle;\n",
       "    }\n",
       "\n",
       "    .dataframe tbody tr th {\n",
       "        vertical-align: top;\n",
       "    }\n",
       "\n",
       "    .dataframe thead th {\n",
       "        text-align: right;\n",
       "    }\n",
       "</style>\n",
       "<table border=\"1\" class=\"dataframe\">\n",
       "  <thead>\n",
       "    <tr style=\"text-align: right;\">\n",
       "      <th></th>\n",
       "      <th>ride_id</th>\n",
       "      <th>seat_number</th>\n",
       "      <th>payment_method</th>\n",
       "      <th>payment_receipt</th>\n",
       "      <th>travel_date</th>\n",
       "      <th>travel_time</th>\n",
       "      <th>travel_from</th>\n",
       "      <th>travel_to</th>\n",
       "      <th>car_type</th>\n",
       "      <th>max_capacity</th>\n",
       "    </tr>\n",
       "  </thead>\n",
       "  <tbody>\n",
       "    <tr>\n",
       "      <th>0</th>\n",
       "      <td>1442</td>\n",
       "      <td>15A</td>\n",
       "      <td>Mpesa</td>\n",
       "      <td>UZUEHCBUSO</td>\n",
       "      <td>17-10-17</td>\n",
       "      <td>7:15</td>\n",
       "      <td>Migori</td>\n",
       "      <td>Nairobi</td>\n",
       "      <td>Bus</td>\n",
       "      <td>49</td>\n",
       "    </tr>\n",
       "    <tr>\n",
       "      <th>1</th>\n",
       "      <td>5437</td>\n",
       "      <td>14A</td>\n",
       "      <td>Mpesa</td>\n",
       "      <td>TIHLBUSGTE</td>\n",
       "      <td>19-11-17</td>\n",
       "      <td>7:12</td>\n",
       "      <td>Migori</td>\n",
       "      <td>Nairobi</td>\n",
       "      <td>Bus</td>\n",
       "      <td>49</td>\n",
       "    </tr>\n",
       "    <tr>\n",
       "      <th>2</th>\n",
       "      <td>5710</td>\n",
       "      <td>8B</td>\n",
       "      <td>Mpesa</td>\n",
       "      <td>EQX8Q5G19O</td>\n",
       "      <td>26-11-17</td>\n",
       "      <td>7:05</td>\n",
       "      <td>Keroka</td>\n",
       "      <td>Nairobi</td>\n",
       "      <td>Bus</td>\n",
       "      <td>49</td>\n",
       "    </tr>\n",
       "    <tr>\n",
       "      <th>3</th>\n",
       "      <td>5777</td>\n",
       "      <td>19A</td>\n",
       "      <td>Mpesa</td>\n",
       "      <td>SGP18CL0ME</td>\n",
       "      <td>27-11-17</td>\n",
       "      <td>7:10</td>\n",
       "      <td>Homa Bay</td>\n",
       "      <td>Nairobi</td>\n",
       "      <td>Bus</td>\n",
       "      <td>49</td>\n",
       "    </tr>\n",
       "    <tr>\n",
       "      <th>4</th>\n",
       "      <td>5778</td>\n",
       "      <td>11A</td>\n",
       "      <td>Mpesa</td>\n",
       "      <td>BM97HFRGL9</td>\n",
       "      <td>27-11-17</td>\n",
       "      <td>7:12</td>\n",
       "      <td>Migori</td>\n",
       "      <td>Nairobi</td>\n",
       "      <td>Bus</td>\n",
       "      <td>49</td>\n",
       "    </tr>\n",
       "  </tbody>\n",
       "</table>\n",
       "</div>"
      ],
      "text/plain": [
       "   ride_id seat_number payment_method payment_receipt travel_date travel_time  \\\n",
       "0     1442         15A          Mpesa      UZUEHCBUSO    17-10-17        7:15   \n",
       "1     5437         14A          Mpesa      TIHLBUSGTE    19-11-17        7:12   \n",
       "2     5710          8B          Mpesa      EQX8Q5G19O    26-11-17        7:05   \n",
       "3     5777         19A          Mpesa      SGP18CL0ME    27-11-17        7:10   \n",
       "4     5778         11A          Mpesa      BM97HFRGL9    27-11-17        7:12   \n",
       "\n",
       "  travel_from travel_to car_type  max_capacity  \n",
       "0      Migori   Nairobi      Bus            49  \n",
       "1      Migori   Nairobi      Bus            49  \n",
       "2      Keroka   Nairobi      Bus            49  \n",
       "3    Homa Bay   Nairobi      Bus            49  \n",
       "4      Migori   Nairobi      Bus            49  "
      ]
     },
     "execution_count": 3,
     "metadata": {},
     "output_type": "execute_result"
    }
   ],
   "source": [
    "# dataset       \n",
    "dataset = pd.read_csv('train_revised.csv')\n",
    "dataset.head()"
   ]
  },
  {
   "cell_type": "code",
   "execution_count": 4,
   "metadata": {
    "colab": {
     "base_uri": "https://localhost:8080/",
     "height": 206
    },
    "id": "mo1N_74wt1Am",
    "outputId": "e0f02dc6-9c68-4181-da56-94309ef5ead3"
   },
   "outputs": [
    {
     "data": {
      "text/html": [
       "<div>\n",
       "<style scoped>\n",
       "    .dataframe tbody tr th:only-of-type {\n",
       "        vertical-align: middle;\n",
       "    }\n",
       "\n",
       "    .dataframe tbody tr th {\n",
       "        vertical-align: top;\n",
       "    }\n",
       "\n",
       "    .dataframe thead th {\n",
       "        text-align: right;\n",
       "    }\n",
       "</style>\n",
       "<table border=\"1\" class=\"dataframe\">\n",
       "  <thead>\n",
       "    <tr style=\"text-align: right;\">\n",
       "      <th></th>\n",
       "      <th>ride_id</th>\n",
       "      <th>seat_number</th>\n",
       "      <th>payment_method</th>\n",
       "      <th>payment_receipt</th>\n",
       "      <th>travel_date</th>\n",
       "      <th>travel_time</th>\n",
       "      <th>travel_from</th>\n",
       "      <th>travel_to</th>\n",
       "      <th>car_type</th>\n",
       "      <th>max_capacity</th>\n",
       "    </tr>\n",
       "  </thead>\n",
       "  <tbody>\n",
       "    <tr>\n",
       "      <th>51640</th>\n",
       "      <td>13826</td>\n",
       "      <td>9B</td>\n",
       "      <td>Mpesa</td>\n",
       "      <td>8V2XDDZR6V</td>\n",
       "      <td>20-04-18</td>\n",
       "      <td>8:00</td>\n",
       "      <td>Awendo</td>\n",
       "      <td>Nairobi</td>\n",
       "      <td>Bus</td>\n",
       "      <td>49</td>\n",
       "    </tr>\n",
       "    <tr>\n",
       "      <th>51641</th>\n",
       "      <td>13809</td>\n",
       "      <td>18A</td>\n",
       "      <td>Mpesa</td>\n",
       "      <td>4PEBSVJSNK</td>\n",
       "      <td>20-04-18</td>\n",
       "      <td>8:00</td>\n",
       "      <td>Migori</td>\n",
       "      <td>Nairobi</td>\n",
       "      <td>Bus</td>\n",
       "      <td>49</td>\n",
       "    </tr>\n",
       "    <tr>\n",
       "      <th>51642</th>\n",
       "      <td>13809</td>\n",
       "      <td>17A</td>\n",
       "      <td>Mpesa</td>\n",
       "      <td>LVN64LZDNN</td>\n",
       "      <td>20-04-18</td>\n",
       "      <td>8:00</td>\n",
       "      <td>Migori</td>\n",
       "      <td>Nairobi</td>\n",
       "      <td>Bus</td>\n",
       "      <td>49</td>\n",
       "    </tr>\n",
       "    <tr>\n",
       "      <th>51643</th>\n",
       "      <td>13796</td>\n",
       "      <td>16B</td>\n",
       "      <td>Mpesa</td>\n",
       "      <td>REYBSKTYWN</td>\n",
       "      <td>20-04-18</td>\n",
       "      <td>7:08</td>\n",
       "      <td>Awendo</td>\n",
       "      <td>Nairobi</td>\n",
       "      <td>Bus</td>\n",
       "      <td>49</td>\n",
       "    </tr>\n",
       "    <tr>\n",
       "      <th>51644</th>\n",
       "      <td>14304</td>\n",
       "      <td>7</td>\n",
       "      <td>Mpesa</td>\n",
       "      <td>AQN7FBUSGP</td>\n",
       "      <td>14-11-17</td>\n",
       "      <td>5:10</td>\n",
       "      <td>Kisii</td>\n",
       "      <td>Nairobi</td>\n",
       "      <td>Bus</td>\n",
       "      <td>49</td>\n",
       "    </tr>\n",
       "  </tbody>\n",
       "</table>\n",
       "</div>"
      ],
      "text/plain": [
       "       ride_id seat_number payment_method payment_receipt travel_date  \\\n",
       "51640    13826          9B          Mpesa      8V2XDDZR6V    20-04-18   \n",
       "51641    13809         18A          Mpesa      4PEBSVJSNK    20-04-18   \n",
       "51642    13809         17A          Mpesa      LVN64LZDNN    20-04-18   \n",
       "51643    13796         16B          Mpesa      REYBSKTYWN    20-04-18   \n",
       "51644    14304           7          Mpesa      AQN7FBUSGP    14-11-17   \n",
       "\n",
       "      travel_time travel_from travel_to car_type  max_capacity  \n",
       "51640        8:00      Awendo   Nairobi      Bus            49  \n",
       "51641        8:00      Migori   Nairobi      Bus            49  \n",
       "51642        8:00      Migori   Nairobi      Bus            49  \n",
       "51643        7:08      Awendo   Nairobi      Bus            49  \n",
       "51644        5:10       Kisii   Nairobi      Bus            49  "
      ]
     },
     "execution_count": 4,
     "metadata": {},
     "output_type": "execute_result"
    }
   ],
   "source": [
    "# checking last rows of data\n",
    "dataset.tail()"
   ]
  },
  {
   "cell_type": "markdown",
   "metadata": {
    "id": "D3pj9lfnhC4F"
   },
   "source": [
    "### **Understanding The data**"
   ]
  },
  {
   "cell_type": "code",
   "execution_count": 5,
   "metadata": {
    "colab": {
     "base_uri": "https://localhost:8080/"
    },
    "id": "jiWfwLEdg_CM",
    "outputId": "f6c72d33-b7f8-4c1c-e982-11bce93e0df2"
   },
   "outputs": [
    {
     "data": {
      "text/plain": [
       "(51645, 10)"
      ]
     },
     "execution_count": 5,
     "metadata": {},
     "output_type": "execute_result"
    }
   ],
   "source": [
    "dataset.shape   #checking shape of data having 51645 observations with 10 variables"
   ]
  },
  {
   "cell_type": "code",
   "execution_count": 6,
   "metadata": {
    "colab": {
     "base_uri": "https://localhost:8080/"
    },
    "id": "2GFFZSskhNUo",
    "outputId": "1dead204-9e2c-4ee8-95de-3b6ae703b195"
   },
   "outputs": [
    {
     "name": "stdout",
     "output_type": "stream",
     "text": [
      "<class 'pandas.core.frame.DataFrame'>\n",
      "RangeIndex: 51645 entries, 0 to 51644\n",
      "Data columns (total 10 columns):\n",
      " #   Column           Non-Null Count  Dtype \n",
      "---  ------           --------------  ----- \n",
      " 0   ride_id          51645 non-null  int64 \n",
      " 1   seat_number      51645 non-null  object\n",
      " 2   payment_method   51645 non-null  object\n",
      " 3   payment_receipt  51645 non-null  object\n",
      " 4   travel_date      51645 non-null  object\n",
      " 5   travel_time      51645 non-null  object\n",
      " 6   travel_from      51645 non-null  object\n",
      " 7   travel_to        51645 non-null  object\n",
      " 8   car_type         51645 non-null  object\n",
      " 9   max_capacity     51645 non-null  int64 \n",
      "dtypes: int64(2), object(8)\n",
      "memory usage: 3.9+ MB\n"
     ]
    }
   ],
   "source": [
    "dataset.info()   ### Checking information about data"
   ]
  },
  {
   "cell_type": "code",
   "execution_count": 7,
   "metadata": {
    "colab": {
     "base_uri": "https://localhost:8080/",
     "height": 175
    },
    "id": "YzlVHU7YhjGQ",
    "outputId": "e6d28d78-8098-4aba-d6fb-684b27110ec9"
   },
   "outputs": [
    {
     "data": {
      "text/html": [
       "<div>\n",
       "<style scoped>\n",
       "    .dataframe tbody tr th:only-of-type {\n",
       "        vertical-align: middle;\n",
       "    }\n",
       "\n",
       "    .dataframe tbody tr th {\n",
       "        vertical-align: top;\n",
       "    }\n",
       "\n",
       "    .dataframe thead th {\n",
       "        text-align: right;\n",
       "    }\n",
       "</style>\n",
       "<table border=\"1\" class=\"dataframe\">\n",
       "  <thead>\n",
       "    <tr style=\"text-align: right;\">\n",
       "      <th></th>\n",
       "      <th>seat_number</th>\n",
       "      <th>payment_method</th>\n",
       "      <th>payment_receipt</th>\n",
       "      <th>travel_date</th>\n",
       "      <th>travel_time</th>\n",
       "      <th>travel_from</th>\n",
       "      <th>travel_to</th>\n",
       "      <th>car_type</th>\n",
       "    </tr>\n",
       "  </thead>\n",
       "  <tbody>\n",
       "    <tr>\n",
       "      <th>count</th>\n",
       "      <td>51645</td>\n",
       "      <td>51645</td>\n",
       "      <td>51645</td>\n",
       "      <td>51645</td>\n",
       "      <td>51645</td>\n",
       "      <td>51645</td>\n",
       "      <td>51645</td>\n",
       "      <td>51645</td>\n",
       "    </tr>\n",
       "    <tr>\n",
       "      <th>unique</th>\n",
       "      <td>61</td>\n",
       "      <td>2</td>\n",
       "      <td>51645</td>\n",
       "      <td>149</td>\n",
       "      <td>78</td>\n",
       "      <td>17</td>\n",
       "      <td>1</td>\n",
       "      <td>2</td>\n",
       "    </tr>\n",
       "    <tr>\n",
       "      <th>top</th>\n",
       "      <td>1</td>\n",
       "      <td>Mpesa</td>\n",
       "      <td>YKOOESVRST</td>\n",
       "      <td>10-12-17</td>\n",
       "      <td>7:09</td>\n",
       "      <td>Kisii</td>\n",
       "      <td>Nairobi</td>\n",
       "      <td>Bus</td>\n",
       "    </tr>\n",
       "    <tr>\n",
       "      <th>freq</th>\n",
       "      <td>2065</td>\n",
       "      <td>51532</td>\n",
       "      <td>1</td>\n",
       "      <td>856</td>\n",
       "      <td>3926</td>\n",
       "      <td>22607</td>\n",
       "      <td>51645</td>\n",
       "      <td>31985</td>\n",
       "    </tr>\n",
       "  </tbody>\n",
       "</table>\n",
       "</div>"
      ],
      "text/plain": [
       "       seat_number payment_method payment_receipt travel_date travel_time  \\\n",
       "count        51645          51645           51645       51645       51645   \n",
       "unique          61              2           51645         149          78   \n",
       "top              1          Mpesa      YKOOESVRST    10-12-17        7:09   \n",
       "freq          2065          51532               1         856        3926   \n",
       "\n",
       "       travel_from travel_to car_type  \n",
       "count        51645     51645    51645  \n",
       "unique          17         1        2  \n",
       "top          Kisii   Nairobi      Bus  \n",
       "freq         22607     51645    31985  "
      ]
     },
     "execution_count": 7,
     "metadata": {},
     "output_type": "execute_result"
    }
   ],
   "source": [
    "dataset.describe(include='object')   # discriptive statistics for data"
   ]
  },
  {
   "cell_type": "markdown",
   "metadata": {
    "id": "bfgTzN5lAsP9"
   },
   "source": [
    "### **Summary:-**\n",
    "\n",
    "* There are total **61** unique  seats in this dataset\n",
    "\n",
    "* travelers have used 2 types of payment method and most of the people have used **Mpesa** to pay for their ticket.\n",
    "\n",
    "* The record of 149 days out of 2 year is present in this dataset.\n",
    "\n",
    "\n",
    "* There are 2 different types of car and most of them are bus.\n"
   ]
  },
  {
   "cell_type": "code",
   "execution_count": 8,
   "metadata": {
    "colab": {
     "base_uri": "https://localhost:8080/"
    },
    "id": "RI_4A-fVjx9b",
    "outputId": "7bc6b63a-f897-4581-d66c-8826a347e7e6"
   },
   "outputs": [
    {
     "data": {
      "text/plain": [
       "ride_id            0\n",
       "seat_number        0\n",
       "payment_method     0\n",
       "payment_receipt    0\n",
       "travel_date        0\n",
       "travel_time        0\n",
       "travel_from        0\n",
       "travel_to          0\n",
       "car_type           0\n",
       "max_capacity       0\n",
       "dtype: int64"
      ]
     },
     "execution_count": 8,
     "metadata": {},
     "output_type": "execute_result"
    }
   ],
   "source": [
    "dataset.isnull().sum()     #Checking null values if any"
   ]
  },
  {
   "cell_type": "markdown",
   "metadata": {
    "id": "FoqaFmyyS2rt"
   },
   "source": [
    "We don't see any null values in the dataset now.\n",
    "\n",
    "so let us explore the dataset more."
   ]
  },
  {
   "cell_type": "code",
   "execution_count": 9,
   "metadata": {
    "colab": {
     "base_uri": "https://localhost:8080/"
    },
    "id": "D508Od3ExYVa",
    "outputId": "44544dd9-ce45-4f3a-b0ee-c5fdf3203db8"
   },
   "outputs": [
    {
     "data": {
      "text/plain": [
       "6249"
      ]
     },
     "execution_count": 9,
     "metadata": {},
     "output_type": "execute_result"
    }
   ],
   "source": [
    "len(dataset['ride_id'].unique())"
   ]
  },
  {
   "cell_type": "markdown",
   "metadata": {
    "id": "SXKTDK9dBGIH"
   },
   "source": [
    "We see there are 6249 unique `ride_id`."
   ]
  },
  {
   "cell_type": "code",
   "execution_count": 10,
   "metadata": {
    "id": "i4gUJT_bxx0b"
   },
   "outputs": [],
   "source": [
    "column = dataset.columns"
   ]
  },
  {
   "cell_type": "code",
   "execution_count": 11,
   "metadata": {
    "colab": {
     "base_uri": "https://localhost:8080/"
    },
    "id": "vneyO9Dfyo9k",
    "outputId": "ee6099c1-bd6b-4f94-fc13-d4fde5623f90"
   },
   "outputs": [
    {
     "data": {
      "text/plain": [
       "Index(['ride_id', 'seat_number', 'payment_method', 'payment_receipt',\n",
       "       'travel_date', 'travel_time', 'travel_from', 'travel_to', 'car_type',\n",
       "       'max_capacity'],\n",
       "      dtype='object')"
      ]
     },
     "execution_count": 11,
     "metadata": {},
     "output_type": "execute_result"
    }
   ],
   "source": [
    "column"
   ]
  },
  {
   "cell_type": "markdown",
   "metadata": {
    "id": "b8FyPEm7_AeD"
   },
   "source": [
    "### **EDA**"
   ]
  },
  {
   "cell_type": "code",
   "execution_count": 12,
   "metadata": {
    "colab": {
     "base_uri": "https://localhost:8080/",
     "height": 806
    },
    "id": "a04SxDwvAkIZ",
    "outputId": "0daa8885-7a45-4bc7-b258-94f1d1011f39"
   },
   "outputs": [
    {
     "name": "stderr",
     "output_type": "stream",
     "text": [
      "C:\\Users\\Rahul Deshmukh\\anaconda3\\lib\\site-packages\\seaborn\\_decorators.py:36: FutureWarning: Pass the following variable as a keyword arg: x. From version 0.12, the only valid positional argument will be `data`, and passing other arguments without an explicit keyword will result in an error or misinterpretation.\n",
      "  warnings.warn(\n"
     ]
    },
    {
     "data": {
      "image/png": "[encoded data removed]",
      "text/plain": [
       "<Figure size 432x288 with 1 Axes>"
      ]
     },
     "metadata": {
      "needs_background": "light"
     },
     "output_type": "display_data"
    },
    {
     "name": "stderr",
     "output_type": "stream",
     "text": [
      "C:\\Users\\Rahul Deshmukh\\anaconda3\\lib\\site-packages\\seaborn\\_decorators.py:36: FutureWarning: Pass the following variable as a keyword arg: x. From version 0.12, the only valid positional argument will be `data`, and passing other arguments without an explicit keyword will result in an error or misinterpretation.\n",
      "  warnings.warn(\n"
     ]
    },
    {
     "data": {
      "image/png": "[encoded data removed]",
      "text/plain": [
       "<Figure size 432x288 with 1 Axes>"
      ]
     },
     "metadata": {
      "needs_background": "light"
     },
     "output_type": "display_data"
    },
    {
     "name": "stderr",
     "output_type": "stream",
     "text": [
      "C:\\Users\\Rahul Deshmukh\\anaconda3\\lib\\site-packages\\seaborn\\_decorators.py:36: FutureWarning: Pass the following variable as a keyword arg: x. From version 0.12, the only valid positional argument will be `data`, and passing other arguments without an explicit keyword will result in an error or misinterpretation.\n",
      "  warnings.warn(\n"
     ]
    },
    {
     "data": {
      "image/png": "[encoded data removed]",
      "text/plain": [
       "<Figure size 432x288 with 1 Axes>"
      ]
     },
     "metadata": {
      "needs_background": "light"
     },
     "output_type": "display_data"
    }
   ],
   "source": [
    "plot_count_cols = ['payment_method','car_type','max_capacity']\n",
    "for plots in plot_count_cols:\n",
    "  sns.countplot(dataset[plots])\n",
    "  plt.show()"
   ]
  },
  {
   "cell_type": "markdown",
   "metadata": {
    "id": "cQPQVETiCBcQ"
   },
   "source": [
    "### **Summary**\n",
    "\n",
    "* There are two type of payment methods people have used to buy the tickets.\n",
    "\n",
    "* There are two type of cars `Bus` and `shuttle` and the maximum capacity of the bus is 49 while shuttle can contain 11 travelers."
   ]
  },
  {
   "cell_type": "code",
   "execution_count": 13,
   "metadata": {
    "colab": {
     "base_uri": "https://localhost:8080/",
     "height": 297
    },
    "id": "cf8PqJxkzZw1",
    "outputId": "daf9fe44-e8d0-49d9-e197-9ba9a02a82d3"
   },
   "outputs": [
    {
     "data": {
      "text/plain": [
       "<AxesSubplot:xlabel='travel_from'>"
      ]
     },
     "execution_count": 13,
     "metadata": {},
     "output_type": "execute_result"
    },
    {
     "data": {
      "image/png": "[encoded data removed]",
      "text/plain": [
       "<Figure size 432x288 with 1 Axes>"
      ]
     },
     "metadata": {
      "needs_background": "light"
     },
     "output_type": "display_data"
    }
   ],
   "source": [
    "# ### Pattern of Traffic Flow \n",
    "\n",
    "count=(dataset.groupby([\"travel_from\"]).ride_id.count().rename(\"count_per_travel_from_dataset\")/len(dataset)).reset_index()\n",
    "count.plot(x=\"travel_from\",y=[\"count_per_travel_from_dataset\"])"
   ]
  },
  {
   "cell_type": "code",
   "execution_count": 14,
   "metadata": {
    "colab": {
     "base_uri": "https://localhost:8080/",
     "height": 312
    },
    "id": "0Zr5tUVGE0-v",
    "outputId": "d69dc81c-6307-49f9-f4c9-dfadff4b748c"
   },
   "outputs": [
    {
     "data": {
      "image/png": "[encoded data removed]",
      "text/plain": [
       "<Figure size 432x288 with 1 Axes>"
      ]
     },
     "metadata": {
      "needs_background": "light"
     },
     "output_type": "display_data"
    }
   ],
   "source": [
    "dataset['travel_from'].value_counts().plot(kind='bar')\n",
    "plt.show()"
   ]
  },
  {
   "cell_type": "code",
   "execution_count": 15,
   "metadata": {
    "colab": {
     "base_uri": "https://localhost:8080/",
     "height": 284
    },
    "id": "FRbD-PGhFxLs",
    "outputId": "33e6eef3-0f7f-4340-9901-63f40ef15490"
   },
   "outputs": [
    {
     "data": {
      "image/png": "[encoded data removed]",
      "text/plain": [
       "<Figure size 432x288 with 1 Axes>"
      ]
     },
     "metadata": {
      "needs_background": "light"
     },
     "output_type": "display_data"
    }
   ],
   "source": [
    "dataset['travel_time'].value_counts().plot(kind='bar')\n",
    "plt.show()"
   ]
  },
  {
   "cell_type": "code",
   "execution_count": 16,
   "metadata": {
    "colab": {
     "base_uri": "https://localhost:8080/",
     "height": 112
    },
    "id": "b5GqrM3I0sks",
    "outputId": "e58be3b7-8070-465e-efb4-515e05cfb04b"
   },
   "outputs": [
    {
     "data": {
      "text/html": [
       "<div>\n",
       "<style scoped>\n",
       "    .dataframe tbody tr th:only-of-type {\n",
       "        vertical-align: middle;\n",
       "    }\n",
       "\n",
       "    .dataframe tbody tr th {\n",
       "        vertical-align: top;\n",
       "    }\n",
       "\n",
       "    .dataframe thead th {\n",
       "        text-align: right;\n",
       "    }\n",
       "</style>\n",
       "<table border=\"1\" class=\"dataframe\">\n",
       "  <thead>\n",
       "    <tr style=\"text-align: right;\">\n",
       "      <th></th>\n",
       "      <th>ride_id</th>\n",
       "      <th>max_capacity</th>\n",
       "    </tr>\n",
       "  </thead>\n",
       "  <tbody>\n",
       "    <tr>\n",
       "      <th>ride_id</th>\n",
       "      <td>1.000000</td>\n",
       "      <td>0.295902</td>\n",
       "    </tr>\n",
       "    <tr>\n",
       "      <th>max_capacity</th>\n",
       "      <td>0.295902</td>\n",
       "      <td>1.000000</td>\n",
       "    </tr>\n",
       "  </tbody>\n",
       "</table>\n",
       "</div>"
      ],
      "text/plain": [
       "               ride_id  max_capacity\n",
       "ride_id       1.000000      0.295902\n",
       "max_capacity  0.295902      1.000000"
      ]
     },
     "execution_count": 16,
     "metadata": {},
     "output_type": "execute_result"
    }
   ],
   "source": [
    "dataset.corr()"
   ]
  },
  {
   "cell_type": "markdown",
   "metadata": {
    "id": "GWRzbGUKvQqt"
   },
   "source": [
    "### **Finding Our Target Variable**\n",
    "\n",
    "Since we are not given the target variable so we need to find target variable first.\n",
    "\n",
    "There might be many ways of finding the target variable but here I am using one way that is I will find the count of each `ride_id` and that will be the `number_of_ticket` as our target variable."
   ]
  },
  {
   "cell_type": "code",
   "execution_count": 17,
   "metadata": {
    "colab": {
     "base_uri": "https://localhost:8080/",
     "height": 206
    },
    "id": "xoLD9tzaysYB",
    "outputId": "5dc405fe-e704-490a-be67-c6d9f1ab6ab4"
   },
   "outputs": [
    {
     "data": {
      "text/html": [
       "<div>\n",
       "<style scoped>\n",
       "    .dataframe tbody tr th:only-of-type {\n",
       "        vertical-align: middle;\n",
       "    }\n",
       "\n",
       "    .dataframe tbody tr th {\n",
       "        vertical-align: top;\n",
       "    }\n",
       "\n",
       "    .dataframe thead th {\n",
       "        text-align: right;\n",
       "    }\n",
       "</style>\n",
       "<table border=\"1\" class=\"dataframe\">\n",
       "  <thead>\n",
       "    <tr style=\"text-align: right;\">\n",
       "      <th></th>\n",
       "      <th>ride_id</th>\n",
       "      <th>number_of_ticket</th>\n",
       "    </tr>\n",
       "  </thead>\n",
       "  <tbody>\n",
       "    <tr>\n",
       "      <th>0</th>\n",
       "      <td>1442</td>\n",
       "      <td>1</td>\n",
       "    </tr>\n",
       "    <tr>\n",
       "      <th>1</th>\n",
       "      <td>5437</td>\n",
       "      <td>1</td>\n",
       "    </tr>\n",
       "    <tr>\n",
       "      <th>2</th>\n",
       "      <td>5710</td>\n",
       "      <td>1</td>\n",
       "    </tr>\n",
       "    <tr>\n",
       "      <th>3</th>\n",
       "      <td>5777</td>\n",
       "      <td>5</td>\n",
       "    </tr>\n",
       "    <tr>\n",
       "      <th>4</th>\n",
       "      <td>5778</td>\n",
       "      <td>31</td>\n",
       "    </tr>\n",
       "  </tbody>\n",
       "</table>\n",
       "</div>"
      ],
      "text/plain": [
       "   ride_id  number_of_ticket\n",
       "0     1442                 1\n",
       "1     5437                 1\n",
       "2     5710                 1\n",
       "3     5777                 5\n",
       "4     5778                31"
      ]
     },
     "execution_count": 17,
     "metadata": {},
     "output_type": "execute_result"
    }
   ],
   "source": [
    "label=dataset.groupby([\"ride_id\"]).seat_number.count().rename(\"number_of_ticket\").reset_index()\n",
    "label.head()"
   ]
  },
  {
   "cell_type": "markdown",
   "metadata": {
    "id": "nhFX9vySv7rz"
   },
   "source": [
    "#### Now we found our target variable so let us delete the duplicate values from `ride_id` "
   ]
  },
  {
   "cell_type": "code",
   "execution_count": 18,
   "metadata": {
    "id": "JNiPFBF2JOz-"
   },
   "outputs": [],
   "source": [
    "\n",
    "dataset=dataset.drop_duplicates(\"ride_id\")"
   ]
  },
  {
   "cell_type": "code",
   "execution_count": 19,
   "metadata": {
    "colab": {
     "base_uri": "https://localhost:8080/"
    },
    "id": "cGWNTPbgwjJj",
    "outputId": "0bfa937b-6620-4978-8b7a-b669f0edf6c1"
   },
   "outputs": [
    {
     "data": {
      "text/plain": [
       "(6249, 10)"
      ]
     },
     "execution_count": 19,
     "metadata": {},
     "output_type": "execute_result"
    }
   ],
   "source": [
    "dataset.shape"
   ]
  },
  {
   "cell_type": "markdown",
   "metadata": {
    "id": "QXJQQrA5RNnl"
   },
   "source": [
    "Now let us merge two datasets on `ride_id` key to make the final dataset where we have dependent as well as independent variables too."
   ]
  },
  {
   "cell_type": "code",
   "execution_count": 20,
   "metadata": {
    "colab": {
     "base_uri": "https://localhost:8080/",
     "height": 250
    },
    "id": "CWHrzRkxwlRY",
    "outputId": "6b0a50b7-c5c9-4163-81a7-4ddd562fdc0e"
   },
   "outputs": [
    {
     "data": {
      "text/html": [
       "<div>\n",
       "<style scoped>\n",
       "    .dataframe tbody tr th:only-of-type {\n",
       "        vertical-align: middle;\n",
       "    }\n",
       "\n",
       "    .dataframe tbody tr th {\n",
       "        vertical-align: top;\n",
       "    }\n",
       "\n",
       "    .dataframe thead th {\n",
       "        text-align: right;\n",
       "    }\n",
       "</style>\n",
       "<table border=\"1\" class=\"dataframe\">\n",
       "  <thead>\n",
       "    <tr style=\"text-align: right;\">\n",
       "      <th></th>\n",
       "      <th>ride_id</th>\n",
       "      <th>seat_number</th>\n",
       "      <th>payment_method</th>\n",
       "      <th>payment_receipt</th>\n",
       "      <th>travel_date</th>\n",
       "      <th>travel_time</th>\n",
       "      <th>travel_from</th>\n",
       "      <th>travel_to</th>\n",
       "      <th>car_type</th>\n",
       "      <th>max_capacity</th>\n",
       "      <th>number_of_ticket</th>\n",
       "    </tr>\n",
       "  </thead>\n",
       "  <tbody>\n",
       "    <tr>\n",
       "      <th>0</th>\n",
       "      <td>1442</td>\n",
       "      <td>15A</td>\n",
       "      <td>Mpesa</td>\n",
       "      <td>UZUEHCBUSO</td>\n",
       "      <td>17-10-17</td>\n",
       "      <td>7:15</td>\n",
       "      <td>Migori</td>\n",
       "      <td>Nairobi</td>\n",
       "      <td>Bus</td>\n",
       "      <td>49</td>\n",
       "      <td>1</td>\n",
       "    </tr>\n",
       "    <tr>\n",
       "      <th>1</th>\n",
       "      <td>5437</td>\n",
       "      <td>14A</td>\n",
       "      <td>Mpesa</td>\n",
       "      <td>TIHLBUSGTE</td>\n",
       "      <td>19-11-17</td>\n",
       "      <td>7:12</td>\n",
       "      <td>Migori</td>\n",
       "      <td>Nairobi</td>\n",
       "      <td>Bus</td>\n",
       "      <td>49</td>\n",
       "      <td>1</td>\n",
       "    </tr>\n",
       "    <tr>\n",
       "      <th>2</th>\n",
       "      <td>5710</td>\n",
       "      <td>8B</td>\n",
       "      <td>Mpesa</td>\n",
       "      <td>EQX8Q5G19O</td>\n",
       "      <td>26-11-17</td>\n",
       "      <td>7:05</td>\n",
       "      <td>Keroka</td>\n",
       "      <td>Nairobi</td>\n",
       "      <td>Bus</td>\n",
       "      <td>49</td>\n",
       "      <td>1</td>\n",
       "    </tr>\n",
       "    <tr>\n",
       "      <th>3</th>\n",
       "      <td>5777</td>\n",
       "      <td>19A</td>\n",
       "      <td>Mpesa</td>\n",
       "      <td>SGP18CL0ME</td>\n",
       "      <td>27-11-17</td>\n",
       "      <td>7:10</td>\n",
       "      <td>Homa Bay</td>\n",
       "      <td>Nairobi</td>\n",
       "      <td>Bus</td>\n",
       "      <td>49</td>\n",
       "      <td>5</td>\n",
       "    </tr>\n",
       "    <tr>\n",
       "      <th>4</th>\n",
       "      <td>5778</td>\n",
       "      <td>11A</td>\n",
       "      <td>Mpesa</td>\n",
       "      <td>BM97HFRGL9</td>\n",
       "      <td>27-11-17</td>\n",
       "      <td>7:12</td>\n",
       "      <td>Migori</td>\n",
       "      <td>Nairobi</td>\n",
       "      <td>Bus</td>\n",
       "      <td>49</td>\n",
       "      <td>31</td>\n",
       "    </tr>\n",
       "  </tbody>\n",
       "</table>\n",
       "</div>"
      ],
      "text/plain": [
       "   ride_id seat_number payment_method payment_receipt travel_date travel_time  \\\n",
       "0     1442         15A          Mpesa      UZUEHCBUSO    17-10-17        7:15   \n",
       "1     5437         14A          Mpesa      TIHLBUSGTE    19-11-17        7:12   \n",
       "2     5710          8B          Mpesa      EQX8Q5G19O    26-11-17        7:05   \n",
       "3     5777         19A          Mpesa      SGP18CL0ME    27-11-17        7:10   \n",
       "4     5778         11A          Mpesa      BM97HFRGL9    27-11-17        7:12   \n",
       "\n",
       "  travel_from travel_to car_type  max_capacity  number_of_ticket  \n",
       "0      Migori   Nairobi      Bus            49                 1  \n",
       "1      Migori   Nairobi      Bus            49                 1  \n",
       "2      Keroka   Nairobi      Bus            49                 1  \n",
       "3    Homa Bay   Nairobi      Bus            49                 5  \n",
       "4      Migori   Nairobi      Bus            49                31  "
      ]
     },
     "execution_count": 20,
     "metadata": {},
     "output_type": "execute_result"
    }
   ],
   "source": [
    "\n",
    "dataset = dataset.merge(label, how=\"left\",on=\"ride_id\")\n",
    "dataset.head()"
   ]
  },
  {
   "cell_type": "markdown",
   "metadata": {
    "id": "Q3gT4khyT1ut"
   },
   "source": [
    "Now we have found our final dataset so let us remove some features that doesn't seem to be important for predicting the number of tickets in our model"
   ]
  },
  {
   "cell_type": "code",
   "execution_count": 21,
   "metadata": {
    "id": "XTdQoPB19bLF"
   },
   "outputs": [],
   "source": [
    "dataset = dataset.drop(['seat_number','payment_method','payment_receipt'], axis=1)"
   ]
  },
  {
   "cell_type": "code",
   "execution_count": 22,
   "metadata": {
    "id": "Vekj7BvdzGKy"
   },
   "outputs": [],
   "source": [
    "\n",
    "# X = dataset.drop('number_of_ticket', axis=1)\n",
    "# y = dataset['number_of_ticket']"
   ]
  },
  {
   "cell_type": "markdown",
   "metadata": {
    "id": "gC8VAZ-u5NQq"
   },
   "source": [
    "### **Removing Constant Features**\n",
    "\n",
    "We need to first remove the constant features. "
   ]
  },
  {
   "cell_type": "code",
   "execution_count": 23,
   "metadata": {
    "id": "rN-Bmvf9-_h4"
   },
   "outputs": [],
   "source": [
    "import warnings\n",
    "warnings.filterwarnings('ignore')"
   ]
  },
  {
   "cell_type": "code",
   "execution_count": 24,
   "metadata": {
    "id": "NUFkLaH646np"
   },
   "outputs": [],
   "source": [
    "dataset.drop([\"travel_to\"],axis=1,inplace=True)\n"
   ]
  },
  {
   "cell_type": "code",
   "execution_count": 25,
   "metadata": {
    "colab": {
     "base_uri": "https://localhost:8080/",
     "height": 874
    },
    "id": "fm91sYn7-_4u",
    "outputId": "d0d499ff-83f0-4536-cc86-1dc8906b36f4"
   },
   "outputs": [
    {
     "data": {
      "image/png": "[encoded data removed]",
      "text/plain": [
       "<Figure size 1440x1080 with 1 Axes>"
      ]
     },
     "metadata": {
      "needs_background": "light"
     },
     "output_type": "display_data"
    }
   ],
   "source": [
    "plt.figure(figsize=(20, 15))\n",
    "\n",
    "sp = sns.scatterplot(x=\"travel_from\", y=\"number_of_ticket\", data=dataset)"
   ]
  },
  {
   "cell_type": "code",
   "execution_count": null,
   "metadata": {
    "id": "jjNlBkuMII9b"
   },
   "outputs": [],
   "source": []
  },
  {
   "cell_type": "markdown",
   "metadata": {
    "id": "qJe8Nk8hPzMB"
   },
   "source": [
    "### **Feature Engineering**"
   ]
  },
  {
   "cell_type": "code",
   "execution_count": 26,
   "metadata": {
    "id": "U7uyw07tAY4D"
   },
   "outputs": [],
   "source": [
    "#concatinate travel date and travel time column and make a new feature called date.\n",
    "dataset[\"date\"]=dataset[\"travel_date\"]+ \" \"+dataset[\"travel_time\"]\n"
   ]
  },
  {
   "cell_type": "code",
   "execution_count": 27,
   "metadata": {
    "id": "sZeM4lQ-ANsm"
   },
   "outputs": [],
   "source": [
    "def  time_features(df): \n",
    "\n",
    "  '''This function takes dataframe as an argument and extracts the\n",
    "  different features from the date variable of the dataset and finaly returns the updated \n",
    "  dataset'''\n",
    "  \n",
    "  df[\"date\"]=pd.to_datetime(df[\"date\"])\n",
    "  df[\"day_of_week\"]=df[\"date\"].dt.dayofweek\n",
    "  df[\"day_of_year\"]=df[\"date\"].dt.dayofyear\n",
    "  df[\"day_of_month\"]=df[\"date\"].dt.day\n",
    "  df[\"year_woy\"]=df[\"date\"].dt.year.astype(str)+df[\"date\"].dt.weekofyear.astype(str)\n",
    "  df[\"hour\"]=df[\"date\"].dt.hour\n",
    "  df[\"minute\"]=df[\"date\"].dt.minute\n",
    "  df[\"is_weekend\"]=df[\"day_of_week\"].apply( lambda x : 1 if x  in [5,6] else 0 )\n",
    "  df[\"year\"]=df[\"date\"].dt.year\n",
    "  df[\"quarter\"]=df[\"date\"].dt.quarter\n",
    "  df[\"month\"]=df[\"date\"].dt.month\n",
    "  return df"
   ]
  },
  {
   "cell_type": "code",
   "execution_count": 28,
   "metadata": {
    "id": "6zeNvx-kwqRE"
   },
   "outputs": [],
   "source": [
    "dataset_new = time_features(dataset)"
   ]
  },
  {
   "cell_type": "code",
   "execution_count": 29,
   "metadata": {
    "colab": {
     "base_uri": "https://localhost:8080/",
     "height": 444
    },
    "id": "ekKq0AlcwxNp",
    "outputId": "aed4670c-c001-4cf5-c17c-437ab39e05d3"
   },
   "outputs": [
    {
     "data": {
      "text/html": [
       "<div>\n",
       "<style scoped>\n",
       "    .dataframe tbody tr th:only-of-type {\n",
       "        vertical-align: middle;\n",
       "    }\n",
       "\n",
       "    .dataframe tbody tr th {\n",
       "        vertical-align: top;\n",
       "    }\n",
       "\n",
       "    .dataframe thead th {\n",
       "        text-align: right;\n",
       "    }\n",
       "</style>\n",
       "<table border=\"1\" class=\"dataframe\">\n",
       "  <thead>\n",
       "    <tr style=\"text-align: right;\">\n",
       "      <th></th>\n",
       "      <th>ride_id</th>\n",
       "      <th>travel_date</th>\n",
       "      <th>travel_time</th>\n",
       "      <th>travel_from</th>\n",
       "      <th>car_type</th>\n",
       "      <th>max_capacity</th>\n",
       "      <th>number_of_ticket</th>\n",
       "      <th>date</th>\n",
       "      <th>day_of_week</th>\n",
       "      <th>day_of_year</th>\n",
       "      <th>day_of_month</th>\n",
       "      <th>year_woy</th>\n",
       "      <th>hour</th>\n",
       "      <th>minute</th>\n",
       "      <th>is_weekend</th>\n",
       "      <th>year</th>\n",
       "      <th>quarter</th>\n",
       "      <th>month</th>\n",
       "    </tr>\n",
       "  </thead>\n",
       "  <tbody>\n",
       "    <tr>\n",
       "      <th>0</th>\n",
       "      <td>1442</td>\n",
       "      <td>17-10-17</td>\n",
       "      <td>7:15</td>\n",
       "      <td>Migori</td>\n",
       "      <td>Bus</td>\n",
       "      <td>49</td>\n",
       "      <td>1</td>\n",
       "      <td>2017-10-17 07:15:00</td>\n",
       "      <td>1</td>\n",
       "      <td>290</td>\n",
       "      <td>17</td>\n",
       "      <td>201742</td>\n",
       "      <td>7</td>\n",
       "      <td>15</td>\n",
       "      <td>0</td>\n",
       "      <td>2017</td>\n",
       "      <td>4</td>\n",
       "      <td>10</td>\n",
       "    </tr>\n",
       "    <tr>\n",
       "      <th>1</th>\n",
       "      <td>5437</td>\n",
       "      <td>19-11-17</td>\n",
       "      <td>7:12</td>\n",
       "      <td>Migori</td>\n",
       "      <td>Bus</td>\n",
       "      <td>49</td>\n",
       "      <td>1</td>\n",
       "      <td>2017-11-19 07:12:00</td>\n",
       "      <td>6</td>\n",
       "      <td>323</td>\n",
       "      <td>19</td>\n",
       "      <td>201746</td>\n",
       "      <td>7</td>\n",
       "      <td>12</td>\n",
       "      <td>1</td>\n",
       "      <td>2017</td>\n",
       "      <td>4</td>\n",
       "      <td>11</td>\n",
       "    </tr>\n",
       "    <tr>\n",
       "      <th>2</th>\n",
       "      <td>5710</td>\n",
       "      <td>26-11-17</td>\n",
       "      <td>7:05</td>\n",
       "      <td>Keroka</td>\n",
       "      <td>Bus</td>\n",
       "      <td>49</td>\n",
       "      <td>1</td>\n",
       "      <td>2017-11-26 07:05:00</td>\n",
       "      <td>6</td>\n",
       "      <td>330</td>\n",
       "      <td>26</td>\n",
       "      <td>201747</td>\n",
       "      <td>7</td>\n",
       "      <td>5</td>\n",
       "      <td>1</td>\n",
       "      <td>2017</td>\n",
       "      <td>4</td>\n",
       "      <td>11</td>\n",
       "    </tr>\n",
       "    <tr>\n",
       "      <th>3</th>\n",
       "      <td>5777</td>\n",
       "      <td>27-11-17</td>\n",
       "      <td>7:10</td>\n",
       "      <td>Homa Bay</td>\n",
       "      <td>Bus</td>\n",
       "      <td>49</td>\n",
       "      <td>5</td>\n",
       "      <td>2017-11-27 07:10:00</td>\n",
       "      <td>0</td>\n",
       "      <td>331</td>\n",
       "      <td>27</td>\n",
       "      <td>201748</td>\n",
       "      <td>7</td>\n",
       "      <td>10</td>\n",
       "      <td>0</td>\n",
       "      <td>2017</td>\n",
       "      <td>4</td>\n",
       "      <td>11</td>\n",
       "    </tr>\n",
       "    <tr>\n",
       "      <th>4</th>\n",
       "      <td>5778</td>\n",
       "      <td>27-11-17</td>\n",
       "      <td>7:12</td>\n",
       "      <td>Migori</td>\n",
       "      <td>Bus</td>\n",
       "      <td>49</td>\n",
       "      <td>31</td>\n",
       "      <td>2017-11-27 07:12:00</td>\n",
       "      <td>0</td>\n",
       "      <td>331</td>\n",
       "      <td>27</td>\n",
       "      <td>201748</td>\n",
       "      <td>7</td>\n",
       "      <td>12</td>\n",
       "      <td>0</td>\n",
       "      <td>2017</td>\n",
       "      <td>4</td>\n",
       "      <td>11</td>\n",
       "    </tr>\n",
       "  </tbody>\n",
       "</table>\n",
       "</div>"
      ],
      "text/plain": [
       "   ride_id travel_date travel_time travel_from car_type  max_capacity  \\\n",
       "0     1442    17-10-17        7:15      Migori      Bus            49   \n",
       "1     5437    19-11-17        7:12      Migori      Bus            49   \n",
       "2     5710    26-11-17        7:05      Keroka      Bus            49   \n",
       "3     5777    27-11-17        7:10    Homa Bay      Bus            49   \n",
       "4     5778    27-11-17        7:12      Migori      Bus            49   \n",
       "\n",
       "   number_of_ticket                date  day_of_week  day_of_year  \\\n",
       "0                 1 2017-10-17 07:15:00            1          290   \n",
       "1                 1 2017-11-19 07:12:00            6          323   \n",
       "2                 1 2017-11-26 07:05:00            6          330   \n",
       "3                 5 2017-11-27 07:10:00            0          331   \n",
       "4                31 2017-11-27 07:12:00            0          331   \n",
       "\n",
       "   day_of_month year_woy  hour  minute  is_weekend  year  quarter  month  \n",
       "0            17   201742     7      15           0  2017        4     10  \n",
       "1            19   201746     7      12           1  2017        4     11  \n",
       "2            26   201747     7       5           1  2017        4     11  \n",
       "3            27   201748     7      10           0  2017        4     11  \n",
       "4            27   201748     7      12           0  2017        4     11  "
      ]
     },
     "execution_count": 29,
     "metadata": {},
     "output_type": "execute_result"
    }
   ],
   "source": [
    "dataset_new.head()"
   ]
  },
  {
   "cell_type": "code",
   "execution_count": 30,
   "metadata": {
    "colab": {
     "base_uri": "https://localhost:8080/",
     "height": 891
    },
    "id": "HeQHfmKIJRgl",
    "outputId": "0d34b498-e495-4cdd-ed40-6cda9074ae7e"
   },
   "outputs": [
    {
     "data": {
      "text/plain": [
       "<AxesSubplot:xlabel='day_of_month', ylabel='number_of_ticket'>"
      ]
     },
     "execution_count": 30,
     "metadata": {},
     "output_type": "execute_result"
    },
    {
     "data": {
      "image/png": "[encoded data removed]",
      "text/plain": [
       "<Figure size 1440x1080 with 1 Axes>"
      ]
     },
     "metadata": {
      "needs_background": "light"
     },
     "output_type": "display_data"
    }
   ],
   "source": [
    "#visualization of day_of_month & number_of_ticket using scaterplot\n",
    "plt.figure(figsize=(20, 15))\n",
    "\n",
    "sns.scatterplot(x='day_of_month', y=\"number_of_ticket\", data=dataset)\n"
   ]
  },
  {
   "cell_type": "markdown",
   "metadata": {
    "id": "dZmG4pPiLdLt"
   },
   "source": [
    "### **Summary**\n",
    "\n",
    "* We can see that there is the gap between 5 to 11 in the day of the month. We can assume that there is official holyday of public transport between these days. we can also say that the number of tickets in all the days of month are same.\n"
   ]
  },
  {
   "cell_type": "code",
   "execution_count": 31,
   "metadata": {
    "colab": {
     "base_uri": "https://localhost:8080/",
     "height": 890
    },
    "id": "vyandqYzMtP9",
    "outputId": "2f270981-191a-463a-869d-f468d4fd11cb"
   },
   "outputs": [
    {
     "data": {
      "text/plain": [
       "<AxesSubplot:xlabel='hour', ylabel='number_of_ticket'>"
      ]
     },
     "execution_count": 31,
     "metadata": {},
     "output_type": "execute_result"
    },
    {
     "data": {
      "image/png": "[encoded data removed]",
      "text/plain": [
       "<Figure size 1440x1080 with 1 Axes>"
      ]
     },
     "metadata": {
      "needs_background": "light"
     },
     "output_type": "display_data"
    }
   ],
   "source": [
    "#visualization of hour & number_of_ticket using scaterplot\n",
    "plt.figure(figsize=(20, 15))\n",
    "\n",
    "sns.scatterplot(x='hour', y=\"number_of_ticket\", data=dataset)"
   ]
  },
  {
   "cell_type": "markdown",
   "metadata": {
    "id": "cFNKHfbYM7gK"
   },
   "source": [
    "### **Summary**\n",
    "* We can see that most of the ticktes were sold at  7 AM and 8 PM. And that seems true because in the morning most of the people go to the work and office.\n",
    "\n",
    "* From the above we can say that there is not ride between 12pm to 5.30Pm "
   ]
  },
  {
   "cell_type": "code",
   "execution_count": 32,
   "metadata": {
    "id": "uTHgL7MCxjkO"
   },
   "outputs": [],
   "source": [
    "# Calculating total travel time\n",
    "\n",
    "dataset_new[\"travel_time\"] = dataset_new[\"travel_time\"].str.split(':').apply(lambda x: int(x[0]) + int(x[1])/60)"
   ]
  },
  {
   "cell_type": "code",
   "execution_count": 33,
   "metadata": {
    "colab": {
     "base_uri": "https://localhost:8080/",
     "height": 444
    },
    "id": "jzGQVPLtyxMW",
    "outputId": "6c4164f9-067a-431f-c1e9-8ad6821663f6"
   },
   "outputs": [
    {
     "data": {
      "text/html": [
       "<div>\n",
       "<style scoped>\n",
       "    .dataframe tbody tr th:only-of-type {\n",
       "        vertical-align: middle;\n",
       "    }\n",
       "\n",
       "    .dataframe tbody tr th {\n",
       "        vertical-align: top;\n",
       "    }\n",
       "\n",
       "    .dataframe thead th {\n",
       "        text-align: right;\n",
       "    }\n",
       "</style>\n",
       "<table border=\"1\" class=\"dataframe\">\n",
       "  <thead>\n",
       "    <tr style=\"text-align: right;\">\n",
       "      <th></th>\n",
       "      <th>ride_id</th>\n",
       "      <th>travel_date</th>\n",
       "      <th>travel_time</th>\n",
       "      <th>travel_from</th>\n",
       "      <th>car_type</th>\n",
       "      <th>max_capacity</th>\n",
       "      <th>number_of_ticket</th>\n",
       "      <th>date</th>\n",
       "      <th>day_of_week</th>\n",
       "      <th>day_of_year</th>\n",
       "      <th>...</th>\n",
       "      <th>year_woy</th>\n",
       "      <th>hour</th>\n",
       "      <th>minute</th>\n",
       "      <th>is_weekend</th>\n",
       "      <th>year</th>\n",
       "      <th>quarter</th>\n",
       "      <th>month</th>\n",
       "      <th>period</th>\n",
       "      <th>hourly_travelers</th>\n",
       "      <th>daily_travelers</th>\n",
       "    </tr>\n",
       "  </thead>\n",
       "  <tbody>\n",
       "    <tr>\n",
       "      <th>0</th>\n",
       "      <td>1442</td>\n",
       "      <td>17-10-17</td>\n",
       "      <td>7.250000</td>\n",
       "      <td>Migori</td>\n",
       "      <td>Bus</td>\n",
       "      <td>49</td>\n",
       "      <td>1</td>\n",
       "      <td>2017-10-17 07:15:00</td>\n",
       "      <td>1</td>\n",
       "      <td>290</td>\n",
       "      <td>...</td>\n",
       "      <td>201742</td>\n",
       "      <td>7</td>\n",
       "      <td>15</td>\n",
       "      <td>0</td>\n",
       "      <td>2017</td>\n",
       "      <td>4</td>\n",
       "      <td>10</td>\n",
       "      <td>am</td>\n",
       "      <td>8.494743</td>\n",
       "      <td>0.693147</td>\n",
       "    </tr>\n",
       "    <tr>\n",
       "      <th>1</th>\n",
       "      <td>5437</td>\n",
       "      <td>19-11-17</td>\n",
       "      <td>7.200000</td>\n",
       "      <td>Migori</td>\n",
       "      <td>Bus</td>\n",
       "      <td>49</td>\n",
       "      <td>1</td>\n",
       "      <td>2017-11-19 07:12:00</td>\n",
       "      <td>6</td>\n",
       "      <td>323</td>\n",
       "      <td>...</td>\n",
       "      <td>201746</td>\n",
       "      <td>7</td>\n",
       "      <td>12</td>\n",
       "      <td>1</td>\n",
       "      <td>2017</td>\n",
       "      <td>4</td>\n",
       "      <td>11</td>\n",
       "      <td>am</td>\n",
       "      <td>8.494743</td>\n",
       "      <td>0.693147</td>\n",
       "    </tr>\n",
       "    <tr>\n",
       "      <th>2</th>\n",
       "      <td>5710</td>\n",
       "      <td>26-11-17</td>\n",
       "      <td>7.083333</td>\n",
       "      <td>Keroka</td>\n",
       "      <td>Bus</td>\n",
       "      <td>49</td>\n",
       "      <td>1</td>\n",
       "      <td>2017-11-26 07:05:00</td>\n",
       "      <td>6</td>\n",
       "      <td>330</td>\n",
       "      <td>...</td>\n",
       "      <td>201747</td>\n",
       "      <td>7</td>\n",
       "      <td>5</td>\n",
       "      <td>1</td>\n",
       "      <td>2017</td>\n",
       "      <td>4</td>\n",
       "      <td>11</td>\n",
       "      <td>am</td>\n",
       "      <td>8.494743</td>\n",
       "      <td>0.693147</td>\n",
       "    </tr>\n",
       "    <tr>\n",
       "      <th>3</th>\n",
       "      <td>5777</td>\n",
       "      <td>27-11-17</td>\n",
       "      <td>7.166667</td>\n",
       "      <td>Homa Bay</td>\n",
       "      <td>Bus</td>\n",
       "      <td>49</td>\n",
       "      <td>5</td>\n",
       "      <td>2017-11-27 07:10:00</td>\n",
       "      <td>0</td>\n",
       "      <td>331</td>\n",
       "      <td>...</td>\n",
       "      <td>201748</td>\n",
       "      <td>7</td>\n",
       "      <td>10</td>\n",
       "      <td>0</td>\n",
       "      <td>2017</td>\n",
       "      <td>4</td>\n",
       "      <td>11</td>\n",
       "      <td>am</td>\n",
       "      <td>8.494743</td>\n",
       "      <td>3.871201</td>\n",
       "    </tr>\n",
       "    <tr>\n",
       "      <th>4</th>\n",
       "      <td>5778</td>\n",
       "      <td>27-11-17</td>\n",
       "      <td>7.200000</td>\n",
       "      <td>Migori</td>\n",
       "      <td>Bus</td>\n",
       "      <td>49</td>\n",
       "      <td>31</td>\n",
       "      <td>2017-11-27 07:12:00</td>\n",
       "      <td>0</td>\n",
       "      <td>331</td>\n",
       "      <td>...</td>\n",
       "      <td>201748</td>\n",
       "      <td>7</td>\n",
       "      <td>12</td>\n",
       "      <td>0</td>\n",
       "      <td>2017</td>\n",
       "      <td>4</td>\n",
       "      <td>11</td>\n",
       "      <td>am</td>\n",
       "      <td>8.494743</td>\n",
       "      <td>3.871201</td>\n",
       "    </tr>\n",
       "  </tbody>\n",
       "</table>\n",
       "<p>5 rows × 21 columns</p>\n",
       "</div>"
      ],
      "text/plain": [
       "   ride_id travel_date  travel_time travel_from car_type  max_capacity  \\\n",
       "0     1442    17-10-17     7.250000      Migori      Bus            49   \n",
       "1     5437    19-11-17     7.200000      Migori      Bus            49   \n",
       "2     5710    26-11-17     7.083333      Keroka      Bus            49   \n",
       "3     5777    27-11-17     7.166667    Homa Bay      Bus            49   \n",
       "4     5778    27-11-17     7.200000      Migori      Bus            49   \n",
       "\n",
       "   number_of_ticket                date  day_of_week  day_of_year  ...  \\\n",
       "0                 1 2017-10-17 07:15:00            1          290  ...   \n",
       "1                 1 2017-11-19 07:12:00            6          323  ...   \n",
       "2                 1 2017-11-26 07:05:00            6          330  ...   \n",
       "3                 5 2017-11-27 07:10:00            0          331  ...   \n",
       "4                31 2017-11-27 07:12:00            0          331  ...   \n",
       "\n",
       "   year_woy hour  minute  is_weekend  year  quarter  month  period  \\\n",
       "0    201742    7      15           0  2017        4     10      am   \n",
       "1    201746    7      12           1  2017        4     11      am   \n",
       "2    201747    7       5           1  2017        4     11      am   \n",
       "3    201748    7      10           0  2017        4     11      am   \n",
       "4    201748    7      12           0  2017        4     11      am   \n",
       "\n",
       "  hourly_travelers  daily_travelers  \n",
       "0         8.494743         0.693147  \n",
       "1         8.494743         0.693147  \n",
       "2         8.494743         0.693147  \n",
       "3         8.494743         3.871201  \n",
       "4         8.494743         3.871201  \n",
       "\n",
       "[5 rows x 21 columns]"
      ]
     },
     "execution_count": 33,
     "metadata": {},
     "output_type": "execute_result"
    }
   ],
   "source": [
    "# splitting time period into AM, MID, Evening & PM\n",
    "\n",
    "dataset_new['period'] = np.nan\n",
    "\n",
    "dataset_new.loc[dataset_new.travel_time < 7, 'period'] = 'em'\n",
    "dataset_new.loc[(dataset_new.travel_time >= 7) & (dataset_new.travel_time < 11), 'period'] = 'am'\n",
    "dataset_new.loc[(dataset_new.travel_time >= 11) & (dataset_new.travel_time < 15), 'period'] = 'mid'\n",
    "dataset_new.loc[(dataset_new.travel_time >= 15) & (dataset_new.travel_time < 19), 'period'] = 'eve'\n",
    "dataset_new.loc[(dataset_new.travel_time >= 19) & (dataset_new.travel_time <= 24), 'period'] = 'pm'\n",
    "\n",
    "\n",
    "pcount = dict(dataset_new['period'].value_counts())\n",
    "pcount\n",
    "\n",
    "\n",
    "dataset_new['hourly_travelers'] = np.log1p(dataset_new['period'].map(pcount))\n",
    "\n",
    "\n",
    "\n",
    "dcount = dict(dataset_new[\"day_of_year\"].value_counts())\n",
    "dataset_new[\"daily_travelers\"] = np.log1p(dataset_new[\"day_of_year\"].map(dcount))\n",
    "dataset_new.head()"
   ]
  },
  {
   "cell_type": "code",
   "execution_count": 34,
   "metadata": {
    "colab": {
     "base_uri": "https://localhost:8080/"
    },
    "id": "SSU_T86WxLLE",
    "outputId": "129d73c3-303f-4c48-9c82-c7ee5c832039"
   },
   "outputs": [
    {
     "data": {
      "text/plain": [
       "Index(['ride_id', 'travel_date', 'travel_time', 'travel_from', 'car_type',\n",
       "       'max_capacity', 'number_of_ticket', 'date', 'day_of_week',\n",
       "       'day_of_year', 'day_of_month', 'year_woy', 'hour', 'minute',\n",
       "       'is_weekend', 'year', 'quarter', 'month', 'period', 'hourly_travelers',\n",
       "       'daily_travelers'],\n",
       "      dtype='object')"
      ]
     },
     "execution_count": 34,
     "metadata": {},
     "output_type": "execute_result"
    }
   ],
   "source": [
    "dataset_new.columns    ##Checking the columns"
   ]
  },
  {
   "cell_type": "code",
   "execution_count": 35,
   "metadata": {
    "id": "uE02HAGmxQ2z"
   },
   "outputs": [],
   "source": [
    "new_cols = ['day_of_year','daily_travelers','minute','day_of_month','hourly_travelers','is_weekend','day_of_week']"
   ]
  },
  {
   "cell_type": "code",
   "execution_count": 36,
   "metadata": {
    "id": "2bIcC3wqAmN4"
   },
   "outputs": [],
   "source": [
    "transport_dataset=dataset_new.copy()"
   ]
  },
  {
   "cell_type": "code",
   "execution_count": 37,
   "metadata": {
    "colab": {
     "base_uri": "https://localhost:8080/",
     "height": 444
    },
    "id": "2qf12DUDBR4X",
    "outputId": "bb9f1b36-1595-448b-da36-f01f5a53b79a"
   },
   "outputs": [
    {
     "data": {
      "text/html": [
       "<div>\n",
       "<style scoped>\n",
       "    .dataframe tbody tr th:only-of-type {\n",
       "        vertical-align: middle;\n",
       "    }\n",
       "\n",
       "    .dataframe tbody tr th {\n",
       "        vertical-align: top;\n",
       "    }\n",
       "\n",
       "    .dataframe thead th {\n",
       "        text-align: right;\n",
       "    }\n",
       "</style>\n",
       "<table border=\"1\" class=\"dataframe\">\n",
       "  <thead>\n",
       "    <tr style=\"text-align: right;\">\n",
       "      <th></th>\n",
       "      <th>ride_id</th>\n",
       "      <th>travel_date</th>\n",
       "      <th>travel_time</th>\n",
       "      <th>travel_from</th>\n",
       "      <th>car_type</th>\n",
       "      <th>max_capacity</th>\n",
       "      <th>number_of_ticket</th>\n",
       "      <th>date</th>\n",
       "      <th>day_of_week</th>\n",
       "      <th>day_of_year</th>\n",
       "      <th>...</th>\n",
       "      <th>year_woy</th>\n",
       "      <th>hour</th>\n",
       "      <th>minute</th>\n",
       "      <th>is_weekend</th>\n",
       "      <th>year</th>\n",
       "      <th>quarter</th>\n",
       "      <th>month</th>\n",
       "      <th>period</th>\n",
       "      <th>hourly_travelers</th>\n",
       "      <th>daily_travelers</th>\n",
       "    </tr>\n",
       "  </thead>\n",
       "  <tbody>\n",
       "    <tr>\n",
       "      <th>0</th>\n",
       "      <td>1442</td>\n",
       "      <td>17-10-17</td>\n",
       "      <td>7.250000</td>\n",
       "      <td>Migori</td>\n",
       "      <td>Bus</td>\n",
       "      <td>49</td>\n",
       "      <td>1</td>\n",
       "      <td>2017-10-17 07:15:00</td>\n",
       "      <td>1</td>\n",
       "      <td>290</td>\n",
       "      <td>...</td>\n",
       "      <td>201742</td>\n",
       "      <td>7</td>\n",
       "      <td>15</td>\n",
       "      <td>0</td>\n",
       "      <td>2017</td>\n",
       "      <td>4</td>\n",
       "      <td>10</td>\n",
       "      <td>am</td>\n",
       "      <td>8.494743</td>\n",
       "      <td>0.693147</td>\n",
       "    </tr>\n",
       "    <tr>\n",
       "      <th>1</th>\n",
       "      <td>5437</td>\n",
       "      <td>19-11-17</td>\n",
       "      <td>7.200000</td>\n",
       "      <td>Migori</td>\n",
       "      <td>Bus</td>\n",
       "      <td>49</td>\n",
       "      <td>1</td>\n",
       "      <td>2017-11-19 07:12:00</td>\n",
       "      <td>6</td>\n",
       "      <td>323</td>\n",
       "      <td>...</td>\n",
       "      <td>201746</td>\n",
       "      <td>7</td>\n",
       "      <td>12</td>\n",
       "      <td>1</td>\n",
       "      <td>2017</td>\n",
       "      <td>4</td>\n",
       "      <td>11</td>\n",
       "      <td>am</td>\n",
       "      <td>8.494743</td>\n",
       "      <td>0.693147</td>\n",
       "    </tr>\n",
       "    <tr>\n",
       "      <th>2</th>\n",
       "      <td>5710</td>\n",
       "      <td>26-11-17</td>\n",
       "      <td>7.083333</td>\n",
       "      <td>Keroka</td>\n",
       "      <td>Bus</td>\n",
       "      <td>49</td>\n",
       "      <td>1</td>\n",
       "      <td>2017-11-26 07:05:00</td>\n",
       "      <td>6</td>\n",
       "      <td>330</td>\n",
       "      <td>...</td>\n",
       "      <td>201747</td>\n",
       "      <td>7</td>\n",
       "      <td>5</td>\n",
       "      <td>1</td>\n",
       "      <td>2017</td>\n",
       "      <td>4</td>\n",
       "      <td>11</td>\n",
       "      <td>am</td>\n",
       "      <td>8.494743</td>\n",
       "      <td>0.693147</td>\n",
       "    </tr>\n",
       "    <tr>\n",
       "      <th>3</th>\n",
       "      <td>5777</td>\n",
       "      <td>27-11-17</td>\n",
       "      <td>7.166667</td>\n",
       "      <td>Homa Bay</td>\n",
       "      <td>Bus</td>\n",
       "      <td>49</td>\n",
       "      <td>5</td>\n",
       "      <td>2017-11-27 07:10:00</td>\n",
       "      <td>0</td>\n",
       "      <td>331</td>\n",
       "      <td>...</td>\n",
       "      <td>201748</td>\n",
       "      <td>7</td>\n",
       "      <td>10</td>\n",
       "      <td>0</td>\n",
       "      <td>2017</td>\n",
       "      <td>4</td>\n",
       "      <td>11</td>\n",
       "      <td>am</td>\n",
       "      <td>8.494743</td>\n",
       "      <td>3.871201</td>\n",
       "    </tr>\n",
       "    <tr>\n",
       "      <th>4</th>\n",
       "      <td>5778</td>\n",
       "      <td>27-11-17</td>\n",
       "      <td>7.200000</td>\n",
       "      <td>Migori</td>\n",
       "      <td>Bus</td>\n",
       "      <td>49</td>\n",
       "      <td>31</td>\n",
       "      <td>2017-11-27 07:12:00</td>\n",
       "      <td>0</td>\n",
       "      <td>331</td>\n",
       "      <td>...</td>\n",
       "      <td>201748</td>\n",
       "      <td>7</td>\n",
       "      <td>12</td>\n",
       "      <td>0</td>\n",
       "      <td>2017</td>\n",
       "      <td>4</td>\n",
       "      <td>11</td>\n",
       "      <td>am</td>\n",
       "      <td>8.494743</td>\n",
       "      <td>3.871201</td>\n",
       "    </tr>\n",
       "  </tbody>\n",
       "</table>\n",
       "<p>5 rows × 21 columns</p>\n",
       "</div>"
      ],
      "text/plain": [
       "   ride_id travel_date  travel_time travel_from car_type  max_capacity  \\\n",
       "0     1442    17-10-17     7.250000      Migori      Bus            49   \n",
       "1     5437    19-11-17     7.200000      Migori      Bus            49   \n",
       "2     5710    26-11-17     7.083333      Keroka      Bus            49   \n",
       "3     5777    27-11-17     7.166667    Homa Bay      Bus            49   \n",
       "4     5778    27-11-17     7.200000      Migori      Bus            49   \n",
       "\n",
       "   number_of_ticket                date  day_of_week  day_of_year  ...  \\\n",
       "0                 1 2017-10-17 07:15:00            1          290  ...   \n",
       "1                 1 2017-11-19 07:12:00            6          323  ...   \n",
       "2                 1 2017-11-26 07:05:00            6          330  ...   \n",
       "3                 5 2017-11-27 07:10:00            0          331  ...   \n",
       "4                31 2017-11-27 07:12:00            0          331  ...   \n",
       "\n",
       "   year_woy hour  minute  is_weekend  year  quarter  month  period  \\\n",
       "0    201742    7      15           0  2017        4     10      am   \n",
       "1    201746    7      12           1  2017        4     11      am   \n",
       "2    201747    7       5           1  2017        4     11      am   \n",
       "3    201748    7      10           0  2017        4     11      am   \n",
       "4    201748    7      12           0  2017        4     11      am   \n",
       "\n",
       "  hourly_travelers  daily_travelers  \n",
       "0         8.494743         0.693147  \n",
       "1         8.494743         0.693147  \n",
       "2         8.494743         0.693147  \n",
       "3         8.494743         3.871201  \n",
       "4         8.494743         3.871201  \n",
       "\n",
       "[5 rows x 21 columns]"
      ]
     },
     "execution_count": 37,
     "metadata": {},
     "output_type": "execute_result"
    }
   ],
   "source": [
    "transport_dataset.head()"
   ]
  },
  {
   "cell_type": "code",
   "execution_count": 38,
   "metadata": {
    "colab": {
     "base_uri": "https://localhost:8080/"
    },
    "id": "XsKIdE5JTL8H",
    "outputId": "7360862e-1a0e-4765-ec5e-1cba454440b0"
   },
   "outputs": [
    {
     "data": {
      "text/plain": [
       "(6249, 21)"
      ]
     },
     "execution_count": 38,
     "metadata": {},
     "output_type": "execute_result"
    }
   ],
   "source": [
    "transport_dataset.shape    #checking shape of data having 6249 observations with 21 variables"
   ]
  },
  {
   "cell_type": "code",
   "execution_count": 39,
   "metadata": {
    "colab": {
     "base_uri": "https://localhost:8080/"
    },
    "id": "W-HqQxs_WQhh",
    "outputId": "597c16ca-2570-4667-ec60-26d294206797"
   },
   "outputs": [
    {
     "data": {
      "text/plain": [
       "12    1050\n",
       "2      985\n",
       "1      896\n",
       "3      853\n",
       "4      600\n",
       "11     414\n",
       "9      262\n",
       "7      254\n",
       "8      251\n",
       "10     247\n",
       "6      225\n",
       "5      212\n",
       "Name: month, dtype: int64"
      ]
     },
     "execution_count": 39,
     "metadata": {},
     "output_type": "execute_result"
    }
   ],
   "source": [
    "transport_dataset.month.value_counts()    #checking total number travelers in a month"
   ]
  },
  {
   "cell_type": "code",
   "execution_count": 40,
   "metadata": {
    "id": "PhgHJNyASpmR"
   },
   "outputs": [],
   "source": [
    "dict_cov = {12:1,2:1,1:1,2:1,4:2,11:2,9:3,7:3,8:3,10:3,6:3,5:3}\n",
    "transport_dataset['month'].replace(dict_cov,inplace=True)\n",
    "  "
   ]
  },
  {
   "cell_type": "code",
   "execution_count": 41,
   "metadata": {
    "colab": {
     "base_uri": "https://localhost:8080/"
    },
    "id": "qGzp485bX2lA",
    "outputId": "a6d56bf7-6b7f-424b-e9dc-99ebd1a05c00"
   },
   "outputs": [
    {
     "data": {
      "text/plain": [
       "1    2931\n",
       "3    2304\n",
       "2    1014\n",
       "Name: month, dtype: int64"
      ]
     },
     "execution_count": 41,
     "metadata": {},
     "output_type": "execute_result"
    }
   ],
   "source": [
    "transport_dataset.month.value_counts()"
   ]
  },
  {
   "cell_type": "code",
   "execution_count": 42,
   "metadata": {
    "colab": {
     "base_uri": "https://localhost:8080/"
    },
    "id": "3aDyy2ucX8Ye",
    "outputId": "841294d4-4ab3-4660-9d58-cb35dd64154c"
   },
   "outputs": [
    {
     "data": {
      "text/plain": [
       "array([17, 19, 26, 27, 20, 18, 16, 15, 14, 13,  4, 28, 31, 30, 29, 25, 24,\n",
       "       23, 22, 21, 12,  3,  2,  1], dtype=int64)"
      ]
     },
     "execution_count": 42,
     "metadata": {},
     "output_type": "execute_result"
    }
   ],
   "source": [
    "transport_dataset.day_of_month.unique()    # checking unique days "
   ]
  },
  {
   "cell_type": "code",
   "execution_count": 43,
   "metadata": {
    "id": "M6DKAv2rYCvq"
   },
   "outputs": [],
   "source": [
    "conv_dict = {17:2, 19:2, 26:3, 27:3, 20:2, 18:2, 16:2, 15:2, 14:2, 13:2,  4:1, 28:2, 31:3, 30:3, 29:3, 25:3, 24:3,\n",
    "       23:3, 22:3, 21:3, 12:1,  3:1,  2:1,  1:2}\n",
    "transport_dataset['day_of_month'].replace(conv_dict,inplace=True)"
   ]
  },
  {
   "cell_type": "code",
   "execution_count": 44,
   "metadata": {
    "colab": {
     "base_uri": "https://localhost:8080/"
    },
    "id": "bB4fGD76ZKpY",
    "outputId": "b4c8ae2b-528f-4771-e5c4-be1bd1a6dcfc"
   },
   "outputs": [
    {
     "data": {
      "text/plain": [
       "1    2496\n",
       "2    2305\n",
       "3    1448\n",
       "Name: day_of_month, dtype: int64"
      ]
     },
     "execution_count": 44,
     "metadata": {},
     "output_type": "execute_result"
    }
   ],
   "source": [
    "transport_dataset['day_of_month'].value_counts()"
   ]
  },
  {
   "cell_type": "code",
   "execution_count": 45,
   "metadata": {
    "colab": {
     "base_uri": "https://localhost:8080/",
     "height": 444
    },
    "id": "G3A4SSevaE03",
    "outputId": "f4365df5-96f1-42e7-8216-696154b1acea"
   },
   "outputs": [
    {
     "data": {
      "text/html": [
       "<div>\n",
       "<style scoped>\n",
       "    .dataframe tbody tr th:only-of-type {\n",
       "        vertical-align: middle;\n",
       "    }\n",
       "\n",
       "    .dataframe tbody tr th {\n",
       "        vertical-align: top;\n",
       "    }\n",
       "\n",
       "    .dataframe thead th {\n",
       "        text-align: right;\n",
       "    }\n",
       "</style>\n",
       "<table border=\"1\" class=\"dataframe\">\n",
       "  <thead>\n",
       "    <tr style=\"text-align: right;\">\n",
       "      <th></th>\n",
       "      <th>ride_id</th>\n",
       "      <th>travel_date</th>\n",
       "      <th>travel_time</th>\n",
       "      <th>travel_from</th>\n",
       "      <th>car_type</th>\n",
       "      <th>max_capacity</th>\n",
       "      <th>number_of_ticket</th>\n",
       "      <th>date</th>\n",
       "      <th>day_of_week</th>\n",
       "      <th>day_of_year</th>\n",
       "      <th>...</th>\n",
       "      <th>year_woy</th>\n",
       "      <th>hour</th>\n",
       "      <th>minute</th>\n",
       "      <th>is_weekend</th>\n",
       "      <th>year</th>\n",
       "      <th>quarter</th>\n",
       "      <th>month</th>\n",
       "      <th>period</th>\n",
       "      <th>hourly_travelers</th>\n",
       "      <th>daily_travelers</th>\n",
       "    </tr>\n",
       "  </thead>\n",
       "  <tbody>\n",
       "    <tr>\n",
       "      <th>0</th>\n",
       "      <td>1442</td>\n",
       "      <td>17-10-17</td>\n",
       "      <td>7.250000</td>\n",
       "      <td>Migori</td>\n",
       "      <td>Bus</td>\n",
       "      <td>49</td>\n",
       "      <td>1</td>\n",
       "      <td>2017-10-17 07:15:00</td>\n",
       "      <td>1</td>\n",
       "      <td>290</td>\n",
       "      <td>...</td>\n",
       "      <td>201742</td>\n",
       "      <td>7</td>\n",
       "      <td>15</td>\n",
       "      <td>0</td>\n",
       "      <td>2017</td>\n",
       "      <td>4</td>\n",
       "      <td>3</td>\n",
       "      <td>am</td>\n",
       "      <td>8.494743</td>\n",
       "      <td>0.693147</td>\n",
       "    </tr>\n",
       "    <tr>\n",
       "      <th>1</th>\n",
       "      <td>5437</td>\n",
       "      <td>19-11-17</td>\n",
       "      <td>7.200000</td>\n",
       "      <td>Migori</td>\n",
       "      <td>Bus</td>\n",
       "      <td>49</td>\n",
       "      <td>1</td>\n",
       "      <td>2017-11-19 07:12:00</td>\n",
       "      <td>6</td>\n",
       "      <td>323</td>\n",
       "      <td>...</td>\n",
       "      <td>201746</td>\n",
       "      <td>7</td>\n",
       "      <td>12</td>\n",
       "      <td>1</td>\n",
       "      <td>2017</td>\n",
       "      <td>4</td>\n",
       "      <td>2</td>\n",
       "      <td>am</td>\n",
       "      <td>8.494743</td>\n",
       "      <td>0.693147</td>\n",
       "    </tr>\n",
       "    <tr>\n",
       "      <th>2</th>\n",
       "      <td>5710</td>\n",
       "      <td>26-11-17</td>\n",
       "      <td>7.083333</td>\n",
       "      <td>Keroka</td>\n",
       "      <td>Bus</td>\n",
       "      <td>49</td>\n",
       "      <td>1</td>\n",
       "      <td>2017-11-26 07:05:00</td>\n",
       "      <td>6</td>\n",
       "      <td>330</td>\n",
       "      <td>...</td>\n",
       "      <td>201747</td>\n",
       "      <td>7</td>\n",
       "      <td>5</td>\n",
       "      <td>1</td>\n",
       "      <td>2017</td>\n",
       "      <td>4</td>\n",
       "      <td>2</td>\n",
       "      <td>am</td>\n",
       "      <td>8.494743</td>\n",
       "      <td>0.693147</td>\n",
       "    </tr>\n",
       "    <tr>\n",
       "      <th>3</th>\n",
       "      <td>5777</td>\n",
       "      <td>27-11-17</td>\n",
       "      <td>7.166667</td>\n",
       "      <td>Homa Bay</td>\n",
       "      <td>Bus</td>\n",
       "      <td>49</td>\n",
       "      <td>5</td>\n",
       "      <td>2017-11-27 07:10:00</td>\n",
       "      <td>0</td>\n",
       "      <td>331</td>\n",
       "      <td>...</td>\n",
       "      <td>201748</td>\n",
       "      <td>7</td>\n",
       "      <td>10</td>\n",
       "      <td>0</td>\n",
       "      <td>2017</td>\n",
       "      <td>4</td>\n",
       "      <td>2</td>\n",
       "      <td>am</td>\n",
       "      <td>8.494743</td>\n",
       "      <td>3.871201</td>\n",
       "    </tr>\n",
       "    <tr>\n",
       "      <th>4</th>\n",
       "      <td>5778</td>\n",
       "      <td>27-11-17</td>\n",
       "      <td>7.200000</td>\n",
       "      <td>Migori</td>\n",
       "      <td>Bus</td>\n",
       "      <td>49</td>\n",
       "      <td>31</td>\n",
       "      <td>2017-11-27 07:12:00</td>\n",
       "      <td>0</td>\n",
       "      <td>331</td>\n",
       "      <td>...</td>\n",
       "      <td>201748</td>\n",
       "      <td>7</td>\n",
       "      <td>12</td>\n",
       "      <td>0</td>\n",
       "      <td>2017</td>\n",
       "      <td>4</td>\n",
       "      <td>2</td>\n",
       "      <td>am</td>\n",
       "      <td>8.494743</td>\n",
       "      <td>3.871201</td>\n",
       "    </tr>\n",
       "  </tbody>\n",
       "</table>\n",
       "<p>5 rows × 21 columns</p>\n",
       "</div>"
      ],
      "text/plain": [
       "   ride_id travel_date  travel_time travel_from car_type  max_capacity  \\\n",
       "0     1442    17-10-17     7.250000      Migori      Bus            49   \n",
       "1     5437    19-11-17     7.200000      Migori      Bus            49   \n",
       "2     5710    26-11-17     7.083333      Keroka      Bus            49   \n",
       "3     5777    27-11-17     7.166667    Homa Bay      Bus            49   \n",
       "4     5778    27-11-17     7.200000      Migori      Bus            49   \n",
       "\n",
       "   number_of_ticket                date  day_of_week  day_of_year  ...  \\\n",
       "0                 1 2017-10-17 07:15:00            1          290  ...   \n",
       "1                 1 2017-11-19 07:12:00            6          323  ...   \n",
       "2                 1 2017-11-26 07:05:00            6          330  ...   \n",
       "3                 5 2017-11-27 07:10:00            0          331  ...   \n",
       "4                31 2017-11-27 07:12:00            0          331  ...   \n",
       "\n",
       "   year_woy hour  minute  is_weekend  year  quarter  month  period  \\\n",
       "0    201742    7      15           0  2017        4      3      am   \n",
       "1    201746    7      12           1  2017        4      2      am   \n",
       "2    201747    7       5           1  2017        4      2      am   \n",
       "3    201748    7      10           0  2017        4      2      am   \n",
       "4    201748    7      12           0  2017        4      2      am   \n",
       "\n",
       "  hourly_travelers  daily_travelers  \n",
       "0         8.494743         0.693147  \n",
       "1         8.494743         0.693147  \n",
       "2         8.494743         0.693147  \n",
       "3         8.494743         3.871201  \n",
       "4         8.494743         3.871201  \n",
       "\n",
       "[5 rows x 21 columns]"
      ]
     },
     "execution_count": 45,
     "metadata": {},
     "output_type": "execute_result"
    }
   ],
   "source": [
    "transport_dataset.head()"
   ]
  },
  {
   "cell_type": "code",
   "execution_count": 46,
   "metadata": {
    "id": "55575NKrcuzX"
   },
   "outputs": [],
   "source": [
    "\n",
    "# Let us find the difference between next and previous buses\n",
    "# And count the travel per minut trip\n",
    "def find_difference_bw_bus(data):\n",
    "  \n",
    "  data.sort_values([\"travel_from\",\"date\"],inplace=True,ascending=True)\n",
    "  data[\"Time_gap_btw_0_1_next_bus\"]=(data[\"date\"]-data.groupby([\"travel_from\"]).date.shift(-1)).dt.total_seconds()/3600\n",
    "  data[\"Time_gap_btw_0_1_previous_bus\"]=(data[\"date\"]-data.groupby([\"travel_from\"]).date.shift(1)).dt.total_seconds()/3600\n",
    "  data[\"Time_gap_btw_0_2_next_bus\"]=(data[\"date\"]-data.groupby([\"travel_from\"]).date.shift(-2)).dt.total_seconds()/3600\n",
    "  data[\"Time_gap_btw_0_2_previous_bus\"]=(data[\"date\"]-data.groupby([\"travel_from\"]).date.shift(2)).dt.total_seconds()/3600\n",
    "  data[\"Time_gap_btw_0_3_next_bus\"]=(data[\"date\"]-data.groupby([\"travel_from\"]).date.shift(-3)).dt.total_seconds()/3600\n",
    "  data[\"Time_gap_btw_0_3_previous_bus\"]=(data[\"date\"]-data.groupby([\"travel_from\"]).date.shift(3)).dt.total_seconds()/3600\n",
    "  data[\"Time_gap_btw_next_previous_bus\"]=(data.groupby([\"travel_from\"]).date.shift(-1)-data.groupby([\"travel_from\"]).date.shift(1)).dt.total_seconds()/3600\n",
    "  cols=[\"Time_gap_btw_0_1_next_bus\", \"Time_gap_btw_0_1_previous_bus\", \"Time_gap_btw_0_2_next_bus\",\"Time_gap_btw_0_2_previous_bus\",\n",
    "      \"Time_gap_btw_0_3_next_bus\", \"Time_gap_btw_0_3_previous_bus\",\n",
    "      \"Time_gap_btw_next_previous_bus\"]\n",
    "  data[cols]=data.groupby([\"travel_from\"])[cols].fillna(method=\"ffill\")\n",
    "  data[cols]=data.groupby([\"travel_from\"])[cols].fillna(method=\"backfill\")\n",
    "\n",
    "  \n",
    "  return data"
   ]
  },
  {
   "cell_type": "code",
   "execution_count": 47,
   "metadata": {
    "id": "jB3K5FbXV6dN"
   },
   "outputs": [],
   "source": [
    "data = find_difference_bw_bus(transport_dataset)"
   ]
  },
  {
   "cell_type": "code",
   "execution_count": 48,
   "metadata": {
    "colab": {
     "base_uri": "https://localhost:8080/"
    },
    "id": "CMVERhPvSxf1",
    "outputId": "a8a9d4d7-76cd-4a99-8d35-b254c26d6b68"
   },
   "outputs": [
    {
     "data": {
      "text/plain": [
       "ride_id                           0\n",
       "travel_date                       0\n",
       "travel_time                       0\n",
       "travel_from                       0\n",
       "car_type                          0\n",
       "max_capacity                      0\n",
       "number_of_ticket                  0\n",
       "date                              0\n",
       "day_of_week                       0\n",
       "day_of_year                       0\n",
       "day_of_month                      0\n",
       "year_woy                          0\n",
       "hour                              0\n",
       "minute                            0\n",
       "is_weekend                        0\n",
       "year                              0\n",
       "quarter                           0\n",
       "month                             0\n",
       "period                            0\n",
       "hourly_travelers                  0\n",
       "daily_travelers                   0\n",
       "Time_gap_btw_0_1_next_bus         1\n",
       "Time_gap_btw_0_1_previous_bus     1\n",
       "Time_gap_btw_0_2_next_bus         3\n",
       "Time_gap_btw_0_2_previous_bus     3\n",
       "Time_gap_btw_0_3_next_bus         3\n",
       "Time_gap_btw_0_3_previous_bus     3\n",
       "Time_gap_btw_next_previous_bus    3\n",
       "dtype: int64"
      ]
     },
     "execution_count": 48,
     "metadata": {},
     "output_type": "execute_result"
    }
   ],
   "source": [
    "data.isnull().sum()         ## Checking null values"
   ]
  },
  {
   "cell_type": "markdown",
   "metadata": {
    "id": "EGQGxNCXWXAs"
   },
   "source": [
    "We see that there are some null values present in the dataset so let us reomove those null values"
   ]
  },
  {
   "cell_type": "code",
   "execution_count": 49,
   "metadata": {
    "id": "yJo_UAik_n6m"
   },
   "outputs": [],
   "source": [
    "data.dropna(inplace=True)\n"
   ]
  },
  {
   "cell_type": "code",
   "execution_count": 50,
   "metadata": {
    "colab": {
     "base_uri": "https://localhost:8080/",
     "height": 441
    },
    "id": "_ulsAu4daHKB",
    "outputId": "83b494a1-9273-4a3c-eace-e0f1687eb454"
   },
   "outputs": [
    {
     "data": {
      "text/plain": [
       "<AxesSubplot:>"
      ]
     },
     "execution_count": 50,
     "metadata": {},
     "output_type": "execute_result"
    },
    {
     "data": {
      "image/png": "[encoded data removed]",
      "text/plain": [
       "<Figure size 432x288 with 1 Axes>"
      ]
     },
     "metadata": {
      "needs_background": "light"
     },
     "output_type": "display_data"
    }
   ],
   "source": [
    "### finding the null values with the help of heatmap\n",
    "\n",
    "sns.heatmap(data.isnull(), yticklabels=False, cbar=False, cmap='viridis')"
   ]
  },
  {
   "cell_type": "code",
   "execution_count": 51,
   "metadata": {
    "colab": {
     "base_uri": "https://localhost:8080/",
     "height": 444
    },
    "id": "rGichOnRdGS1",
    "outputId": "13f1e597-ddea-43ac-ad6a-4317b01a610b"
   },
   "outputs": [
    {
     "data": {
      "text/html": [
       "<div>\n",
       "<style scoped>\n",
       "    .dataframe tbody tr th:only-of-type {\n",
       "        vertical-align: middle;\n",
       "    }\n",
       "\n",
       "    .dataframe tbody tr th {\n",
       "        vertical-align: top;\n",
       "    }\n",
       "\n",
       "    .dataframe thead th {\n",
       "        text-align: right;\n",
       "    }\n",
       "</style>\n",
       "<table border=\"1\" class=\"dataframe\">\n",
       "  <thead>\n",
       "    <tr style=\"text-align: right;\">\n",
       "      <th></th>\n",
       "      <th>ride_id</th>\n",
       "      <th>travel_date</th>\n",
       "      <th>travel_time</th>\n",
       "      <th>travel_from</th>\n",
       "      <th>car_type</th>\n",
       "      <th>max_capacity</th>\n",
       "      <th>number_of_ticket</th>\n",
       "      <th>date</th>\n",
       "      <th>day_of_week</th>\n",
       "      <th>day_of_year</th>\n",
       "      <th>...</th>\n",
       "      <th>period</th>\n",
       "      <th>hourly_travelers</th>\n",
       "      <th>daily_travelers</th>\n",
       "      <th>Time_gap_btw_0_1_next_bus</th>\n",
       "      <th>Time_gap_btw_0_1_previous_bus</th>\n",
       "      <th>Time_gap_btw_0_2_next_bus</th>\n",
       "      <th>Time_gap_btw_0_2_previous_bus</th>\n",
       "      <th>Time_gap_btw_0_3_next_bus</th>\n",
       "      <th>Time_gap_btw_0_3_previous_bus</th>\n",
       "      <th>Time_gap_btw_next_previous_bus</th>\n",
       "    </tr>\n",
       "  </thead>\n",
       "  <tbody>\n",
       "    <tr>\n",
       "      <th>502</th>\n",
       "      <td>6654</td>\n",
       "      <td>05-12-17</td>\n",
       "      <td>7.133333</td>\n",
       "      <td>Awendo</td>\n",
       "      <td>Bus</td>\n",
       "      <td>49</td>\n",
       "      <td>2</td>\n",
       "      <td>2017-05-12 07:08:00</td>\n",
       "      <td>4</td>\n",
       "      <td>132</td>\n",
       "      <td>...</td>\n",
       "      <td>am</td>\n",
       "      <td>8.494743</td>\n",
       "      <td>4.025352</td>\n",
       "      <td>-5688.000000</td>\n",
       "      <td>5688.000000</td>\n",
       "      <td>-5688.066667</td>\n",
       "      <td>5688.066667</td>\n",
       "      <td>-5688.083333</td>\n",
       "      <td>5688.083333</td>\n",
       "      <td>5688.066667</td>\n",
       "    </tr>\n",
       "    <tr>\n",
       "      <th>5530</th>\n",
       "      <td>12926</td>\n",
       "      <td>01-04-18</td>\n",
       "      <td>7.133333</td>\n",
       "      <td>Awendo</td>\n",
       "      <td>Bus</td>\n",
       "      <td>49</td>\n",
       "      <td>20</td>\n",
       "      <td>2018-01-04 07:08:00</td>\n",
       "      <td>3</td>\n",
       "      <td>4</td>\n",
       "      <td>...</td>\n",
       "      <td>am</td>\n",
       "      <td>8.494743</td>\n",
       "      <td>3.526361</td>\n",
       "      <td>-0.066667</td>\n",
       "      <td>5688.000000</td>\n",
       "      <td>-0.083333</td>\n",
       "      <td>5688.066667</td>\n",
       "      <td>-0.866667</td>\n",
       "      <td>5688.083333</td>\n",
       "      <td>5688.066667</td>\n",
       "    </tr>\n",
       "    <tr>\n",
       "      <th>5533</th>\n",
       "      <td>12929</td>\n",
       "      <td>01-04-18</td>\n",
       "      <td>7.200000</td>\n",
       "      <td>Awendo</td>\n",
       "      <td>Bus</td>\n",
       "      <td>49</td>\n",
       "      <td>2</td>\n",
       "      <td>2018-01-04 07:12:00</td>\n",
       "      <td>3</td>\n",
       "      <td>4</td>\n",
       "      <td>...</td>\n",
       "      <td>am</td>\n",
       "      <td>8.494743</td>\n",
       "      <td>3.526361</td>\n",
       "      <td>-0.016667</td>\n",
       "      <td>0.066667</td>\n",
       "      <td>-0.800000</td>\n",
       "      <td>5688.066667</td>\n",
       "      <td>-215.933333</td>\n",
       "      <td>5688.083333</td>\n",
       "      <td>0.083333</td>\n",
       "    </tr>\n",
       "    <tr>\n",
       "      <th>5539</th>\n",
       "      <td>12935</td>\n",
       "      <td>01-04-18</td>\n",
       "      <td>7.216667</td>\n",
       "      <td>Awendo</td>\n",
       "      <td>Bus</td>\n",
       "      <td>49</td>\n",
       "      <td>9</td>\n",
       "      <td>2018-01-04 07:13:00</td>\n",
       "      <td>3</td>\n",
       "      <td>4</td>\n",
       "      <td>...</td>\n",
       "      <td>am</td>\n",
       "      <td>8.494743</td>\n",
       "      <td>3.526361</td>\n",
       "      <td>-0.783333</td>\n",
       "      <td>0.016667</td>\n",
       "      <td>-215.916667</td>\n",
       "      <td>0.083333</td>\n",
       "      <td>-216.033333</td>\n",
       "      <td>5688.083333</td>\n",
       "      <td>0.800000</td>\n",
       "    </tr>\n",
       "    <tr>\n",
       "      <th>5528</th>\n",
       "      <td>12924</td>\n",
       "      <td>01-04-18</td>\n",
       "      <td>8.000000</td>\n",
       "      <td>Awendo</td>\n",
       "      <td>Bus</td>\n",
       "      <td>49</td>\n",
       "      <td>15</td>\n",
       "      <td>2018-01-04 08:00:00</td>\n",
       "      <td>3</td>\n",
       "      <td>4</td>\n",
       "      <td>...</td>\n",
       "      <td>am</td>\n",
       "      <td>8.494743</td>\n",
       "      <td>3.526361</td>\n",
       "      <td>-215.133333</td>\n",
       "      <td>0.783333</td>\n",
       "      <td>-215.250000</td>\n",
       "      <td>0.800000</td>\n",
       "      <td>-239.133333</td>\n",
       "      <td>0.866667</td>\n",
       "      <td>215.916667</td>\n",
       "    </tr>\n",
       "  </tbody>\n",
       "</table>\n",
       "<p>5 rows × 28 columns</p>\n",
       "</div>"
      ],
      "text/plain": [
       "      ride_id travel_date  travel_time travel_from car_type  max_capacity  \\\n",
       "502      6654    05-12-17     7.133333      Awendo      Bus            49   \n",
       "5530    12926    01-04-18     7.133333      Awendo      Bus            49   \n",
       "5533    12929    01-04-18     7.200000      Awendo      Bus            49   \n",
       "5539    12935    01-04-18     7.216667      Awendo      Bus            49   \n",
       "5528    12924    01-04-18     8.000000      Awendo      Bus            49   \n",
       "\n",
       "      number_of_ticket                date  day_of_week  day_of_year  ...  \\\n",
       "502                  2 2017-05-12 07:08:00            4          132  ...   \n",
       "5530                20 2018-01-04 07:08:00            3            4  ...   \n",
       "5533                 2 2018-01-04 07:12:00            3            4  ...   \n",
       "5539                 9 2018-01-04 07:13:00            3            4  ...   \n",
       "5528                15 2018-01-04 08:00:00            3            4  ...   \n",
       "\n",
       "      period hourly_travelers  daily_travelers  Time_gap_btw_0_1_next_bus  \\\n",
       "502       am         8.494743         4.025352               -5688.000000   \n",
       "5530      am         8.494743         3.526361                  -0.066667   \n",
       "5533      am         8.494743         3.526361                  -0.016667   \n",
       "5539      am         8.494743         3.526361                  -0.783333   \n",
       "5528      am         8.494743         3.526361                -215.133333   \n",
       "\n",
       "      Time_gap_btw_0_1_previous_bus  Time_gap_btw_0_2_next_bus  \\\n",
       "502                     5688.000000               -5688.066667   \n",
       "5530                    5688.000000                  -0.083333   \n",
       "5533                       0.066667                  -0.800000   \n",
       "5539                       0.016667                -215.916667   \n",
       "5528                       0.783333                -215.250000   \n",
       "\n",
       "      Time_gap_btw_0_2_previous_bus  Time_gap_btw_0_3_next_bus  \\\n",
       "502                     5688.066667               -5688.083333   \n",
       "5530                    5688.066667                  -0.866667   \n",
       "5533                    5688.066667                -215.933333   \n",
       "5539                       0.083333                -216.033333   \n",
       "5528                       0.800000                -239.133333   \n",
       "\n",
       "     Time_gap_btw_0_3_previous_bus  Time_gap_btw_next_previous_bus  \n",
       "502                    5688.083333                     5688.066667  \n",
       "5530                   5688.083333                     5688.066667  \n",
       "5533                   5688.083333                        0.083333  \n",
       "5539                   5688.083333                        0.800000  \n",
       "5528                      0.866667                      215.916667  \n",
       "\n",
       "[5 rows x 28 columns]"
      ]
     },
     "execution_count": 51,
     "metadata": {},
     "output_type": "execute_result"
    }
   ],
   "source": [
    "data.head()"
   ]
  },
  {
   "cell_type": "code",
   "execution_count": 52,
   "metadata": {
    "id": "yIwXXWyqpVrh"
   },
   "outputs": [],
   "source": [
    "#importing required libraries\n",
    "from datetime import datetime\n",
    "from datetime import timedelta"
   ]
  },
  {
   "cell_type": "markdown",
   "metadata": {
    "id": "Xy9Vr_KuXZP7"
   },
   "source": [
    "Now let us find the distance of each origin point from the distination point.\n",
    "\n",
    "\n"
   ]
  },
  {
   "cell_type": "code",
   "execution_count": 53,
   "metadata": {
    "id": "PV24rean4IsN"
   },
   "outputs": [],
   "source": [
    "distance = {'Migori': 370 , 'Keroka': 280, 'Homa Bay':360, 'Kisii':305.1, 'Keumbu':295, 'Rongo':332,\n",
    "'Kijauri':271, 'Oyugis':330.6, 'Awendo':351, 'Sirare':392, 'Nyachenge':326, 'Kehancha': 387.7,\n",
    "'Kendu Bay':347, 'Sori':399, 'Rodi':348, 'Mbita':401, 'Ndhiwa': 371}\n",
    "data[\"travel_from_distance\"]=data.travel_from.map(distance)"
   ]
  },
  {
   "cell_type": "code",
   "execution_count": 54,
   "metadata": {
    "id": "G_uAqfXi4Pi2"
   },
   "outputs": [],
   "source": [
    "##Finding the travel time of each origin point from the distination point.\n",
    "time = {'Migori': 7*60+8 , 'Keroka': 5*60, 'Homa Bay':7*60, 'Kisii':5*60+34, 'Keumbu':5*60+20, 'Rongo':6*60+21,\n",
    "'Kijauri':60*4+50,'Oyugis':5*60+50, 'Awendo':6*60+38, 'Sirare':7*60+30, 'Nyachenge':6*60+10, 'Kehancha':7*60+10,\n",
    "'Kendu Bay':6*60+10, 'Sori':7*60+30, 'Rodi':6*60+40, 'Mbita':7*60+23, 'Ndhiwa': 7*60}\n",
    "data[\"travel_from_time\"]=data.travel_from.map(time)"
   ]
  },
  {
   "cell_type": "code",
   "execution_count": 55,
   "metadata": {
    "id": "3JQXICWH4WQ7"
   },
   "outputs": [],
   "source": [
    "#Finding Speed of travel\n",
    "data[\"Speed\"]=data.travel_from_time/data.travel_from_distance"
   ]
  },
  {
   "cell_type": "code",
   "execution_count": 56,
   "metadata": {
    "colab": {
     "base_uri": "https://localhost:8080/",
     "height": 283
    },
    "id": "Bf3zINDIz_JW",
    "outputId": "37a0e71e-7981-4349-83b5-e8183918bd42"
   },
   "outputs": [
    {
     "data": {
      "text/plain": [
       "<matplotlib.collections.PathCollection at 0x213d1dc4a90>"
      ]
     },
     "execution_count": 56,
     "metadata": {},
     "output_type": "execute_result"
    },
    {
     "data": {
      "image/png": "[encoded data removed]",
      "text/plain": [
       "<Figure size 432x288 with 1 Axes>"
      ]
     },
     "metadata": {
      "needs_background": "light"
     },
     "output_type": "display_data"
    }
   ],
   "source": [
    "# plot Speed & number of tickets\n",
    "plt.scatter(data['Speed'],data['number_of_ticket'])"
   ]
  },
  {
   "cell_type": "code",
   "execution_count": 57,
   "metadata": {
    "id": "YsShrSa84gXj"
   },
   "outputs": [],
   "source": [
    "\n",
    "time = {'Migori': 7*60+8 , 'Keroka': 5*60, 'Homa Bay':7*60, 'Kisii':5*60+34, 'Keumbu':5*60+20, 'Rongo':6*60+21,\n",
    "'Kijauri':60*4+50,'Oyugis':5*60+50, 'Awendo':6*60+38, 'Sirare':7*60+30, 'Nyachenge':6*60+10, 'Kehancha':7*60+10,\n",
    "'Kendu Bay':6*60+10, 'Sori':7*60+30, 'Rodi':6*60+40, 'Mbita':7*60+23, 'Ndhiwa': 7*60}\n",
    "for key in time.keys(): \n",
    "    time[key]=timedelta( minutes=time[key])\n",
    "\n",
    "#find the date of traveling from origin \n",
    "data[\"Date_of_traveling_from_origin\"]=data.travel_from.map(time)\n",
    "\n",
    "# find the date of arrival at distination\n",
    "data[\"arrival_date\"]=data.date+ data.Date_of_traveling_from_origin\n",
    "data[\"hod_arrived_date\"]=data[\"arrival_date\"].dt.hour\n",
    "data[\"minute_arrived_date\"]=data[\"arrival_date\"].dt.minute\n",
    "del data[\"Date_of_traveling_from_origin\"],data[\"arrival_date\"]\n",
    "data[\"is_rush_hour\"]=0\n",
    "data.loc[data.hod_arrived_date.between(7,17),\"is_rush_hour\"]=1"
   ]
  },
  {
   "cell_type": "code",
   "execution_count": 58,
   "metadata": {
    "colab": {
     "base_uri": "https://localhost:8080/",
     "height": 771
    },
    "id": "HP-NdSMtlXwC",
    "outputId": "19e7a82c-4a6b-449d-c8bd-3d3ee888d5d7"
   },
   "outputs": [
    {
     "data": {
      "text/plain": [
       "<AxesSubplot:>"
      ]
     },
     "execution_count": 58,
     "metadata": {},
     "output_type": "execute_result"
    },
    {
     "data": {
      "image/png": "[encoded data removed]",
      "text/plain": [
       "<Figure size 1080x720 with 2 Axes>"
      ]
     },
     "metadata": {
      "needs_background": "light"
     },
     "output_type": "display_data"
    }
   ],
   "source": [
    "fig, ax = plt.subplots(figsize=(15,10))# checking the correlation so that we can decide which many variables are important.\n",
    "sns.heatmap(data.corr(), annot= True, cmap= \"autumn\",ax=ax)\n",
    "# plt.figure(figsize=(10,8))"
   ]
  },
  {
   "cell_type": "markdown",
   "metadata": {
    "id": "hxU8mGM4Lvs7"
   },
   "source": [
    "### **Encoding Categorical features**"
   ]
  },
  {
   "cell_type": "code",
   "execution_count": 59,
   "metadata": {
    "id": "M5vLGG5es8PG"
   },
   "outputs": [],
   "source": [
    "from sklearn import preprocessing #Import LabelEncoder\n",
    "data = pd.get_dummies(data, columns=['travel_from','day_of_month','month'])\n",
    "label_enc = {'Bus':1,'shuttle':0}\n",
    "data.replace(label_enc,inplace=True)\n"
   ]
  },
  {
   "cell_type": "code",
   "execution_count": 60,
   "metadata": {
    "colab": {
     "base_uri": "https://localhost:8080/",
     "height": 461
    },
    "id": "FVZRT5lL4p_L",
    "outputId": "d452d645-c62c-4ef0-f4da-d12d29d07c58"
   },
   "outputs": [
    {
     "data": {
      "text/html": [
       "<div>\n",
       "<style scoped>\n",
       "    .dataframe tbody tr th:only-of-type {\n",
       "        vertical-align: middle;\n",
       "    }\n",
       "\n",
       "    .dataframe tbody tr th {\n",
       "        vertical-align: top;\n",
       "    }\n",
       "\n",
       "    .dataframe thead th {\n",
       "        text-align: right;\n",
       "    }\n",
       "</style>\n",
       "<table border=\"1\" class=\"dataframe\">\n",
       "  <thead>\n",
       "    <tr style=\"text-align: right;\">\n",
       "      <th></th>\n",
       "      <th>ride_id</th>\n",
       "      <th>travel_date</th>\n",
       "      <th>travel_time</th>\n",
       "      <th>car_type</th>\n",
       "      <th>max_capacity</th>\n",
       "      <th>number_of_ticket</th>\n",
       "      <th>date</th>\n",
       "      <th>day_of_week</th>\n",
       "      <th>day_of_year</th>\n",
       "      <th>year_woy</th>\n",
       "      <th>...</th>\n",
       "      <th>travel_from_Rodi</th>\n",
       "      <th>travel_from_Rongo</th>\n",
       "      <th>travel_from_Sirare</th>\n",
       "      <th>travel_from_Sori</th>\n",
       "      <th>day_of_month_1</th>\n",
       "      <th>day_of_month_2</th>\n",
       "      <th>day_of_month_3</th>\n",
       "      <th>month_1</th>\n",
       "      <th>month_2</th>\n",
       "      <th>month_3</th>\n",
       "    </tr>\n",
       "  </thead>\n",
       "  <tbody>\n",
       "    <tr>\n",
       "      <th>502</th>\n",
       "      <td>6654</td>\n",
       "      <td>05-12-17</td>\n",
       "      <td>7.133333</td>\n",
       "      <td>1</td>\n",
       "      <td>49</td>\n",
       "      <td>2</td>\n",
       "      <td>2017-05-12 07:08:00</td>\n",
       "      <td>4</td>\n",
       "      <td>132</td>\n",
       "      <td>201719</td>\n",
       "      <td>...</td>\n",
       "      <td>0</td>\n",
       "      <td>0</td>\n",
       "      <td>0</td>\n",
       "      <td>0</td>\n",
       "      <td>1</td>\n",
       "      <td>0</td>\n",
       "      <td>0</td>\n",
       "      <td>0</td>\n",
       "      <td>0</td>\n",
       "      <td>1</td>\n",
       "    </tr>\n",
       "    <tr>\n",
       "      <th>5530</th>\n",
       "      <td>12926</td>\n",
       "      <td>01-04-18</td>\n",
       "      <td>7.133333</td>\n",
       "      <td>1</td>\n",
       "      <td>49</td>\n",
       "      <td>20</td>\n",
       "      <td>2018-01-04 07:08:00</td>\n",
       "      <td>3</td>\n",
       "      <td>4</td>\n",
       "      <td>20181</td>\n",
       "      <td>...</td>\n",
       "      <td>0</td>\n",
       "      <td>0</td>\n",
       "      <td>0</td>\n",
       "      <td>0</td>\n",
       "      <td>1</td>\n",
       "      <td>0</td>\n",
       "      <td>0</td>\n",
       "      <td>1</td>\n",
       "      <td>0</td>\n",
       "      <td>0</td>\n",
       "    </tr>\n",
       "    <tr>\n",
       "      <th>5533</th>\n",
       "      <td>12929</td>\n",
       "      <td>01-04-18</td>\n",
       "      <td>7.200000</td>\n",
       "      <td>1</td>\n",
       "      <td>49</td>\n",
       "      <td>2</td>\n",
       "      <td>2018-01-04 07:12:00</td>\n",
       "      <td>3</td>\n",
       "      <td>4</td>\n",
       "      <td>20181</td>\n",
       "      <td>...</td>\n",
       "      <td>0</td>\n",
       "      <td>0</td>\n",
       "      <td>0</td>\n",
       "      <td>0</td>\n",
       "      <td>1</td>\n",
       "      <td>0</td>\n",
       "      <td>0</td>\n",
       "      <td>1</td>\n",
       "      <td>0</td>\n",
       "      <td>0</td>\n",
       "    </tr>\n",
       "    <tr>\n",
       "      <th>5539</th>\n",
       "      <td>12935</td>\n",
       "      <td>01-04-18</td>\n",
       "      <td>7.216667</td>\n",
       "      <td>1</td>\n",
       "      <td>49</td>\n",
       "      <td>9</td>\n",
       "      <td>2018-01-04 07:13:00</td>\n",
       "      <td>3</td>\n",
       "      <td>4</td>\n",
       "      <td>20181</td>\n",
       "      <td>...</td>\n",
       "      <td>0</td>\n",
       "      <td>0</td>\n",
       "      <td>0</td>\n",
       "      <td>0</td>\n",
       "      <td>1</td>\n",
       "      <td>0</td>\n",
       "      <td>0</td>\n",
       "      <td>1</td>\n",
       "      <td>0</td>\n",
       "      <td>0</td>\n",
       "    </tr>\n",
       "    <tr>\n",
       "      <th>5528</th>\n",
       "      <td>12924</td>\n",
       "      <td>01-04-18</td>\n",
       "      <td>8.000000</td>\n",
       "      <td>1</td>\n",
       "      <td>49</td>\n",
       "      <td>15</td>\n",
       "      <td>2018-01-04 08:00:00</td>\n",
       "      <td>3</td>\n",
       "      <td>4</td>\n",
       "      <td>20181</td>\n",
       "      <td>...</td>\n",
       "      <td>0</td>\n",
       "      <td>0</td>\n",
       "      <td>0</td>\n",
       "      <td>0</td>\n",
       "      <td>1</td>\n",
       "      <td>0</td>\n",
       "      <td>0</td>\n",
       "      <td>1</td>\n",
       "      <td>0</td>\n",
       "      <td>0</td>\n",
       "    </tr>\n",
       "  </tbody>\n",
       "</table>\n",
       "<p>5 rows × 52 columns</p>\n",
       "</div>"
      ],
      "text/plain": [
       "      ride_id travel_date  travel_time  car_type  max_capacity  \\\n",
       "502      6654    05-12-17     7.133333         1            49   \n",
       "5530    12926    01-04-18     7.133333         1            49   \n",
       "5533    12929    01-04-18     7.200000         1            49   \n",
       "5539    12935    01-04-18     7.216667         1            49   \n",
       "5528    12924    01-04-18     8.000000         1            49   \n",
       "\n",
       "      number_of_ticket                date  day_of_week  day_of_year year_woy  \\\n",
       "502                  2 2017-05-12 07:08:00            4          132   201719   \n",
       "5530                20 2018-01-04 07:08:00            3            4    20181   \n",
       "5533                 2 2018-01-04 07:12:00            3            4    20181   \n",
       "5539                 9 2018-01-04 07:13:00            3            4    20181   \n",
       "5528                15 2018-01-04 08:00:00            3            4    20181   \n",
       "\n",
       "      ...  travel_from_Rodi  travel_from_Rongo  travel_from_Sirare  \\\n",
       "502   ...                 0                  0                   0   \n",
       "5530  ...                 0                  0                   0   \n",
       "5533  ...                 0                  0                   0   \n",
       "5539  ...                 0                  0                   0   \n",
       "5528  ...                 0                  0                   0   \n",
       "\n",
       "      travel_from_Sori  day_of_month_1 day_of_month_2  day_of_month_3  \\\n",
       "502                  0               1              0               0   \n",
       "5530                 0               1              0               0   \n",
       "5533                 0               1              0               0   \n",
       "5539                 0               1              0               0   \n",
       "5528                 0               1              0               0   \n",
       "\n",
       "      month_1  month_2  month_3  \n",
       "502         0        0        1  \n",
       "5530        1        0        0  \n",
       "5533        1        0        0  \n",
       "5539        1        0        0  \n",
       "5528        1        0        0  \n",
       "\n",
       "[5 rows x 52 columns]"
      ]
     },
     "execution_count": 60,
     "metadata": {},
     "output_type": "execute_result"
    }
   ],
   "source": [
    "data.head()"
   ]
  },
  {
   "cell_type": "markdown",
   "metadata": {
    "id": "AsC8FbtDHPY7"
   },
   "source": [
    "### .."
   ]
  },
  {
   "cell_type": "markdown",
   "metadata": {
    "id": "E1_oLMPdMuo8"
   },
   "source": [
    "### Training the models"
   ]
  },
  {
   "cell_type": "code",
   "execution_count": 61,
   "metadata": {
    "id": "SswJh_Wge16b"
   },
   "outputs": [],
   "source": [
    "\n",
    "keys= [\"ride_id\"]\n",
    "Target_name=\"number_of_ticket\"\n",
    "not_used_cols=[\"ride_id\",\"travel_time\" ,\"travel_date\",\"date\",'year_woy','max_capacity','number_of_ticket',\n",
    "               'period'\n",
    "]\n"
   ]
  },
  {
   "cell_type": "code",
   "execution_count": 62,
   "metadata": {
    "id": "o4Za_QbYrxN7"
   },
   "outputs": [],
   "source": [
    "features = data.drop(not_used_cols,axis=1).columns"
   ]
  },
  {
   "cell_type": "code",
   "execution_count": 63,
   "metadata": {
    "colab": {
     "base_uri": "https://localhost:8080/"
    },
    "id": "0tuic7Cs8zXb",
    "outputId": "f72cf8a0-d2e1-45ba-d0fa-02d8854ef2cd"
   },
   "outputs": [
    {
     "data": {
      "text/plain": [
       "(44,)"
      ]
     },
     "execution_count": 63,
     "metadata": {},
     "output_type": "execute_result"
    }
   ],
   "source": [
    "features.shape"
   ]
  },
  {
   "cell_type": "code",
   "execution_count": 64,
   "metadata": {
    "id": "Fdi3G8SsDhLs"
   },
   "outputs": [],
   "source": [
    "## importing required libraries\n",
    "from sklearn.model_selection import train_test_split\n",
    "from sklearn.feature_selection import VarianceThreshold\n",
    "from sklearn.model_selection import cross_val_score\n",
    "from sklearn.model_selection import RepeatedKFold\n",
    "from sklearn.ensemble import GradientBoostingRegressor\n",
    "from sklearn.metrics import mean_absolute_error, mean_squared_error,r2_score"
   ]
  },
  {
   "cell_type": "code",
   "execution_count": 65,
   "metadata": {
    "colab": {
     "base_uri": "https://localhost:8080/",
     "height": 287
    },
    "id": "KY0DPMBwBvoj",
    "outputId": "fc02b40c-3fce-4067-f569-63d036ab41f7"
   },
   "outputs": [
    {
     "data": {
      "text/html": [
       "<div>\n",
       "<style scoped>\n",
       "    .dataframe tbody tr th:only-of-type {\n",
       "        vertical-align: middle;\n",
       "    }\n",
       "\n",
       "    .dataframe tbody tr th {\n",
       "        vertical-align: top;\n",
       "    }\n",
       "\n",
       "    .dataframe thead th {\n",
       "        text-align: right;\n",
       "    }\n",
       "</style>\n",
       "<table border=\"1\" class=\"dataframe\">\n",
       "  <thead>\n",
       "    <tr style=\"text-align: right;\">\n",
       "      <th></th>\n",
       "      <th>car_type</th>\n",
       "      <th>day_of_week</th>\n",
       "      <th>day_of_year</th>\n",
       "      <th>hour</th>\n",
       "      <th>minute</th>\n",
       "      <th>is_weekend</th>\n",
       "      <th>year</th>\n",
       "      <th>quarter</th>\n",
       "      <th>hourly_travelers</th>\n",
       "      <th>daily_travelers</th>\n",
       "      <th>...</th>\n",
       "      <th>travel_from_Rodi</th>\n",
       "      <th>travel_from_Rongo</th>\n",
       "      <th>travel_from_Sirare</th>\n",
       "      <th>travel_from_Sori</th>\n",
       "      <th>day_of_month_1</th>\n",
       "      <th>day_of_month_2</th>\n",
       "      <th>day_of_month_3</th>\n",
       "      <th>month_1</th>\n",
       "      <th>month_2</th>\n",
       "      <th>month_3</th>\n",
       "    </tr>\n",
       "  </thead>\n",
       "  <tbody>\n",
       "    <tr>\n",
       "      <th>502</th>\n",
       "      <td>1</td>\n",
       "      <td>4</td>\n",
       "      <td>132</td>\n",
       "      <td>7</td>\n",
       "      <td>8</td>\n",
       "      <td>0</td>\n",
       "      <td>2017</td>\n",
       "      <td>2</td>\n",
       "      <td>8.494743</td>\n",
       "      <td>4.025352</td>\n",
       "      <td>...</td>\n",
       "      <td>0</td>\n",
       "      <td>0</td>\n",
       "      <td>0</td>\n",
       "      <td>0</td>\n",
       "      <td>1</td>\n",
       "      <td>0</td>\n",
       "      <td>0</td>\n",
       "      <td>0</td>\n",
       "      <td>0</td>\n",
       "      <td>1</td>\n",
       "    </tr>\n",
       "    <tr>\n",
       "      <th>5530</th>\n",
       "      <td>1</td>\n",
       "      <td>3</td>\n",
       "      <td>4</td>\n",
       "      <td>7</td>\n",
       "      <td>8</td>\n",
       "      <td>0</td>\n",
       "      <td>2018</td>\n",
       "      <td>1</td>\n",
       "      <td>8.494743</td>\n",
       "      <td>3.526361</td>\n",
       "      <td>...</td>\n",
       "      <td>0</td>\n",
       "      <td>0</td>\n",
       "      <td>0</td>\n",
       "      <td>0</td>\n",
       "      <td>1</td>\n",
       "      <td>0</td>\n",
       "      <td>0</td>\n",
       "      <td>1</td>\n",
       "      <td>0</td>\n",
       "      <td>0</td>\n",
       "    </tr>\n",
       "    <tr>\n",
       "      <th>5533</th>\n",
       "      <td>1</td>\n",
       "      <td>3</td>\n",
       "      <td>4</td>\n",
       "      <td>7</td>\n",
       "      <td>12</td>\n",
       "      <td>0</td>\n",
       "      <td>2018</td>\n",
       "      <td>1</td>\n",
       "      <td>8.494743</td>\n",
       "      <td>3.526361</td>\n",
       "      <td>...</td>\n",
       "      <td>0</td>\n",
       "      <td>0</td>\n",
       "      <td>0</td>\n",
       "      <td>0</td>\n",
       "      <td>1</td>\n",
       "      <td>0</td>\n",
       "      <td>0</td>\n",
       "      <td>1</td>\n",
       "      <td>0</td>\n",
       "      <td>0</td>\n",
       "    </tr>\n",
       "    <tr>\n",
       "      <th>5539</th>\n",
       "      <td>1</td>\n",
       "      <td>3</td>\n",
       "      <td>4</td>\n",
       "      <td>7</td>\n",
       "      <td>13</td>\n",
       "      <td>0</td>\n",
       "      <td>2018</td>\n",
       "      <td>1</td>\n",
       "      <td>8.494743</td>\n",
       "      <td>3.526361</td>\n",
       "      <td>...</td>\n",
       "      <td>0</td>\n",
       "      <td>0</td>\n",
       "      <td>0</td>\n",
       "      <td>0</td>\n",
       "      <td>1</td>\n",
       "      <td>0</td>\n",
       "      <td>0</td>\n",
       "      <td>1</td>\n",
       "      <td>0</td>\n",
       "      <td>0</td>\n",
       "    </tr>\n",
       "    <tr>\n",
       "      <th>5528</th>\n",
       "      <td>1</td>\n",
       "      <td>3</td>\n",
       "      <td>4</td>\n",
       "      <td>8</td>\n",
       "      <td>0</td>\n",
       "      <td>0</td>\n",
       "      <td>2018</td>\n",
       "      <td>1</td>\n",
       "      <td>8.494743</td>\n",
       "      <td>3.526361</td>\n",
       "      <td>...</td>\n",
       "      <td>0</td>\n",
       "      <td>0</td>\n",
       "      <td>0</td>\n",
       "      <td>0</td>\n",
       "      <td>1</td>\n",
       "      <td>0</td>\n",
       "      <td>0</td>\n",
       "      <td>1</td>\n",
       "      <td>0</td>\n",
       "      <td>0</td>\n",
       "    </tr>\n",
       "  </tbody>\n",
       "</table>\n",
       "<p>5 rows × 44 columns</p>\n",
       "</div>"
      ],
      "text/plain": [
       "      car_type  day_of_week  day_of_year  hour  minute  is_weekend  year  \\\n",
       "502          1            4          132     7       8           0  2017   \n",
       "5530         1            3            4     7       8           0  2018   \n",
       "5533         1            3            4     7      12           0  2018   \n",
       "5539         1            3            4     7      13           0  2018   \n",
       "5528         1            3            4     8       0           0  2018   \n",
       "\n",
       "      quarter  hourly_travelers  daily_travelers  ...  travel_from_Rodi  \\\n",
       "502         2          8.494743         4.025352  ...                 0   \n",
       "5530        1          8.494743         3.526361  ...                 0   \n",
       "5533        1          8.494743         3.526361  ...                 0   \n",
       "5539        1          8.494743         3.526361  ...                 0   \n",
       "5528        1          8.494743         3.526361  ...                 0   \n",
       "\n",
       "      travel_from_Rongo  travel_from_Sirare  travel_from_Sori  day_of_month_1  \\\n",
       "502                   0                   0                 0               1   \n",
       "5530                  0                   0                 0               1   \n",
       "5533                  0                   0                 0               1   \n",
       "5539                  0                   0                 0               1   \n",
       "5528                  0                   0                 0               1   \n",
       "\n",
       "      day_of_month_2  day_of_month_3  month_1  month_2  month_3  \n",
       "502                0               0        0        0        1  \n",
       "5530               0               0        1        0        0  \n",
       "5533               0               0        1        0        0  \n",
       "5539               0               0        1        0        0  \n",
       "5528               0               0        1        0        0  \n",
       "\n",
       "[5 rows x 44 columns]"
      ]
     },
     "execution_count": 65,
     "metadata": {},
     "output_type": "execute_result"
    }
   ],
   "source": [
    "data[features].head()"
   ]
  },
  {
   "cell_type": "markdown",
   "metadata": {
    "id": "WIJbgFXfZAgr"
   },
   "source": [
    "### **Linear Regression**"
   ]
  },
  {
   "cell_type": "code",
   "execution_count": 66,
   "metadata": {
    "id": "BL4cQSDY5L9g"
   },
   "outputs": [],
   "source": [
    "used_cols = ['day_of_year']"
   ]
  },
  {
   "cell_type": "code",
   "execution_count": 67,
   "metadata": {
    "id": "kcjObYAp5MBH"
   },
   "outputs": [],
   "source": [
    "prev_adjR2 = -0.01177282976168792\n",
    "for col in features:\n",
    "      used_cols.append(col)\n",
    "dataset_pr = data[used_cols]"
   ]
  },
  {
   "cell_type": "code",
   "execution_count": 68,
   "metadata": {
    "colab": {
     "base_uri": "https://localhost:8080/",
     "height": 287
    },
    "id": "v9TtEArD5oEm",
    "outputId": "cab7b620-4b41-47e8-d6f1-f91b43c7eacf"
   },
   "outputs": [
    {
     "data": {
      "text/html": [
       "<div>\n",
       "<style scoped>\n",
       "    .dataframe tbody tr th:only-of-type {\n",
       "        vertical-align: middle;\n",
       "    }\n",
       "\n",
       "    .dataframe tbody tr th {\n",
       "        vertical-align: top;\n",
       "    }\n",
       "\n",
       "    .dataframe thead th {\n",
       "        text-align: right;\n",
       "    }\n",
       "</style>\n",
       "<table border=\"1\" class=\"dataframe\">\n",
       "  <thead>\n",
       "    <tr style=\"text-align: right;\">\n",
       "      <th></th>\n",
       "      <th>day_of_year</th>\n",
       "      <th>car_type</th>\n",
       "      <th>day_of_week</th>\n",
       "      <th>day_of_year</th>\n",
       "      <th>hour</th>\n",
       "      <th>minute</th>\n",
       "      <th>is_weekend</th>\n",
       "      <th>year</th>\n",
       "      <th>quarter</th>\n",
       "      <th>hourly_travelers</th>\n",
       "      <th>...</th>\n",
       "      <th>travel_from_Rodi</th>\n",
       "      <th>travel_from_Rongo</th>\n",
       "      <th>travel_from_Sirare</th>\n",
       "      <th>travel_from_Sori</th>\n",
       "      <th>day_of_month_1</th>\n",
       "      <th>day_of_month_2</th>\n",
       "      <th>day_of_month_3</th>\n",
       "      <th>month_1</th>\n",
       "      <th>month_2</th>\n",
       "      <th>month_3</th>\n",
       "    </tr>\n",
       "  </thead>\n",
       "  <tbody>\n",
       "    <tr>\n",
       "      <th>502</th>\n",
       "      <td>132</td>\n",
       "      <td>1</td>\n",
       "      <td>4</td>\n",
       "      <td>132</td>\n",
       "      <td>7</td>\n",
       "      <td>8</td>\n",
       "      <td>0</td>\n",
       "      <td>2017</td>\n",
       "      <td>2</td>\n",
       "      <td>8.494743</td>\n",
       "      <td>...</td>\n",
       "      <td>0</td>\n",
       "      <td>0</td>\n",
       "      <td>0</td>\n",
       "      <td>0</td>\n",
       "      <td>1</td>\n",
       "      <td>0</td>\n",
       "      <td>0</td>\n",
       "      <td>0</td>\n",
       "      <td>0</td>\n",
       "      <td>1</td>\n",
       "    </tr>\n",
       "    <tr>\n",
       "      <th>5530</th>\n",
       "      <td>4</td>\n",
       "      <td>1</td>\n",
       "      <td>3</td>\n",
       "      <td>4</td>\n",
       "      <td>7</td>\n",
       "      <td>8</td>\n",
       "      <td>0</td>\n",
       "      <td>2018</td>\n",
       "      <td>1</td>\n",
       "      <td>8.494743</td>\n",
       "      <td>...</td>\n",
       "      <td>0</td>\n",
       "      <td>0</td>\n",
       "      <td>0</td>\n",
       "      <td>0</td>\n",
       "      <td>1</td>\n",
       "      <td>0</td>\n",
       "      <td>0</td>\n",
       "      <td>1</td>\n",
       "      <td>0</td>\n",
       "      <td>0</td>\n",
       "    </tr>\n",
       "    <tr>\n",
       "      <th>5533</th>\n",
       "      <td>4</td>\n",
       "      <td>1</td>\n",
       "      <td>3</td>\n",
       "      <td>4</td>\n",
       "      <td>7</td>\n",
       "      <td>12</td>\n",
       "      <td>0</td>\n",
       "      <td>2018</td>\n",
       "      <td>1</td>\n",
       "      <td>8.494743</td>\n",
       "      <td>...</td>\n",
       "      <td>0</td>\n",
       "      <td>0</td>\n",
       "      <td>0</td>\n",
       "      <td>0</td>\n",
       "      <td>1</td>\n",
       "      <td>0</td>\n",
       "      <td>0</td>\n",
       "      <td>1</td>\n",
       "      <td>0</td>\n",
       "      <td>0</td>\n",
       "    </tr>\n",
       "    <tr>\n",
       "      <th>5539</th>\n",
       "      <td>4</td>\n",
       "      <td>1</td>\n",
       "      <td>3</td>\n",
       "      <td>4</td>\n",
       "      <td>7</td>\n",
       "      <td>13</td>\n",
       "      <td>0</td>\n",
       "      <td>2018</td>\n",
       "      <td>1</td>\n",
       "      <td>8.494743</td>\n",
       "      <td>...</td>\n",
       "      <td>0</td>\n",
       "      <td>0</td>\n",
       "      <td>0</td>\n",
       "      <td>0</td>\n",
       "      <td>1</td>\n",
       "      <td>0</td>\n",
       "      <td>0</td>\n",
       "      <td>1</td>\n",
       "      <td>0</td>\n",
       "      <td>0</td>\n",
       "    </tr>\n",
       "    <tr>\n",
       "      <th>5528</th>\n",
       "      <td>4</td>\n",
       "      <td>1</td>\n",
       "      <td>3</td>\n",
       "      <td>4</td>\n",
       "      <td>8</td>\n",
       "      <td>0</td>\n",
       "      <td>0</td>\n",
       "      <td>2018</td>\n",
       "      <td>1</td>\n",
       "      <td>8.494743</td>\n",
       "      <td>...</td>\n",
       "      <td>0</td>\n",
       "      <td>0</td>\n",
       "      <td>0</td>\n",
       "      <td>0</td>\n",
       "      <td>1</td>\n",
       "      <td>0</td>\n",
       "      <td>0</td>\n",
       "      <td>1</td>\n",
       "      <td>0</td>\n",
       "      <td>0</td>\n",
       "    </tr>\n",
       "  </tbody>\n",
       "</table>\n",
       "<p>5 rows × 45 columns</p>\n",
       "</div>"
      ],
      "text/plain": [
       "      day_of_year  car_type  day_of_week  day_of_year  hour  minute  \\\n",
       "502           132         1            4          132     7       8   \n",
       "5530            4         1            3            4     7       8   \n",
       "5533            4         1            3            4     7      12   \n",
       "5539            4         1            3            4     7      13   \n",
       "5528            4         1            3            4     8       0   \n",
       "\n",
       "      is_weekend  year  quarter  hourly_travelers  ...  travel_from_Rodi  \\\n",
       "502            0  2017        2          8.494743  ...                 0   \n",
       "5530           0  2018        1          8.494743  ...                 0   \n",
       "5533           0  2018        1          8.494743  ...                 0   \n",
       "5539           0  2018        1          8.494743  ...                 0   \n",
       "5528           0  2018        1          8.494743  ...                 0   \n",
       "\n",
       "      travel_from_Rongo  travel_from_Sirare  travel_from_Sori  day_of_month_1  \\\n",
       "502                   0                   0                 0               1   \n",
       "5530                  0                   0                 0               1   \n",
       "5533                  0                   0                 0               1   \n",
       "5539                  0                   0                 0               1   \n",
       "5528                  0                   0                 0               1   \n",
       "\n",
       "      day_of_month_2  day_of_month_3  month_1  month_2  month_3  \n",
       "502                0               0        0        0        1  \n",
       "5530               0               0        1        0        0  \n",
       "5533               0               0        1        0        0  \n",
       "5539               0               0        1        0        0  \n",
       "5528               0               0        1        0        0  \n",
       "\n",
       "[5 rows x 45 columns]"
      ]
     },
     "execution_count": 68,
     "metadata": {},
     "output_type": "execute_result"
    }
   ],
   "source": [
    "dataset_pr.head()\n"
   ]
  },
  {
   "cell_type": "code",
   "execution_count": 69,
   "metadata": {
    "id": "vy9-OiKE513N"
   },
   "outputs": [],
   "source": [
    "dataset_pr=dataset_pr.loc[:,~dataset_pr.columns.duplicated()]"
   ]
  },
  {
   "cell_type": "code",
   "execution_count": 70,
   "metadata": {
    "colab": {
     "base_uri": "https://localhost:8080/"
    },
    "id": "WmBvbZbz5oWs",
    "outputId": "31513b6d-5a82-4796-85de-dc7a27baec49"
   },
   "outputs": [
    {
     "data": {
      "text/plain": [
       "(6246, 44)"
      ]
     },
     "execution_count": 70,
     "metadata": {},
     "output_type": "execute_result"
    }
   ],
   "source": [
    "dataset_pr.shape"
   ]
  },
  {
   "cell_type": "code",
   "execution_count": 71,
   "metadata": {
    "id": "PIEGAR00CR5z"
   },
   "outputs": [],
   "source": [
    "import math\n",
    "from sklearn.linear_model import LinearRegression"
   ]
  },
  {
   "cell_type": "code",
   "execution_count": 72,
   "metadata": {
    "id": "sH55bt2LBxBd"
   },
   "outputs": [],
   "source": [
    "## define Matrix\n",
    "def print_metrics(actual, predicted):\n",
    "    print('MSE is {}'.format(mean_squared_error(actual, predicted)))\n",
    "    print('RMSE is {}'.format(math.sqrt(mean_squared_error(actual, predicted))))\n",
    "    print('RMSE is {}'.format(r2_score(actual, predicted)))\n",
    "    print('MAE is {}'.format(mean_absolute_error(actual, predicted)))\n",
    "    print('MAPE is {}'.format(np.mean(np.abs((actual - predicted) / actual)) * 100))"
   ]
  },
  {
   "cell_type": "code",
   "execution_count": 73,
   "metadata": {
    "colab": {
     "base_uri": "https://localhost:8080/"
    },
    "id": "2gJqLxTWXndM",
    "outputId": "b94b3cae-c5fd-4e72-85b5-43cd026e3454"
   },
   "outputs": [
    {
     "name": "stdout",
     "output_type": "stream",
     "text": [
      "Adjust_r2: 0.34374880042054734\n",
      "Train score: 0.4176862602439837\n",
      "Test score: 0.3591652728078917\n",
      "0.3591652728078917\n",
      "Important features are: \n",
      "\n"
     ]
    },
    {
     "data": {
      "text/plain": [
       "['day_of_year',\n",
       " 'car_type',\n",
       " 'day_of_week',\n",
       " 'day_of_year',\n",
       " 'hour',\n",
       " 'minute',\n",
       " 'is_weekend',\n",
       " 'year',\n",
       " 'quarter',\n",
       " 'hourly_travelers',\n",
       " 'daily_travelers',\n",
       " 'Time_gap_btw_0_1_next_bus',\n",
       " 'Time_gap_btw_0_1_previous_bus',\n",
       " 'Time_gap_btw_0_2_next_bus',\n",
       " 'Time_gap_btw_0_2_previous_bus',\n",
       " 'Time_gap_btw_0_3_next_bus',\n",
       " 'Time_gap_btw_0_3_previous_bus',\n",
       " 'Time_gap_btw_next_previous_bus',\n",
       " 'travel_from_distance',\n",
       " 'travel_from_time',\n",
       " 'Speed',\n",
       " 'hod_arrived_date',\n",
       " 'minute_arrived_date',\n",
       " 'is_rush_hour',\n",
       " 'travel_from_Awendo',\n",
       " 'travel_from_Homa Bay',\n",
       " 'travel_from_Kehancha',\n",
       " 'travel_from_Keroka',\n",
       " 'travel_from_Keumbu',\n",
       " 'travel_from_Kijauri',\n",
       " 'travel_from_Kisii',\n",
       " 'travel_from_Mbita',\n",
       " 'travel_from_Migori',\n",
       " 'travel_from_Ndhiwa',\n",
       " 'travel_from_Nyachenge',\n",
       " 'travel_from_Rodi',\n",
       " 'travel_from_Rongo',\n",
       " 'travel_from_Sirare',\n",
       " 'travel_from_Sori',\n",
       " 'day_of_month_1',\n",
       " 'day_of_month_2',\n",
       " 'day_of_month_3',\n",
       " 'month_1',\n",
       " 'month_2',\n",
       " 'month_3']"
      ]
     },
     "execution_count": 73,
     "metadata": {},
     "output_type": "execute_result"
    }
   ],
   "source": [
    "# used_cols = ['day_of_year']\n",
    "# prev_adjR2 = -0.01177282976168792\n",
    "# for col in features:\n",
    "#       used_cols.append(col)\n",
    "# dataset_pr = data[used_cols]\n",
    "X= dataset_pr.copy()\n",
    "y = data['number_of_ticket']\n",
    "\n",
    "X_train, X_test, y_train, y_test = train_test_split(X,y,test_size=0.30, random_state=42)\n",
    "model = LinearRegression()\n",
    "model.fit(X_train, y_train)\n",
    "  # Predicting \n",
    "y_pred = model.predict(X_test)\n",
    "  #Find R-squared value\n",
    "r2 = r2_score(y_test, y_pred)\n",
    "  # Find Adjusted R-squared value\n",
    "adj_r2=1-(1-r2_score(y_test, y_pred))*((X_test.shape[0]-1)/(X_test.shape[0]-X_test.shape[1]-1))\n",
    "if prev_adjR2<adj_r2:\n",
    "    prev_adjR2 = adj_r2\n",
    "    train_score = model.score(X_train, y_train)\n",
    "    test_score = model.score(X_test,y_test)\n",
    "    y_train_pred = model.predict(X_train)\n",
    "    y_test_pred = model.predict(X_test)\n",
    "else:\n",
    "    used_cols.pop()\n",
    "\n",
    "print(f'Adjust_r2: {prev_adjR2}')\n",
    "print(f'Train score: {train_score}')\n",
    "print(f'Test score: {test_score}')\n",
    "print(r2)\n",
    "print('Important features are: \\n')\n",
    "used_cols"
   ]
  },
  {
   "cell_type": "code",
   "execution_count": 74,
   "metadata": {
    "colab": {
     "base_uri": "https://localhost:8080/"
    },
    "id": "ttNzpyVA3xSr",
    "outputId": "9ab81bb2-bbf9-42fc-af6e-9dd84d4c6202"
   },
   "outputs": [
    {
     "name": "stdout",
     "output_type": "stream",
     "text": [
      "MSE is 49.14022953760787\n",
      "RMSE is 7.010009239480921\n",
      "RMSE is 0.3591652728078917\n",
      "MAE is 4.785095246687945\n",
      "MAPE is 165.8822680827966\n"
     ]
    }
   ],
   "source": [
    "# Test dataset metrics\n",
    "print_metrics(y_test, y_test_pred)"
   ]
  },
  {
   "cell_type": "markdown",
   "metadata": {
    "id": "MUFhjpoYZVu6"
   },
   "source": [
    "### **Implementing Lasso Regression**"
   ]
  },
  {
   "cell_type": "code",
   "execution_count": 75,
   "metadata": {
    "id": "-NtCVu4NZlkw"
   },
   "outputs": [],
   "source": [
    "from sklearn.linear_model import Lasso\n"
   ]
  },
  {
   "cell_type": "code",
   "execution_count": 76,
   "metadata": {
    "colab": {
     "base_uri": "https://localhost:8080/"
    },
    "id": "4tOA2iLlZqVG",
    "outputId": "991489fc-35ef-4b67-de83-e7a6ec9e4c72"
   },
   "outputs": [
    {
     "name": "stdout",
     "output_type": "stream",
     "text": [
      "alpha:  0.01\n",
      "test Score:  0.3550990281220622\n",
      "train Score:  0.4191841371676076\n",
      "alpha:  0.025\n",
      "test Score:  0.3533582882927181\n",
      "train Score:  0.4148564389251862\n",
      "alpha:  0.5\n",
      "test Score:  0.2658629204617722\n",
      "train Score:  0.2844172725323555\n",
      "alpha:  0.75\n",
      "test Score:  0.25585437193900407\n",
      "train Score:  0.2704077415397306\n",
      "alpha:  1\n",
      "test Score:  0.2555546872624288\n",
      "train Score:  0.26959284549419527\n"
     ]
    }
   ],
   "source": [
    "X= data[used_cols].copy()\n",
    "y = data['number_of_ticket']\n",
    "X_train, X_test, y_train, y_test = train_test_split(X,y,test_size=0.33, random_state=42)\n",
    "alphas = [0.01,0.025,0.5,0.75,1]\n",
    "for alpha in alphas:\n",
    "    lasso  = Lasso(alpha=alpha , max_iter= 3000)\n",
    "    lasso.fit(X_train, y_train)\n",
    "    print('alpha: ',alpha)\n",
    "    print('test Score: ',lasso.score(X_test, y_test))\n",
    "    print('train Score: ',lasso.score(X_train, y_train))\n",
    "\n"
   ]
  },
  {
   "cell_type": "markdown",
   "metadata": {
    "id": "AbzgnjoqbUPD"
   },
   "source": [
    "We see that at alpha = 0.01 it give best out of those \n"
   ]
  },
  {
   "cell_type": "code",
   "execution_count": 77,
   "metadata": {
    "colab": {
     "base_uri": "https://localhost:8080/"
    },
    "id": "wU-OZhvDbTTW",
    "outputId": "076f930f-227a-46de-a958-198eb63a839e"
   },
   "outputs": [
    {
     "data": {
      "text/plain": [
       "Lasso(alpha=0.01, max_iter=3000)"
      ]
     },
     "execution_count": 77,
     "metadata": {},
     "output_type": "execute_result"
    }
   ],
   "source": [
    "lasso  = Lasso(alpha=0.01 , max_iter= 3000)\n",
    "lasso.fit(X_train, y_train)"
   ]
  },
  {
   "cell_type": "code",
   "execution_count": 78,
   "metadata": {
    "colab": {
     "base_uri": "https://localhost:8080/"
    },
    "id": "seI4Lzlub3sn",
    "outputId": "0ac857e8-cc80-4b5a-ebe8-95103438eb0f"
   },
   "outputs": [
    {
     "name": "stdout",
     "output_type": "stream",
     "text": [
      "MSE is 48.39919482575663\n",
      "RMSE is 6.9569529842997095\n",
      "MAE is 4.760900808209933\n"
     ]
    }
   ],
   "source": [
    "y_test_pred = lasso.predict(X_test)\n",
    "\n",
    "print('MSE is {}'.format(mean_squared_error(y_test, y_test_pred)))\n",
    "print('RMSE is {}'.format(math.sqrt(mean_squared_error(y_test, y_test_pred))))\n",
    "print('MAE is {}'.format(mean_absolute_error(y_test, y_test_pred)))"
   ]
  },
  {
   "cell_type": "markdown",
   "metadata": {
    "id": "l77ExBfxcyxT"
   },
   "source": [
    "### **Ridge Regression**"
   ]
  },
  {
   "cell_type": "code",
   "execution_count": 79,
   "metadata": {
    "id": "2-JNwtGxdB1B"
   },
   "outputs": [],
   "source": [
    "from sklearn.linear_model import Ridge\n",
    "from sklearn.model_selection import GridSearchCV"
   ]
  },
  {
   "cell_type": "code",
   "execution_count": 80,
   "metadata": {
    "colab": {
     "base_uri": "https://localhost:8080/"
    },
    "id": "yol4Hh7ecGcr",
    "outputId": "ead7d995-df47-4ce3-b3ce-fc5d5b39a84e"
   },
   "outputs": [
    {
     "data": {
      "text/plain": [
       "GridSearchCV(cv=3, estimator=Ridge(),\n",
       "             param_grid={'alpha': [1e-15, 1e-10, 1e-08, 1e-05, 0.0001, 0.001,\n",
       "                                   0.01, 1, 5, 10, 20, 30, 40, 45, 50, 55, 60,\n",
       "                                   100]},\n",
       "             scoring='neg_mean_squared_error')"
      ]
     },
     "execution_count": 80,
     "metadata": {},
     "output_type": "execute_result"
    }
   ],
   "source": [
    "# Hyperprarameter tuning\n",
    "\n",
    "X= data[features].copy()\n",
    "y = data['number_of_ticket']\n",
    "X_train, X_test, y_train, y_test = train_test_split(X,y,test_size=0.33, random_state=42)\n",
    "ridge = Ridge()\n",
    "parameters = {'alpha': [1e-15,1e-10,1e-8,1e-5,1e-4,1e-3,1e-2,1,5,10,20,30,40,45,50,55,60,100]}\n",
    "ridge_regressor = GridSearchCV(ridge, parameters, scoring='neg_mean_squared_error', cv=3)\n",
    "ridge_regressor.fit(X_train,y_train)"
   ]
  },
  {
   "cell_type": "code",
   "execution_count": 81,
   "metadata": {
    "colab": {
     "base_uri": "https://localhost:8080/"
    },
    "id": "PT1Q8B_udVer",
    "outputId": "fee1515b-a19e-46f4-eb68-abfe83a1ba90"
   },
   "outputs": [
    {
     "name": "stdout",
     "output_type": "stream",
     "text": [
      "The best fit alpha value is found out to be : {'alpha': 1}\n",
      "\n",
      "Using  {'alpha': 1}  the negative mean squared error is:  -44.97449113861294\n"
     ]
    }
   ],
   "source": [
    "print(\"The best fit alpha value is found out to be :\" ,ridge_regressor.best_params_)\n",
    "print(\"\\nUsing \",ridge_regressor.best_params_, \" the negative mean squared error is: \", ridge_regressor.best_score_)"
   ]
  },
  {
   "cell_type": "code",
   "execution_count": 82,
   "metadata": {
    "colab": {
     "base_uri": "https://localhost:8080/"
    },
    "id": "NAZIjiYRdcHE",
    "outputId": "534e16be-b770-45a1-f310-2e1e02c12cd4"
   },
   "outputs": [
    {
     "name": "stdout",
     "output_type": "stream",
     "text": [
      "-43.02051587042845\n",
      "-48.38009063187614\n",
      "MSE is 48.39919482575663\n",
      "RMSE is 6.9569529842997095\n",
      "RMSE is 0.3550990281220622\n",
      "MAE is 4.760900808209933\n",
      "MAPE is 165.1365474166505\n",
      "R2 : 0.3553535842824451\n",
      "Adjusted R2 :  0.3412908959871688\n"
     ]
    }
   ],
   "source": [
    "#Model Prediction\n",
    "y_pred_ridge = ridge_regressor.predict(X_test)\n",
    "print(ridge_regressor.score(X_train,y_train))\n",
    "print(ridge_regressor.score(X_test,y_test))\n",
    "\n",
    "print_metrics(y_test, y_test_pred)\n",
    "\n",
    "r2 = r2_score(y_test, y_pred_ridge)\n",
    "print(\"R2 :\" ,r2)\n",
    "print(\"Adjusted R2 : \",1-(1-r2_score(y_test, y_pred_ridge))*((X_test.shape[0]-1)/(X_test.shape[0]-X_test.shape[1]-1)))"
   ]
  },
  {
   "cell_type": "markdown",
   "metadata": {
    "id": "kjX8FqOwQDHI"
   },
   "source": [
    "### **Training Gradient Boosting Regressor**"
   ]
  },
  {
   "cell_type": "code",
   "execution_count": 83,
   "metadata": {
    "colab": {
     "base_uri": "https://localhost:8080/"
    },
    "id": "fVXf2DAepr8C",
    "outputId": "e3946d66-0e27-4cfe-b49d-7f48d8470c48"
   },
   "outputs": [
    {
     "name": "stdout",
     "output_type": "stream",
     "text": [
      "Adjust_r2: 0.6043208710296528\n",
      "Train score: 0.6877626695420473\n",
      "Test score: 0.6129601533215818\n",
      "r2_Test score: 0.6129601533215818\n",
      "r2_train score: 0.6877626695420473\n",
      "MSE is 29.04696652909568\n",
      "RMSE is 5.38952377572413\n",
      "RMSE is 0.6129601533215818\n",
      "MAE is 3.5350769222398517\n",
      "MAPE is 114.11047507701424\n",
      "Important features are: \n",
      "\n"
     ]
    },
    {
     "data": {
      "text/plain": [
       "['day_of_year',\n",
       " 'car_type',\n",
       " 'day_of_week',\n",
       " 'day_of_year',\n",
       " 'hour',\n",
       " 'minute',\n",
       " 'is_weekend',\n",
       " 'year',\n",
       " 'quarter',\n",
       " 'hourly_travelers',\n",
       " 'daily_travelers',\n",
       " 'Time_gap_btw_0_1_next_bus',\n",
       " 'Time_gap_btw_0_1_previous_bus',\n",
       " 'Time_gap_btw_0_2_next_bus',\n",
       " 'Time_gap_btw_0_2_previous_bus',\n",
       " 'Time_gap_btw_0_3_next_bus',\n",
       " 'Time_gap_btw_0_3_previous_bus',\n",
       " 'Time_gap_btw_next_previous_bus',\n",
       " 'travel_from_distance',\n",
       " 'travel_from_time',\n",
       " 'Speed',\n",
       " 'hod_arrived_date',\n",
       " 'minute_arrived_date',\n",
       " 'is_rush_hour',\n",
       " 'travel_from_Awendo',\n",
       " 'travel_from_Homa Bay',\n",
       " 'travel_from_Kehancha',\n",
       " 'travel_from_Keroka',\n",
       " 'travel_from_Keumbu',\n",
       " 'travel_from_Kijauri',\n",
       " 'travel_from_Kisii',\n",
       " 'travel_from_Mbita',\n",
       " 'travel_from_Migori',\n",
       " 'travel_from_Ndhiwa',\n",
       " 'travel_from_Nyachenge',\n",
       " 'travel_from_Rodi',\n",
       " 'travel_from_Rongo',\n",
       " 'travel_from_Sirare',\n",
       " 'travel_from_Sori',\n",
       " 'day_of_month_1',\n",
       " 'day_of_month_2',\n",
       " 'day_of_month_3',\n",
       " 'month_1',\n",
       " 'month_2']"
      ]
     },
     "execution_count": 83,
     "metadata": {},
     "output_type": "execute_result"
    }
   ],
   "source": [
    "used_cols = ['day_of_year']\n",
    "prev_adjR2 = -0.01177282976168792\n",
    "for col in features:\n",
    "    used_cols.append(col)\n",
    "    dataset_pr = data[used_cols]\n",
    "    X= dataset_pr.copy()\n",
    "    y = data['number_of_ticket']\n",
    "    X_train, X_test, y_train, y_test = train_test_split(X,y,test_size=0.33, random_state=42)\n",
    "    reg = GradientBoostingRegressor(random_state=0)\n",
    "    reg.fit(X_train, y_train)\n",
    "  # Predicting \n",
    "    y_pred = reg.predict(X_test)\n",
    "    y_pred_train=reg.predict(X_train)\n",
    "  \n",
    "\n",
    "  # Find Adjusted R-squared value\n",
    "    adj_r2=1-(1-r2_score(y_test, y_pred))*((X_test.shape[0]-1)/(X_test.shape[0]-X_test.shape[1]-1))\n",
    "    if prev_adjR2<adj_r2:\n",
    "        prev_adjR2 = adj_r2\n",
    " #Find R-squared value\n",
    "    r2 = r2_score(y_test, y_pred)\n",
    "    r2_for_train= r2_score(y_train,y_pred_train)\n",
    "    train_score = reg.score(X_train, y_train)\n",
    "    test_score = reg.score(X_test,y_test)\n",
    "else:\n",
    "    used_cols.pop()\n",
    "\n",
    "print(f'Adjust_r2: {prev_adjR2}')\n",
    "print(f'Train score: {train_score}')\n",
    "print(f'Test score: {test_score}')\n",
    "print(f'r2_Test score: {r2}')\n",
    "print(f'r2_train score: {r2_for_train}')\n",
    "print_metrics(y_test, y_pred)\n",
    "print('Important features are: \\n')\n",
    "used_cols"
   ]
  },
  {
   "cell_type": "code",
   "execution_count": 84,
   "metadata": {
    "colab": {
     "base_uri": "https://localhost:8080/"
    },
    "id": "gvupTDZxn83o",
    "outputId": "6cc3dcc1-7bb9-4e9b-aec6-3c2e137f794a"
   },
   "outputs": [
    {
     "data": {
      "text/plain": [
       "0.6129601533215818"
      ]
     },
     "execution_count": 84,
     "metadata": {},
     "output_type": "execute_result"
    }
   ],
   "source": [
    "r2"
   ]
  },
  {
   "cell_type": "code",
   "execution_count": 85,
   "metadata": {
    "colab": {
     "base_uri": "https://localhost:8080/"
    },
    "id": "w3LHSbGQoCA0",
    "outputId": "5d269d08-64d9-4c96-b095-dcb82f8f380b"
   },
   "outputs": [
    {
     "data": {
      "text/plain": [
       "0.6043208710296528"
      ]
     },
     "execution_count": 85,
     "metadata": {},
     "output_type": "execute_result"
    }
   ],
   "source": [
    "adj_r2"
   ]
  },
  {
   "cell_type": "markdown",
   "metadata": {
    "id": "2225bxx0RHFX"
   },
   "source": [
    "### **Training XGboost**"
   ]
  },
  {
   "cell_type": "code",
   "execution_count": 86,
   "metadata": {
    "colab": {
     "base_uri": "https://localhost:8080/"
    },
    "id": "o49ZAe8TaHKF",
    "outputId": "608859ec-0155-4139-e3a6-1682172fbae2"
   },
   "outputs": [
    {
     "data": {
      "text/plain": [
       "Index(['day_of_year', 'car_type', 'day_of_week', 'day_of_year', 'hour',\n",
       "       'minute', 'is_weekend', 'year', 'quarter', 'hourly_travelers',\n",
       "       'daily_travelers', 'Time_gap_btw_0_1_next_bus',\n",
       "       'Time_gap_btw_0_1_previous_bus', 'Time_gap_btw_0_2_next_bus',\n",
       "       'Time_gap_btw_0_2_previous_bus', 'Time_gap_btw_0_3_next_bus',\n",
       "       'Time_gap_btw_0_3_previous_bus', 'Time_gap_btw_next_previous_bus',\n",
       "       'travel_from_distance', 'travel_from_time', 'Speed', 'hod_arrived_date',\n",
       "       'minute_arrived_date', 'is_rush_hour', 'travel_from_Awendo',\n",
       "       'travel_from_Homa Bay', 'travel_from_Kehancha', 'travel_from_Keroka',\n",
       "       'travel_from_Keumbu', 'travel_from_Kijauri', 'travel_from_Kisii',\n",
       "       'travel_from_Mbita', 'travel_from_Migori', 'travel_from_Ndhiwa',\n",
       "       'travel_from_Nyachenge', 'travel_from_Rodi', 'travel_from_Rongo',\n",
       "       'travel_from_Sirare', 'travel_from_Sori', 'day_of_month_1',\n",
       "       'day_of_month_2', 'day_of_month_3', 'month_1', 'month_2'],\n",
       "      dtype='object')"
      ]
     },
     "execution_count": 86,
     "metadata": {},
     "output_type": "execute_result"
    }
   ],
   "source": [
    "data[used_cols].columns"
   ]
  },
  {
   "cell_type": "code",
   "execution_count": 87,
   "metadata": {
    "colab": {
     "base_uri": "https://localhost:8080/"
    },
    "id": "sMQDMmIAaHKG",
    "outputId": "fbd75ad0-de38-45f2-e454-b5d9a41fb00f"
   },
   "outputs": [
    {
     "name": "stdout",
     "output_type": "stream",
     "text": [
      "[18:46:24] WARNING: C:/Users/Administrator/workspace/xgboost-win64_release_1.5.1/src/objective/regression_obj.cu:188: reg:linear is now deprecated in favor of reg:squarederror.\n",
      "Train score: 0.8975448942816533\n",
      "Test score: 0.6554201444504788\n"
     ]
    },
    {
     "data": {
      "text/plain": [
       "0.8975448942816533"
      ]
     },
     "execution_count": 87,
     "metadata": {},
     "output_type": "execute_result"
    }
   ],
   "source": [
    "import xgboost as xgb\n",
    "\n",
    "X = data[features].copy()\n",
    "y = data['number_of_ticket'].copy()\n",
    "\n",
    "X_train, X_test, y_train, y_test = train_test_split(X,y,test_size=0.33, random_state=42)\n",
    "dreg= xgb.XGBRegressor(\n",
    "                        booster= 'gbtree',\n",
    "                        colsample_bylevel= 1,\n",
    "                        colsample_bynode= 1,\n",
    "                        colsample_bytree= 0.7,\n",
    "                        eta= 0.004,\n",
    "                        gamma= 0,\n",
    "                        importance_type= 'gain',\n",
    "                        learning_rate= 0.1,\n",
    "                        max_delta_step= 0,\n",
    "                        max_depth= 9,\n",
    "                        min_child_weight= 10,\n",
    "                        n_estimators= 100,\n",
    "                        n_jobs= 1,\n",
    "                        objective= 'reg:linear',\n",
    "                        random_state= 0,\n",
    "                        reg_alpha= 0,\n",
    "                        reg_lambda= 1,\n",
    "                        scale_pos_weight= 1,\n",
    "                        subsample= 1,\n",
    "                        verbosity= 1)\n",
    "dreg.fit(X_train, y_train)\n",
    "y_pred_train=dreg.predict(X_train)\n",
    "y_pred = dreg.predict(X_test)\n",
    "#Find R-squared value\n",
    "r2 = r2_score(y_test, y_pred)\n",
    "r2_train = r2_score(y_train, y_pred_train)\n",
    "# Find Adjusted R-squared value\n",
    "adj_r2=1-(1-r2_score(y_test, y_pred))*((X_test.shape[0]-1)/(X_test.shape[0]-X_test.shape[1]-1))\n",
    "train_score = dreg.score(X_train, y_train)\n",
    "test_score = dreg.score(X_test,y_test)\n",
    "print(f'Train score: {train_score}')\n",
    "print(f'Test score: {test_score}')\n",
    "adj_r2\n",
    "r2\n",
    "r2_train"
   ]
  },
  {
   "cell_type": "code",
   "execution_count": 88,
   "metadata": {
    "id": "kRkHolFwRU_t"
   },
   "outputs": [],
   "source": [
    "#Importing required libraries\n",
    "from sklearn import decomposition\n",
    "from sklearn import tree\n",
    "from sklearn.pipeline import Pipeline\n",
    "from sklearn.model_selection import GridSearchCV\n",
    "from sklearn.preprocessing import StandardScaler\n",
    "from sklearn.tree import DecisionTreeRegressor\n",
    "from sklearn.ensemble import RandomForestRegressor"
   ]
  },
  {
   "cell_type": "markdown",
   "metadata": {
    "id": "q11HOEQdeXJA"
   },
   "source": [
    "### **Random Forest Regressor**"
   ]
  },
  {
   "cell_type": "code",
   "execution_count": 89,
   "metadata": {
    "id": "z3I-U7t9h4To"
   },
   "outputs": [],
   "source": [
    "X = data[features].copy()\n",
    "y = data['number_of_ticket'].copy()\n",
    "\n",
    "X_train, X_test, y_train, y_test = train_test_split(X,y,test_size=0.33, random_state=42)"
   ]
  },
  {
   "cell_type": "code",
   "execution_count": 90,
   "metadata": {
    "id": "S9-gpQAxaHq5"
   },
   "outputs": [],
   "source": [
    "dec_reg =RandomForestRegressor()"
   ]
  },
  {
   "cell_type": "code",
   "execution_count": 91,
   "metadata": {
    "colab": {
     "base_uri": "https://localhost:8080/"
    },
    "id": "WTb-RiKzhBBL",
    "outputId": "4a303387-7263-4ce4-87a2-3ad4d32135a0"
   },
   "outputs": [
    {
     "data": {
      "text/plain": [
       "RandomForestRegressor()"
      ]
     },
     "execution_count": 91,
     "metadata": {},
     "output_type": "execute_result"
    }
   ],
   "source": [
    "dec_reg.fit(X_train,y_train)"
   ]
  },
  {
   "cell_type": "code",
   "execution_count": 92,
   "metadata": {
    "colab": {
     "base_uri": "https://localhost:8080/"
    },
    "id": "mftvqCzJhdDA",
    "outputId": "1d5c854b-bd5a-4270-d795-342ff1d49b9b"
   },
   "outputs": [
    {
     "data": {
      "text/plain": [
       "0.9498005042687944"
      ]
     },
     "execution_count": 92,
     "metadata": {},
     "output_type": "execute_result"
    }
   ],
   "source": [
    "dec_reg.score(X_train,y_train)"
   ]
  },
  {
   "cell_type": "code",
   "execution_count": 93,
   "metadata": {
    "colab": {
     "base_uri": "https://localhost:8080/"
    },
    "id": "Mb46kK98eomU",
    "outputId": "431b6508-acc6-4c02-f489-a3c0be33c034"
   },
   "outputs": [
    {
     "data": {
      "text/plain": [
       "0.6511526268506673"
      ]
     },
     "execution_count": 93,
     "metadata": {},
     "output_type": "execute_result"
    }
   ],
   "source": [
    "dec_reg.score(X_test,y_test)"
   ]
  },
  {
   "cell_type": "markdown",
   "metadata": {
    "id": "AsPkXN0bewOD"
   },
   "source": [
    "Model seems to be overfitted. \n"
   ]
  },
  {
   "cell_type": "markdown",
   "metadata": {
    "id": "Cn6w5XiMfMZx"
   },
   "source": [
    "### **grid search cv on Random forest**"
   ]
  },
  {
   "cell_type": "code",
   "execution_count": 94,
   "metadata": {
    "id": "H39Oy8hnaP8H"
   },
   "outputs": [],
   "source": [
    "parameters = {  'ccp_alpha':[0.01,0.1,1,10,100],\n",
    "              'max_depth': [4, 6, 8],\n",
    "            'min_samples_leaf': [40, 50],\n",
    "            'min_samples_split': [50, 100, 150]  \n",
    "}"
   ]
  },
  {
   "cell_type": "code",
   "execution_count": 95,
   "metadata": {
    "colab": {
     "base_uri": "https://localhost:8080/"
    },
    "id": "fWBEYGCKfYbs",
    "outputId": "47baa458-ce37-4d18-b562-6dd7f5f95b19"
   },
   "outputs": [
    {
     "name": "stdout",
     "output_type": "stream",
     "text": [
      "Fitting 2 folds for each of 90 candidates, totalling 180 fits\n"
     ]
    },
    {
     "name": "stderr",
     "output_type": "stream",
     "text": [
      "[Parallel(n_jobs=1)]: Using backend SequentialBackend with 1 concurrent workers.\n",
      "[Parallel(n_jobs=1)]: Done 180 out of 180 | elapsed:  4.8min finished\n"
     ]
    },
    {
     "data": {
      "text/plain": [
       "GridSearchCV(cv=2, estimator=RandomForestRegressor(),\n",
       "             param_grid={'ccp_alpha': [0.01, 0.1, 1, 10, 100],\n",
       "                         'max_depth': [4, 6, 8], 'min_samples_leaf': [40, 50],\n",
       "                         'min_samples_split': [50, 100, 150]},\n",
       "             verbose=1)"
      ]
     },
     "execution_count": 95,
     "metadata": {},
     "output_type": "execute_result"
    }
   ],
   "source": [
    "X = data[features].copy()\n",
    "y = data['number_of_ticket'].copy()\n",
    "dec_reg =RandomForestRegressor()\n",
    "rf_grid =GridSearchCV(dec_reg,param_grid=parameters, verbose=1,cv=2)\n",
    "rf_grid.fit(X, y)"
   ]
  },
  {
   "cell_type": "code",
   "execution_count": 96,
   "metadata": {
    "colab": {
     "base_uri": "https://localhost:8080/"
    },
    "id": "ujSH5-Mkfop6",
    "outputId": "5a61060f-866f-4978-9e44-1676d5011371"
   },
   "outputs": [
    {
     "data": {
      "text/plain": [
       "{'bootstrap': True,\n",
       " 'ccp_alpha': 0.1,\n",
       " 'criterion': 'mse',\n",
       " 'max_depth': 6,\n",
       " 'max_features': 'auto',\n",
       " 'max_leaf_nodes': None,\n",
       " 'max_samples': None,\n",
       " 'min_impurity_decrease': 0.0,\n",
       " 'min_impurity_split': None,\n",
       " 'min_samples_leaf': 40,\n",
       " 'min_samples_split': 100,\n",
       " 'min_weight_fraction_leaf': 0.0,\n",
       " 'n_estimators': 100,\n",
       " 'n_jobs': None,\n",
       " 'oob_score': False,\n",
       " 'random_state': None,\n",
       " 'verbose': 0,\n",
       " 'warm_start': False}"
      ]
     },
     "execution_count": 96,
     "metadata": {},
     "output_type": "execute_result"
    }
   ],
   "source": [
    "rf_grid.best_estimator_.get_params()"
   ]
  },
  {
   "cell_type": "code",
   "execution_count": 97,
   "metadata": {
    "colab": {
     "base_uri": "https://localhost:8080/"
    },
    "id": "93zPs8UsfrTS",
    "outputId": "0d7c6c3f-946f-49c7-a510-1827492cd631"
   },
   "outputs": [
    {
     "name": "stdout",
     "output_type": "stream",
     "text": [
      "Train Score:  0.6123575166256533\n",
      "Test Score:  0.6076990275296366\n",
      "Mean Squared Error (MSE):  29.44180893639689\n",
      "Mean Absolute Error (MAE):  3.4929810646211927\n",
      "Root Mean Squared Error (MSE):  5.426030679640219\n",
      "R2 Score:  0.6076990275296366\n",
      "R2_train Score:  0.6123575166256533\n",
      "Adjusted R2 Score:  0.5991411481103525\n"
     ]
    }
   ],
   "source": [
    "rf_optimal_model =rf_grid.best_estimator_\n",
    "rf_train_preds = rf_optimal_model.predict(X_train)\n",
    "rf_test_preds = rf_optimal_model.predict(X_test)\n",
    "train_score= rf_optimal_model.score(X_train,y_train)\n",
    "test_score = rf_optimal_model.score(X_test,y_test)\n",
    "\n",
    "\n",
    "\n",
    "#Find R-squared value\n",
    "r2 = r2_score(y_test, rf_test_preds)\n",
    "r2_train = r2_score(y_train, rf_train_preds)\n",
    "# Find Adjusted R-squared value\n",
    "adj_r2=1-(1-r2_score(y_test,rf_test_preds))*((X_test.shape[0]-1)/(X_test.shape[0]-X_test.shape[1]-1))\n",
    "\n",
    "print('Train Score: ',train_score)\n",
    "print('Test Score: ',test_score)\n",
    "print('Mean Squared Error (MSE): ',mean_squared_error(y_test, rf_test_preds))\n",
    "print('Mean Absolute Error (MAE): ',mean_absolute_error(y_test, rf_test_preds))\n",
    "print('Root Mean Squared Error (MSE): ',np.sqrt(mean_squared_error(y_test, rf_test_preds)))\n",
    "print('R2 Score: ',r2)\n",
    "print('R2_train Score: ',r2_train)\n",
    "print('Adjusted R2 Score: ',adj_r2)"
   ]
  },
  {
   "cell_type": "code",
   "execution_count": 98,
   "metadata": {
    "id": "JOCgkLbBqKyL"
   },
   "outputs": [],
   "source": [
    "import warnings\n",
    "warnings.filterwarnings('ignore')"
   ]
  },
  {
   "cell_type": "markdown",
   "metadata": {
    "id": "Lg9wEkL-N8qJ"
   },
   "source": [
    "### **Grid Search CV on XGboost algorithm**"
   ]
  },
  {
   "cell_type": "code",
   "execution_count": 99,
   "metadata": {
    "id": "INkWCdCjaHKI"
   },
   "outputs": [],
   "source": [
    "## import required libraries\n",
    "import xgboost as xgb\n",
    "from xgboost import XGBRegressor\n",
    "xgb = xgb.XGBRegressor()\n",
    "from sklearn.model_selection import train_test_split\n",
    "from sklearn.model_selection import cross_val_score, KFold\n",
    "from sklearn.metrics import mean_squared_error"
   ]
  },
  {
   "cell_type": "code",
   "execution_count": 100,
   "metadata": {
    "id": "d2sqoWzQlXFR"
   },
   "outputs": [],
   "source": [
    "# Prameters\n",
    "params = {\"min_child_weight\":[10,20], \n",
    "            'eta': [0.004,0.04,4,40], \n",
    "            'colsample_bytree':[0.7], \n",
    "            'max_depth': [7,9,11],\n",
    "          \n",
    "          }"
   ]
  },
  {
   "cell_type": "code",
   "execution_count": 101,
   "metadata": {
    "colab": {
     "base_uri": "https://localhost:8080/"
    },
    "id": "jcsB8vi-aHKI",
    "outputId": "dbeed222-8cd3-42c6-d827-5076de41a7b1"
   },
   "outputs": [
    {
     "name": "stdout",
     "output_type": "stream",
     "text": [
      "Fitting 3 folds for each of 24 candidates, totalling 72 fits\n"
     ]
    },
    {
     "name": "stderr",
     "output_type": "stream",
     "text": [
      "[Parallel(n_jobs=1)]: Using backend SequentialBackend with 1 concurrent workers.\n"
     ]
    },
    {
     "ename": "ValueError",
     "evalue": "Input contains NaN, infinity or a value too large for dtype('float32').",
     "output_type": "error",
     "traceback": [
      "\u001b[1;31m---------------------------------------------------------------------------\u001b[0m",
      "\u001b[1;31mValueError\u001b[0m                                Traceback (most recent call last)",
      "\u001b[1;32m<ipython-input-101-3356708d3735>\u001b[0m in \u001b[0;36m<module>\u001b[1;34m\u001b[0m\n\u001b[0;32m      5\u001b[0m \u001b[1;33m\u001b[0m\u001b[0m\n\u001b[0;32m      6\u001b[0m \u001b[0mreg_gs\u001b[0m \u001b[1;33m=\u001b[0m \u001b[0mGridSearchCV\u001b[0m\u001b[1;33m(\u001b[0m\u001b[0mxgb\u001b[0m\u001b[1;33m,\u001b[0m\u001b[0mparam_grid\u001b[0m\u001b[1;33m=\u001b[0m\u001b[0mparams\u001b[0m\u001b[1;33m,\u001b[0m \u001b[0mverbose\u001b[0m\u001b[1;33m=\u001b[0m\u001b[1;36m1\u001b[0m\u001b[1;33m,\u001b[0m\u001b[0mcv\u001b[0m\u001b[1;33m=\u001b[0m\u001b[1;36m3\u001b[0m\u001b[1;33m)\u001b[0m\u001b[1;33m\u001b[0m\u001b[1;33m\u001b[0m\u001b[0m\n\u001b[1;32m----> 7\u001b[1;33m \u001b[0mreg_gs\u001b[0m\u001b[1;33m.\u001b[0m\u001b[0mfit\u001b[0m\u001b[1;33m(\u001b[0m\u001b[0mX\u001b[0m\u001b[1;33m,\u001b[0m \u001b[0my\u001b[0m\u001b[1;33m)\u001b[0m\u001b[1;33m\u001b[0m\u001b[1;33m\u001b[0m\u001b[0m\n\u001b[0m",
      "\u001b[1;32m~\\anaconda3\\lib\\site-packages\\sklearn\\utils\\validation.py\u001b[0m in \u001b[0;36minner_f\u001b[1;34m(*args, **kwargs)\u001b[0m\n\u001b[0;32m     70\u001b[0m                           FutureWarning)\n\u001b[0;32m     71\u001b[0m         \u001b[0mkwargs\u001b[0m\u001b[1;33m.\u001b[0m\u001b[0mupdate\u001b[0m\u001b[1;33m(\u001b[0m\u001b[1;33m{\u001b[0m\u001b[0mk\u001b[0m\u001b[1;33m:\u001b[0m \u001b[0marg\u001b[0m \u001b[1;32mfor\u001b[0m \u001b[0mk\u001b[0m\u001b[1;33m,\u001b[0m \u001b[0marg\u001b[0m \u001b[1;32min\u001b[0m \u001b[0mzip\u001b[0m\u001b[1;33m(\u001b[0m\u001b[0msig\u001b[0m\u001b[1;33m.\u001b[0m\u001b[0mparameters\u001b[0m\u001b[1;33m,\u001b[0m \u001b[0margs\u001b[0m\u001b[1;33m)\u001b[0m\u001b[1;33m}\u001b[0m\u001b[1;33m)\u001b[0m\u001b[1;33m\u001b[0m\u001b[1;33m\u001b[0m\u001b[0m\n\u001b[1;32m---> 72\u001b[1;33m         \u001b[1;32mreturn\u001b[0m \u001b[0mf\u001b[0m\u001b[1;33m(\u001b[0m\u001b[1;33m**\u001b[0m\u001b[0mkwargs\u001b[0m\u001b[1;33m)\u001b[0m\u001b[1;33m\u001b[0m\u001b[1;33m\u001b[0m\u001b[0m\n\u001b[0m\u001b[0;32m     73\u001b[0m     \u001b[1;32mreturn\u001b[0m \u001b[0minner_f\u001b[0m\u001b[1;33m\u001b[0m\u001b[1;33m\u001b[0m\u001b[0m\n\u001b[0;32m     74\u001b[0m \u001b[1;33m\u001b[0m\u001b[0m\n",
      "\u001b[1;32m~\\anaconda3\\lib\\site-packages\\sklearn\\model_selection\\_search.py\u001b[0m in \u001b[0;36mfit\u001b[1;34m(self, X, y, groups, **fit_params)\u001b[0m\n\u001b[0;32m    734\u001b[0m                 \u001b[1;32mreturn\u001b[0m \u001b[0mresults\u001b[0m\u001b[1;33m\u001b[0m\u001b[1;33m\u001b[0m\u001b[0m\n\u001b[0;32m    735\u001b[0m \u001b[1;33m\u001b[0m\u001b[0m\n\u001b[1;32m--> 736\u001b[1;33m             \u001b[0mself\u001b[0m\u001b[1;33m.\u001b[0m\u001b[0m_run_search\u001b[0m\u001b[1;33m(\u001b[0m\u001b[0mevaluate_candidates\u001b[0m\u001b[1;33m)\u001b[0m\u001b[1;33m\u001b[0m\u001b[1;33m\u001b[0m\u001b[0m\n\u001b[0m\u001b[0;32m    737\u001b[0m \u001b[1;33m\u001b[0m\u001b[0m\n\u001b[0;32m    738\u001b[0m         \u001b[1;31m# For multi-metric evaluation, store the best_index_, best_params_ and\u001b[0m\u001b[1;33m\u001b[0m\u001b[1;33m\u001b[0m\u001b[1;33m\u001b[0m\u001b[0m\n",
      "\u001b[1;32m~\\anaconda3\\lib\\site-packages\\sklearn\\model_selection\\_search.py\u001b[0m in \u001b[0;36m_run_search\u001b[1;34m(self, evaluate_candidates)\u001b[0m\n\u001b[0;32m   1186\u001b[0m     \u001b[1;32mdef\u001b[0m \u001b[0m_run_search\u001b[0m\u001b[1;33m(\u001b[0m\u001b[0mself\u001b[0m\u001b[1;33m,\u001b[0m \u001b[0mevaluate_candidates\u001b[0m\u001b[1;33m)\u001b[0m\u001b[1;33m:\u001b[0m\u001b[1;33m\u001b[0m\u001b[1;33m\u001b[0m\u001b[0m\n\u001b[0;32m   1187\u001b[0m         \u001b[1;34m\"\"\"Search all candidates in param_grid\"\"\"\u001b[0m\u001b[1;33m\u001b[0m\u001b[1;33m\u001b[0m\u001b[0m\n\u001b[1;32m-> 1188\u001b[1;33m         \u001b[0mevaluate_candidates\u001b[0m\u001b[1;33m(\u001b[0m\u001b[0mParameterGrid\u001b[0m\u001b[1;33m(\u001b[0m\u001b[0mself\u001b[0m\u001b[1;33m.\u001b[0m\u001b[0mparam_grid\u001b[0m\u001b[1;33m)\u001b[0m\u001b[1;33m)\u001b[0m\u001b[1;33m\u001b[0m\u001b[1;33m\u001b[0m\u001b[0m\n\u001b[0m\u001b[0;32m   1189\u001b[0m \u001b[1;33m\u001b[0m\u001b[0m\n\u001b[0;32m   1190\u001b[0m \u001b[1;33m\u001b[0m\u001b[0m\n",
      "\u001b[1;32m~\\anaconda3\\lib\\site-packages\\sklearn\\model_selection\\_search.py\u001b[0m in \u001b[0;36mevaluate_candidates\u001b[1;34m(candidate_params)\u001b[0m\n\u001b[0;32m    706\u001b[0m                               n_splits, n_candidates, n_candidates * n_splits))\n\u001b[0;32m    707\u001b[0m \u001b[1;33m\u001b[0m\u001b[0m\n\u001b[1;32m--> 708\u001b[1;33m                 out = parallel(delayed(_fit_and_score)(clone(base_estimator),\n\u001b[0m\u001b[0;32m    709\u001b[0m                                                        \u001b[0mX\u001b[0m\u001b[1;33m,\u001b[0m \u001b[0my\u001b[0m\u001b[1;33m,\u001b[0m\u001b[1;33m\u001b[0m\u001b[1;33m\u001b[0m\u001b[0m\n\u001b[0;32m    710\u001b[0m                                                        \u001b[0mtrain\u001b[0m\u001b[1;33m=\u001b[0m\u001b[0mtrain\u001b[0m\u001b[1;33m,\u001b[0m \u001b[0mtest\u001b[0m\u001b[1;33m=\u001b[0m\u001b[0mtest\u001b[0m\u001b[1;33m,\u001b[0m\u001b[1;33m\u001b[0m\u001b[1;33m\u001b[0m\u001b[0m\n",
      "\u001b[1;32m~\\anaconda3\\lib\\site-packages\\joblib\\parallel.py\u001b[0m in \u001b[0;36m__call__\u001b[1;34m(self, iterable)\u001b[0m\n\u001b[0;32m   1042\u001b[0m                 \u001b[0mself\u001b[0m\u001b[1;33m.\u001b[0m\u001b[0m_iterating\u001b[0m \u001b[1;33m=\u001b[0m \u001b[0mself\u001b[0m\u001b[1;33m.\u001b[0m\u001b[0m_original_iterator\u001b[0m \u001b[1;32mis\u001b[0m \u001b[1;32mnot\u001b[0m \u001b[1;32mNone\u001b[0m\u001b[1;33m\u001b[0m\u001b[1;33m\u001b[0m\u001b[0m\n\u001b[0;32m   1043\u001b[0m \u001b[1;33m\u001b[0m\u001b[0m\n\u001b[1;32m-> 1044\u001b[1;33m             \u001b[1;32mwhile\u001b[0m \u001b[0mself\u001b[0m\u001b[1;33m.\u001b[0m\u001b[0mdispatch_one_batch\u001b[0m\u001b[1;33m(\u001b[0m\u001b[0miterator\u001b[0m\u001b[1;33m)\u001b[0m\u001b[1;33m:\u001b[0m\u001b[1;33m\u001b[0m\u001b[1;33m\u001b[0m\u001b[0m\n\u001b[0m\u001b[0;32m   1045\u001b[0m                 \u001b[1;32mpass\u001b[0m\u001b[1;33m\u001b[0m\u001b[1;33m\u001b[0m\u001b[0m\n\u001b[0;32m   1046\u001b[0m \u001b[1;33m\u001b[0m\u001b[0m\n",
      "\u001b[1;32m~\\anaconda3\\lib\\site-packages\\joblib\\parallel.py\u001b[0m in \u001b[0;36mdispatch_one_batch\u001b[1;34m(self, iterator)\u001b[0m\n\u001b[0;32m    857\u001b[0m                 \u001b[1;32mreturn\u001b[0m \u001b[1;32mFalse\u001b[0m\u001b[1;33m\u001b[0m\u001b[1;33m\u001b[0m\u001b[0m\n\u001b[0;32m    858\u001b[0m             \u001b[1;32melse\u001b[0m\u001b[1;33m:\u001b[0m\u001b[1;33m\u001b[0m\u001b[1;33m\u001b[0m\u001b[0m\n\u001b[1;32m--> 859\u001b[1;33m                 \u001b[0mself\u001b[0m\u001b[1;33m.\u001b[0m\u001b[0m_dispatch\u001b[0m\u001b[1;33m(\u001b[0m\u001b[0mtasks\u001b[0m\u001b[1;33m)\u001b[0m\u001b[1;33m\u001b[0m\u001b[1;33m\u001b[0m\u001b[0m\n\u001b[0m\u001b[0;32m    860\u001b[0m                 \u001b[1;32mreturn\u001b[0m \u001b[1;32mTrue\u001b[0m\u001b[1;33m\u001b[0m\u001b[1;33m\u001b[0m\u001b[0m\n\u001b[0;32m    861\u001b[0m \u001b[1;33m\u001b[0m\u001b[0m\n",
      "\u001b[1;32m~\\anaconda3\\lib\\site-packages\\joblib\\parallel.py\u001b[0m in \u001b[0;36m_dispatch\u001b[1;34m(self, batch)\u001b[0m\n\u001b[0;32m    775\u001b[0m         \u001b[1;32mwith\u001b[0m \u001b[0mself\u001b[0m\u001b[1;33m.\u001b[0m\u001b[0m_lock\u001b[0m\u001b[1;33m:\u001b[0m\u001b[1;33m\u001b[0m\u001b[1;33m\u001b[0m\u001b[0m\n\u001b[0;32m    776\u001b[0m             \u001b[0mjob_idx\u001b[0m \u001b[1;33m=\u001b[0m \u001b[0mlen\u001b[0m\u001b[1;33m(\u001b[0m\u001b[0mself\u001b[0m\u001b[1;33m.\u001b[0m\u001b[0m_jobs\u001b[0m\u001b[1;33m)\u001b[0m\u001b[1;33m\u001b[0m\u001b[1;33m\u001b[0m\u001b[0m\n\u001b[1;32m--> 777\u001b[1;33m             \u001b[0mjob\u001b[0m \u001b[1;33m=\u001b[0m \u001b[0mself\u001b[0m\u001b[1;33m.\u001b[0m\u001b[0m_backend\u001b[0m\u001b[1;33m.\u001b[0m\u001b[0mapply_async\u001b[0m\u001b[1;33m(\u001b[0m\u001b[0mbatch\u001b[0m\u001b[1;33m,\u001b[0m \u001b[0mcallback\u001b[0m\u001b[1;33m=\u001b[0m\u001b[0mcb\u001b[0m\u001b[1;33m)\u001b[0m\u001b[1;33m\u001b[0m\u001b[1;33m\u001b[0m\u001b[0m\n\u001b[0m\u001b[0;32m    778\u001b[0m             \u001b[1;31m# A job can complete so quickly than its callback is\u001b[0m\u001b[1;33m\u001b[0m\u001b[1;33m\u001b[0m\u001b[1;33m\u001b[0m\u001b[0m\n\u001b[0;32m    779\u001b[0m             \u001b[1;31m# called before we get here, causing self._jobs to\u001b[0m\u001b[1;33m\u001b[0m\u001b[1;33m\u001b[0m\u001b[1;33m\u001b[0m\u001b[0m\n",
      "\u001b[1;32m~\\anaconda3\\lib\\site-packages\\joblib\\_parallel_backends.py\u001b[0m in \u001b[0;36mapply_async\u001b[1;34m(self, func, callback)\u001b[0m\n\u001b[0;32m    206\u001b[0m     \u001b[1;32mdef\u001b[0m \u001b[0mapply_async\u001b[0m\u001b[1;33m(\u001b[0m\u001b[0mself\u001b[0m\u001b[1;33m,\u001b[0m \u001b[0mfunc\u001b[0m\u001b[1;33m,\u001b[0m \u001b[0mcallback\u001b[0m\u001b[1;33m=\u001b[0m\u001b[1;32mNone\u001b[0m\u001b[1;33m)\u001b[0m\u001b[1;33m:\u001b[0m\u001b[1;33m\u001b[0m\u001b[1;33m\u001b[0m\u001b[0m\n\u001b[0;32m    207\u001b[0m         \u001b[1;34m\"\"\"Schedule a func to be run\"\"\"\u001b[0m\u001b[1;33m\u001b[0m\u001b[1;33m\u001b[0m\u001b[0m\n\u001b[1;32m--> 208\u001b[1;33m         \u001b[0mresult\u001b[0m \u001b[1;33m=\u001b[0m \u001b[0mImmediateResult\u001b[0m\u001b[1;33m(\u001b[0m\u001b[0mfunc\u001b[0m\u001b[1;33m)\u001b[0m\u001b[1;33m\u001b[0m\u001b[1;33m\u001b[0m\u001b[0m\n\u001b[0m\u001b[0;32m    209\u001b[0m         \u001b[1;32mif\u001b[0m \u001b[0mcallback\u001b[0m\u001b[1;33m:\u001b[0m\u001b[1;33m\u001b[0m\u001b[1;33m\u001b[0m\u001b[0m\n\u001b[0;32m    210\u001b[0m             \u001b[0mcallback\u001b[0m\u001b[1;33m(\u001b[0m\u001b[0mresult\u001b[0m\u001b[1;33m)\u001b[0m\u001b[1;33m\u001b[0m\u001b[1;33m\u001b[0m\u001b[0m\n",
      "\u001b[1;32m~\\anaconda3\\lib\\site-packages\\joblib\\_parallel_backends.py\u001b[0m in \u001b[0;36m__init__\u001b[1;34m(self, batch)\u001b[0m\n\u001b[0;32m    570\u001b[0m         \u001b[1;31m# Don't delay the application, to avoid keeping the input\u001b[0m\u001b[1;33m\u001b[0m\u001b[1;33m\u001b[0m\u001b[1;33m\u001b[0m\u001b[0m\n\u001b[0;32m    571\u001b[0m         \u001b[1;31m# arguments in memory\u001b[0m\u001b[1;33m\u001b[0m\u001b[1;33m\u001b[0m\u001b[1;33m\u001b[0m\u001b[0m\n\u001b[1;32m--> 572\u001b[1;33m         \u001b[0mself\u001b[0m\u001b[1;33m.\u001b[0m\u001b[0mresults\u001b[0m \u001b[1;33m=\u001b[0m \u001b[0mbatch\u001b[0m\u001b[1;33m(\u001b[0m\u001b[1;33m)\u001b[0m\u001b[1;33m\u001b[0m\u001b[1;33m\u001b[0m\u001b[0m\n\u001b[0m\u001b[0;32m    573\u001b[0m \u001b[1;33m\u001b[0m\u001b[0m\n\u001b[0;32m    574\u001b[0m     \u001b[1;32mdef\u001b[0m \u001b[0mget\u001b[0m\u001b[1;33m(\u001b[0m\u001b[0mself\u001b[0m\u001b[1;33m)\u001b[0m\u001b[1;33m:\u001b[0m\u001b[1;33m\u001b[0m\u001b[1;33m\u001b[0m\u001b[0m\n",
      "\u001b[1;32m~\\anaconda3\\lib\\site-packages\\joblib\\parallel.py\u001b[0m in \u001b[0;36m__call__\u001b[1;34m(self)\u001b[0m\n\u001b[0;32m    260\u001b[0m         \u001b[1;31m# change the default number of processes to -1\u001b[0m\u001b[1;33m\u001b[0m\u001b[1;33m\u001b[0m\u001b[1;33m\u001b[0m\u001b[0m\n\u001b[0;32m    261\u001b[0m         \u001b[1;32mwith\u001b[0m \u001b[0mparallel_backend\u001b[0m\u001b[1;33m(\u001b[0m\u001b[0mself\u001b[0m\u001b[1;33m.\u001b[0m\u001b[0m_backend\u001b[0m\u001b[1;33m,\u001b[0m \u001b[0mn_jobs\u001b[0m\u001b[1;33m=\u001b[0m\u001b[0mself\u001b[0m\u001b[1;33m.\u001b[0m\u001b[0m_n_jobs\u001b[0m\u001b[1;33m)\u001b[0m\u001b[1;33m:\u001b[0m\u001b[1;33m\u001b[0m\u001b[1;33m\u001b[0m\u001b[0m\n\u001b[1;32m--> 262\u001b[1;33m             return [func(*args, **kwargs)\n\u001b[0m\u001b[0;32m    263\u001b[0m                     for func, args, kwargs in self.items]\n\u001b[0;32m    264\u001b[0m \u001b[1;33m\u001b[0m\u001b[0m\n",
      "\u001b[1;32m~\\anaconda3\\lib\\site-packages\\joblib\\parallel.py\u001b[0m in \u001b[0;36m<listcomp>\u001b[1;34m(.0)\u001b[0m\n\u001b[0;32m    260\u001b[0m         \u001b[1;31m# change the default number of processes to -1\u001b[0m\u001b[1;33m\u001b[0m\u001b[1;33m\u001b[0m\u001b[1;33m\u001b[0m\u001b[0m\n\u001b[0;32m    261\u001b[0m         \u001b[1;32mwith\u001b[0m \u001b[0mparallel_backend\u001b[0m\u001b[1;33m(\u001b[0m\u001b[0mself\u001b[0m\u001b[1;33m.\u001b[0m\u001b[0m_backend\u001b[0m\u001b[1;33m,\u001b[0m \u001b[0mn_jobs\u001b[0m\u001b[1;33m=\u001b[0m\u001b[0mself\u001b[0m\u001b[1;33m.\u001b[0m\u001b[0m_n_jobs\u001b[0m\u001b[1;33m)\u001b[0m\u001b[1;33m:\u001b[0m\u001b[1;33m\u001b[0m\u001b[1;33m\u001b[0m\u001b[0m\n\u001b[1;32m--> 262\u001b[1;33m             return [func(*args, **kwargs)\n\u001b[0m\u001b[0;32m    263\u001b[0m                     for func, args, kwargs in self.items]\n\u001b[0;32m    264\u001b[0m \u001b[1;33m\u001b[0m\u001b[0m\n",
      "\u001b[1;32m~\\anaconda3\\lib\\site-packages\\sklearn\\model_selection\\_validation.py\u001b[0m in \u001b[0;36m_fit_and_score\u001b[1;34m(estimator, X, y, scorer, train, test, verbose, parameters, fit_params, return_train_score, return_parameters, return_n_test_samples, return_times, return_estimator, error_score)\u001b[0m\n\u001b[0;32m    558\u001b[0m     \u001b[1;32melse\u001b[0m\u001b[1;33m:\u001b[0m\u001b[1;33m\u001b[0m\u001b[1;33m\u001b[0m\u001b[0m\n\u001b[0;32m    559\u001b[0m         \u001b[0mfit_time\u001b[0m \u001b[1;33m=\u001b[0m \u001b[0mtime\u001b[0m\u001b[1;33m.\u001b[0m\u001b[0mtime\u001b[0m\u001b[1;33m(\u001b[0m\u001b[1;33m)\u001b[0m \u001b[1;33m-\u001b[0m \u001b[0mstart_time\u001b[0m\u001b[1;33m\u001b[0m\u001b[1;33m\u001b[0m\u001b[0m\n\u001b[1;32m--> 560\u001b[1;33m         \u001b[0mtest_scores\u001b[0m \u001b[1;33m=\u001b[0m \u001b[0m_score\u001b[0m\u001b[1;33m(\u001b[0m\u001b[0mestimator\u001b[0m\u001b[1;33m,\u001b[0m \u001b[0mX_test\u001b[0m\u001b[1;33m,\u001b[0m \u001b[0my_test\u001b[0m\u001b[1;33m,\u001b[0m \u001b[0mscorer\u001b[0m\u001b[1;33m)\u001b[0m\u001b[1;33m\u001b[0m\u001b[1;33m\u001b[0m\u001b[0m\n\u001b[0m\u001b[0;32m    561\u001b[0m         \u001b[0mscore_time\u001b[0m \u001b[1;33m=\u001b[0m \u001b[0mtime\u001b[0m\u001b[1;33m.\u001b[0m\u001b[0mtime\u001b[0m\u001b[1;33m(\u001b[0m\u001b[1;33m)\u001b[0m \u001b[1;33m-\u001b[0m \u001b[0mstart_time\u001b[0m \u001b[1;33m-\u001b[0m \u001b[0mfit_time\u001b[0m\u001b[1;33m\u001b[0m\u001b[1;33m\u001b[0m\u001b[0m\n\u001b[0;32m    562\u001b[0m         \u001b[1;32mif\u001b[0m \u001b[0mreturn_train_score\u001b[0m\u001b[1;33m:\u001b[0m\u001b[1;33m\u001b[0m\u001b[1;33m\u001b[0m\u001b[0m\n",
      "\u001b[1;32m~\\anaconda3\\lib\\site-packages\\sklearn\\model_selection\\_validation.py\u001b[0m in \u001b[0;36m_score\u001b[1;34m(estimator, X_test, y_test, scorer)\u001b[0m\n\u001b[0;32m    605\u001b[0m         \u001b[0mscores\u001b[0m \u001b[1;33m=\u001b[0m \u001b[0mscorer\u001b[0m\u001b[1;33m(\u001b[0m\u001b[0mestimator\u001b[0m\u001b[1;33m,\u001b[0m \u001b[0mX_test\u001b[0m\u001b[1;33m)\u001b[0m\u001b[1;33m\u001b[0m\u001b[1;33m\u001b[0m\u001b[0m\n\u001b[0;32m    606\u001b[0m     \u001b[1;32melse\u001b[0m\u001b[1;33m:\u001b[0m\u001b[1;33m\u001b[0m\u001b[1;33m\u001b[0m\u001b[0m\n\u001b[1;32m--> 607\u001b[1;33m         \u001b[0mscores\u001b[0m \u001b[1;33m=\u001b[0m \u001b[0mscorer\u001b[0m\u001b[1;33m(\u001b[0m\u001b[0mestimator\u001b[0m\u001b[1;33m,\u001b[0m \u001b[0mX_test\u001b[0m\u001b[1;33m,\u001b[0m \u001b[0my_test\u001b[0m\u001b[1;33m)\u001b[0m\u001b[1;33m\u001b[0m\u001b[1;33m\u001b[0m\u001b[0m\n\u001b[0m\u001b[0;32m    608\u001b[0m \u001b[1;33m\u001b[0m\u001b[0m\n\u001b[0;32m    609\u001b[0m     error_msg = (\"scoring must return a number, got %s (%s) \"\n",
      "\u001b[1;32m~\\anaconda3\\lib\\site-packages\\sklearn\\metrics\\_scorer.py\u001b[0m in \u001b[0;36m__call__\u001b[1;34m(self, estimator, *args, **kwargs)\u001b[0m\n\u001b[0;32m     88\u001b[0m                                       *args, **kwargs)\n\u001b[0;32m     89\u001b[0m             \u001b[1;32melse\u001b[0m\u001b[1;33m:\u001b[0m\u001b[1;33m\u001b[0m\u001b[1;33m\u001b[0m\u001b[0m\n\u001b[1;32m---> 90\u001b[1;33m                 \u001b[0mscore\u001b[0m \u001b[1;33m=\u001b[0m \u001b[0mscorer\u001b[0m\u001b[1;33m(\u001b[0m\u001b[0mestimator\u001b[0m\u001b[1;33m,\u001b[0m \u001b[1;33m*\u001b[0m\u001b[0margs\u001b[0m\u001b[1;33m,\u001b[0m \u001b[1;33m**\u001b[0m\u001b[0mkwargs\u001b[0m\u001b[1;33m)\u001b[0m\u001b[1;33m\u001b[0m\u001b[1;33m\u001b[0m\u001b[0m\n\u001b[0m\u001b[0;32m     91\u001b[0m             \u001b[0mscores\u001b[0m\u001b[1;33m[\u001b[0m\u001b[0mname\u001b[0m\u001b[1;33m]\u001b[0m \u001b[1;33m=\u001b[0m \u001b[0mscore\u001b[0m\u001b[1;33m\u001b[0m\u001b[1;33m\u001b[0m\u001b[0m\n\u001b[0;32m     92\u001b[0m         \u001b[1;32mreturn\u001b[0m \u001b[0mscores\u001b[0m\u001b[1;33m\u001b[0m\u001b[1;33m\u001b[0m\u001b[0m\n",
      "\u001b[1;32m~\\anaconda3\\lib\\site-packages\\sklearn\\metrics\\_scorer.py\u001b[0m in \u001b[0;36m_passthrough_scorer\u001b[1;34m(estimator, *args, **kwargs)\u001b[0m\n\u001b[0;32m    370\u001b[0m \u001b[1;32mdef\u001b[0m \u001b[0m_passthrough_scorer\u001b[0m\u001b[1;33m(\u001b[0m\u001b[0mestimator\u001b[0m\u001b[1;33m,\u001b[0m \u001b[1;33m*\u001b[0m\u001b[0margs\u001b[0m\u001b[1;33m,\u001b[0m \u001b[1;33m**\u001b[0m\u001b[0mkwargs\u001b[0m\u001b[1;33m)\u001b[0m\u001b[1;33m:\u001b[0m\u001b[1;33m\u001b[0m\u001b[1;33m\u001b[0m\u001b[0m\n\u001b[0;32m    371\u001b[0m     \u001b[1;34m\"\"\"Function that wraps estimator.score\"\"\"\u001b[0m\u001b[1;33m\u001b[0m\u001b[1;33m\u001b[0m\u001b[0m\n\u001b[1;32m--> 372\u001b[1;33m     \u001b[1;32mreturn\u001b[0m \u001b[0mestimator\u001b[0m\u001b[1;33m.\u001b[0m\u001b[0mscore\u001b[0m\u001b[1;33m(\u001b[0m\u001b[1;33m*\u001b[0m\u001b[0margs\u001b[0m\u001b[1;33m,\u001b[0m \u001b[1;33m**\u001b[0m\u001b[0mkwargs\u001b[0m\u001b[1;33m)\u001b[0m\u001b[1;33m\u001b[0m\u001b[1;33m\u001b[0m\u001b[0m\n\u001b[0m\u001b[0;32m    373\u001b[0m \u001b[1;33m\u001b[0m\u001b[0m\n\u001b[0;32m    374\u001b[0m \u001b[1;33m\u001b[0m\u001b[0m\n",
      "\u001b[1;32m~\\anaconda3\\lib\\site-packages\\sklearn\\base.py\u001b[0m in \u001b[0;36mscore\u001b[1;34m(self, X, y, sample_weight)\u001b[0m\n\u001b[0;32m    550\u001b[0m         \u001b[1;32mfrom\u001b[0m \u001b[1;33m.\u001b[0m\u001b[0mmetrics\u001b[0m \u001b[1;32mimport\u001b[0m \u001b[0mr2_score\u001b[0m\u001b[1;33m\u001b[0m\u001b[1;33m\u001b[0m\u001b[0m\n\u001b[0;32m    551\u001b[0m         \u001b[0my_pred\u001b[0m \u001b[1;33m=\u001b[0m \u001b[0mself\u001b[0m\u001b[1;33m.\u001b[0m\u001b[0mpredict\u001b[0m\u001b[1;33m(\u001b[0m\u001b[0mX\u001b[0m\u001b[1;33m)\u001b[0m\u001b[1;33m\u001b[0m\u001b[1;33m\u001b[0m\u001b[0m\n\u001b[1;32m--> 552\u001b[1;33m         \u001b[1;32mreturn\u001b[0m \u001b[0mr2_score\u001b[0m\u001b[1;33m(\u001b[0m\u001b[0my\u001b[0m\u001b[1;33m,\u001b[0m \u001b[0my_pred\u001b[0m\u001b[1;33m,\u001b[0m \u001b[0msample_weight\u001b[0m\u001b[1;33m=\u001b[0m\u001b[0msample_weight\u001b[0m\u001b[1;33m)\u001b[0m\u001b[1;33m\u001b[0m\u001b[1;33m\u001b[0m\u001b[0m\n\u001b[0m\u001b[0;32m    553\u001b[0m \u001b[1;33m\u001b[0m\u001b[0m\n\u001b[0;32m    554\u001b[0m     \u001b[1;32mdef\u001b[0m \u001b[0m_more_tags\u001b[0m\u001b[1;33m(\u001b[0m\u001b[0mself\u001b[0m\u001b[1;33m)\u001b[0m\u001b[1;33m:\u001b[0m\u001b[1;33m\u001b[0m\u001b[1;33m\u001b[0m\u001b[0m\n",
      "\u001b[1;32m~\\anaconda3\\lib\\site-packages\\sklearn\\utils\\validation.py\u001b[0m in \u001b[0;36minner_f\u001b[1;34m(*args, **kwargs)\u001b[0m\n\u001b[0;32m     70\u001b[0m                           FutureWarning)\n\u001b[0;32m     71\u001b[0m         \u001b[0mkwargs\u001b[0m\u001b[1;33m.\u001b[0m\u001b[0mupdate\u001b[0m\u001b[1;33m(\u001b[0m\u001b[1;33m{\u001b[0m\u001b[0mk\u001b[0m\u001b[1;33m:\u001b[0m \u001b[0marg\u001b[0m \u001b[1;32mfor\u001b[0m \u001b[0mk\u001b[0m\u001b[1;33m,\u001b[0m \u001b[0marg\u001b[0m \u001b[1;32min\u001b[0m \u001b[0mzip\u001b[0m\u001b[1;33m(\u001b[0m\u001b[0msig\u001b[0m\u001b[1;33m.\u001b[0m\u001b[0mparameters\u001b[0m\u001b[1;33m,\u001b[0m \u001b[0margs\u001b[0m\u001b[1;33m)\u001b[0m\u001b[1;33m}\u001b[0m\u001b[1;33m)\u001b[0m\u001b[1;33m\u001b[0m\u001b[1;33m\u001b[0m\u001b[0m\n\u001b[1;32m---> 72\u001b[1;33m         \u001b[1;32mreturn\u001b[0m \u001b[0mf\u001b[0m\u001b[1;33m(\u001b[0m\u001b[1;33m**\u001b[0m\u001b[0mkwargs\u001b[0m\u001b[1;33m)\u001b[0m\u001b[1;33m\u001b[0m\u001b[1;33m\u001b[0m\u001b[0m\n\u001b[0m\u001b[0;32m     73\u001b[0m     \u001b[1;32mreturn\u001b[0m \u001b[0minner_f\u001b[0m\u001b[1;33m\u001b[0m\u001b[1;33m\u001b[0m\u001b[0m\n\u001b[0;32m     74\u001b[0m \u001b[1;33m\u001b[0m\u001b[0m\n",
      "\u001b[1;32m~\\anaconda3\\lib\\site-packages\\sklearn\\metrics\\_regression.py\u001b[0m in \u001b[0;36mr2_score\u001b[1;34m(y_true, y_pred, sample_weight, multioutput)\u001b[0m\n\u001b[0;32m    586\u001b[0m     \u001b[1;33m-\u001b[0m\u001b[1;36m3.0\u001b[0m\u001b[1;33m\u001b[0m\u001b[1;33m\u001b[0m\u001b[0m\n\u001b[0;32m    587\u001b[0m     \"\"\"\n\u001b[1;32m--> 588\u001b[1;33m     y_type, y_true, y_pred, multioutput = _check_reg_targets(\n\u001b[0m\u001b[0;32m    589\u001b[0m         y_true, y_pred, multioutput)\n\u001b[0;32m    590\u001b[0m     \u001b[0mcheck_consistent_length\u001b[0m\u001b[1;33m(\u001b[0m\u001b[0my_true\u001b[0m\u001b[1;33m,\u001b[0m \u001b[0my_pred\u001b[0m\u001b[1;33m,\u001b[0m \u001b[0msample_weight\u001b[0m\u001b[1;33m)\u001b[0m\u001b[1;33m\u001b[0m\u001b[1;33m\u001b[0m\u001b[0m\n",
      "\u001b[1;32m~\\anaconda3\\lib\\site-packages\\sklearn\\metrics\\_regression.py\u001b[0m in \u001b[0;36m_check_reg_targets\u001b[1;34m(y_true, y_pred, multioutput, dtype)\u001b[0m\n\u001b[0;32m     84\u001b[0m     \u001b[0mcheck_consistent_length\u001b[0m\u001b[1;33m(\u001b[0m\u001b[0my_true\u001b[0m\u001b[1;33m,\u001b[0m \u001b[0my_pred\u001b[0m\u001b[1;33m)\u001b[0m\u001b[1;33m\u001b[0m\u001b[1;33m\u001b[0m\u001b[0m\n\u001b[0;32m     85\u001b[0m     \u001b[0my_true\u001b[0m \u001b[1;33m=\u001b[0m \u001b[0mcheck_array\u001b[0m\u001b[1;33m(\u001b[0m\u001b[0my_true\u001b[0m\u001b[1;33m,\u001b[0m \u001b[0mensure_2d\u001b[0m\u001b[1;33m=\u001b[0m\u001b[1;32mFalse\u001b[0m\u001b[1;33m,\u001b[0m \u001b[0mdtype\u001b[0m\u001b[1;33m=\u001b[0m\u001b[0mdtype\u001b[0m\u001b[1;33m)\u001b[0m\u001b[1;33m\u001b[0m\u001b[1;33m\u001b[0m\u001b[0m\n\u001b[1;32m---> 86\u001b[1;33m     \u001b[0my_pred\u001b[0m \u001b[1;33m=\u001b[0m \u001b[0mcheck_array\u001b[0m\u001b[1;33m(\u001b[0m\u001b[0my_pred\u001b[0m\u001b[1;33m,\u001b[0m \u001b[0mensure_2d\u001b[0m\u001b[1;33m=\u001b[0m\u001b[1;32mFalse\u001b[0m\u001b[1;33m,\u001b[0m \u001b[0mdtype\u001b[0m\u001b[1;33m=\u001b[0m\u001b[0mdtype\u001b[0m\u001b[1;33m)\u001b[0m\u001b[1;33m\u001b[0m\u001b[1;33m\u001b[0m\u001b[0m\n\u001b[0m\u001b[0;32m     87\u001b[0m \u001b[1;33m\u001b[0m\u001b[0m\n\u001b[0;32m     88\u001b[0m     \u001b[1;32mif\u001b[0m \u001b[0my_true\u001b[0m\u001b[1;33m.\u001b[0m\u001b[0mndim\u001b[0m \u001b[1;33m==\u001b[0m \u001b[1;36m1\u001b[0m\u001b[1;33m:\u001b[0m\u001b[1;33m\u001b[0m\u001b[1;33m\u001b[0m\u001b[0m\n",
      "\u001b[1;32m~\\anaconda3\\lib\\site-packages\\sklearn\\utils\\validation.py\u001b[0m in \u001b[0;36minner_f\u001b[1;34m(*args, **kwargs)\u001b[0m\n\u001b[0;32m     70\u001b[0m                           FutureWarning)\n\u001b[0;32m     71\u001b[0m         \u001b[0mkwargs\u001b[0m\u001b[1;33m.\u001b[0m\u001b[0mupdate\u001b[0m\u001b[1;33m(\u001b[0m\u001b[1;33m{\u001b[0m\u001b[0mk\u001b[0m\u001b[1;33m:\u001b[0m \u001b[0marg\u001b[0m \u001b[1;32mfor\u001b[0m \u001b[0mk\u001b[0m\u001b[1;33m,\u001b[0m \u001b[0marg\u001b[0m \u001b[1;32min\u001b[0m \u001b[0mzip\u001b[0m\u001b[1;33m(\u001b[0m\u001b[0msig\u001b[0m\u001b[1;33m.\u001b[0m\u001b[0mparameters\u001b[0m\u001b[1;33m,\u001b[0m \u001b[0margs\u001b[0m\u001b[1;33m)\u001b[0m\u001b[1;33m}\u001b[0m\u001b[1;33m)\u001b[0m\u001b[1;33m\u001b[0m\u001b[1;33m\u001b[0m\u001b[0m\n\u001b[1;32m---> 72\u001b[1;33m         \u001b[1;32mreturn\u001b[0m \u001b[0mf\u001b[0m\u001b[1;33m(\u001b[0m\u001b[1;33m**\u001b[0m\u001b[0mkwargs\u001b[0m\u001b[1;33m)\u001b[0m\u001b[1;33m\u001b[0m\u001b[1;33m\u001b[0m\u001b[0m\n\u001b[0m\u001b[0;32m     73\u001b[0m     \u001b[1;32mreturn\u001b[0m \u001b[0minner_f\u001b[0m\u001b[1;33m\u001b[0m\u001b[1;33m\u001b[0m\u001b[0m\n\u001b[0;32m     74\u001b[0m \u001b[1;33m\u001b[0m\u001b[0m\n",
      "\u001b[1;32m~\\anaconda3\\lib\\site-packages\\sklearn\\utils\\validation.py\u001b[0m in \u001b[0;36mcheck_array\u001b[1;34m(array, accept_sparse, accept_large_sparse, dtype, order, copy, force_all_finite, ensure_2d, allow_nd, ensure_min_samples, ensure_min_features, estimator)\u001b[0m\n\u001b[0;32m    642\u001b[0m \u001b[1;33m\u001b[0m\u001b[0m\n\u001b[0;32m    643\u001b[0m         \u001b[1;32mif\u001b[0m \u001b[0mforce_all_finite\u001b[0m\u001b[1;33m:\u001b[0m\u001b[1;33m\u001b[0m\u001b[1;33m\u001b[0m\u001b[0m\n\u001b[1;32m--> 644\u001b[1;33m             _assert_all_finite(array,\n\u001b[0m\u001b[0;32m    645\u001b[0m                                allow_nan=force_all_finite == 'allow-nan')\n\u001b[0;32m    646\u001b[0m \u001b[1;33m\u001b[0m\u001b[0m\n",
      "\u001b[1;32m~\\anaconda3\\lib\\site-packages\\sklearn\\utils\\validation.py\u001b[0m in \u001b[0;36m_assert_all_finite\u001b[1;34m(X, allow_nan, msg_dtype)\u001b[0m\n\u001b[0;32m     94\u001b[0m                 not allow_nan and not np.isfinite(X).all()):\n\u001b[0;32m     95\u001b[0m             \u001b[0mtype_err\u001b[0m \u001b[1;33m=\u001b[0m \u001b[1;34m'infinity'\u001b[0m \u001b[1;32mif\u001b[0m \u001b[0mallow_nan\u001b[0m \u001b[1;32melse\u001b[0m \u001b[1;34m'NaN, infinity'\u001b[0m\u001b[1;33m\u001b[0m\u001b[1;33m\u001b[0m\u001b[0m\n\u001b[1;32m---> 96\u001b[1;33m             raise ValueError(\n\u001b[0m\u001b[0;32m     97\u001b[0m                     \u001b[0mmsg_err\u001b[0m\u001b[1;33m.\u001b[0m\u001b[0mformat\u001b[0m\u001b[1;33m\u001b[0m\u001b[1;33m\u001b[0m\u001b[0m\n\u001b[0;32m     98\u001b[0m                     (type_err,\n",
      "\u001b[1;31mValueError\u001b[0m: Input contains NaN, infinity or a value too large for dtype('float32')."
     ]
    }
   ],
   "source": [
    "X = data[features].copy()\n",
    "y = data['number_of_ticket'].copy()\n",
    "\n",
    "X_train, X_test, y_train, y_test = train_test_split(X,y,test_size=0.33, random_state=42)\n",
    "\n",
    "reg_gs = GridSearchCV(xgb,param_grid=params, verbose=1,cv=3)\n",
    "reg_gs.fit(X, y)"
   ]
  },
  {
   "cell_type": "code",
   "execution_count": null,
   "metadata": {
    "colab": {
     "base_uri": "https://localhost:8080/"
    },
    "id": "Mg8Uzw9waHKI",
    "outputId": "79b7efbb-f4d5-4824-a312-5d148db35cc8"
   },
   "outputs": [],
   "source": [
    "np.any(np.isinf(X))"
   ]
  },
  {
   "cell_type": "code",
   "execution_count": null,
   "metadata": {
    "colab": {
     "base_uri": "https://localhost:8080/"
    },
    "id": "S3WrD6hdaHKJ",
    "outputId": "a934fc55-1a7f-422b-d9e8-de58e30b303e"
   },
   "outputs": [],
   "source": [
    "np.all(np.isinf(X))"
   ]
  },
  {
   "cell_type": "code",
   "execution_count": null,
   "metadata": {
    "colab": {
     "base_uri": "https://localhost:8080/"
    },
    "id": "oFIA2loVaHKJ",
    "outputId": "9706262d-42ca-4cf2-ae88-a1e78bfd6e45"
   },
   "outputs": [],
   "source": [
    "print(np.all(np.isinf(X)))"
   ]
  },
  {
   "cell_type": "code",
   "execution_count": null,
   "metadata": {
    "colab": {
     "base_uri": "https://localhost:8080/"
    },
    "id": "JcqG_0-XaHKJ",
    "outputId": "2d271991-63f8-4559-e325-275030e682a7"
   },
   "outputs": [],
   "source": [
    "reg_gs"
   ]
  },
  {
   "cell_type": "code",
   "execution_count": null,
   "metadata": {
    "id": "1kwUzymkaHKJ"
   },
   "outputs": [],
   "source": [
    "reg_gs = GridSearchCV(xgb,param_grid=params, verbose=1,cv=3)"
   ]
  },
  {
   "cell_type": "code",
   "execution_count": null,
   "metadata": {
    "colab": {
     "base_uri": "https://localhost:8080/"
    },
    "id": "hRCPi9YdaHKJ",
    "outputId": "aba007ff-4cdf-4a30-c273-c916121b3e0d"
   },
   "outputs": [],
   "source": [
    "reg_gs.fit(X, y)"
   ]
  },
  {
   "cell_type": "code",
   "execution_count": null,
   "metadata": {
    "colab": {
     "base_uri": "https://localhost:8080/"
    },
    "id": "ymm6nUAUbsOO",
    "outputId": "2688f6c1-3bc6-41c3-c1bc-259aa84dc406"
   },
   "outputs": [],
   "source": [
    "reg_gs.best_estimator_.get_params()"
   ]
  },
  {
   "cell_type": "code",
   "execution_count": null,
   "metadata": {
    "id": "adOZUNOzdEsr"
   },
   "outputs": [],
   "source": [
    "reg_optimal_model =reg_gs.best_estimator_"
   ]
  },
  {
   "cell_type": "code",
   "execution_count": null,
   "metadata": {
    "id": "-LbVbYM4dQqG"
   },
   "outputs": [],
   "source": [
    "train_preds = reg_optimal_model.predict(X_train)\n",
    "test_preds = reg_optimal_model.predict(X_test)"
   ]
  },
  {
   "cell_type": "code",
   "execution_count": null,
   "metadata": {
    "colab": {
     "base_uri": "https://localhost:8080/"
    },
    "id": "29d-8km7hYW2",
    "outputId": "9bf4819b-4dec-42bc-d6d7-ea7f25e3b877"
   },
   "outputs": [],
   "source": [
    "reg_optimal_model.score(X_train,y_train)"
   ]
  },
  {
   "cell_type": "code",
   "execution_count": null,
   "metadata": {
    "colab": {
     "base_uri": "https://localhost:8080/"
    },
    "id": "LjAnTXDZn14G",
    "outputId": "2425112a-02e9-45cd-e343-375c36b78b75"
   },
   "outputs": [],
   "source": [
    "reg_optimal_model.score(X_test,y_test)"
   ]
  },
  {
   "cell_type": "code",
   "execution_count": null,
   "metadata": {
    "id": "Cu83LIgR6wrs"
   },
   "outputs": [],
   "source": [
    "#Find R-squared value\n",
    "r2_test = r2_score(y_test, test_preds)\n",
    "# Find Adjusted R-squared value\n",
    "adj_r2=1-(1-r2_score(y_test, test_preds))*((X_test.shape[0]-1)/(X_test.shape[0]-X_test.shape[1]-1))"
   ]
  },
  {
   "cell_type": "code",
   "execution_count": null,
   "metadata": {
    "colab": {
     "base_uri": "https://localhost:8080/"
    },
    "id": "-qJjDlLVuSqu",
    "outputId": "fd31cf9e-e999-4437-a4e3-2f9d6afe7fa4"
   },
   "outputs": [],
   "source": [
    "adj_r2"
   ]
  },
  {
   "cell_type": "code",
   "execution_count": null,
   "metadata": {
    "colab": {
     "base_uri": "https://localhost:8080/",
     "height": 283
    },
    "id": "pQ6EYUz_awW7",
    "outputId": "f349978f-e60f-444b-d54e-7e5c68bd8966"
   },
   "outputs": [],
   "source": [
    "plt.scatter(y_test,test_preds)"
   ]
  },
  {
   "cell_type": "code",
   "execution_count": null,
   "metadata": {
    "id": "tF6OvvPSdh0n"
   },
   "outputs": [],
   "source": [
    "importances = reg_optimal_model.feature_importances_"
   ]
  },
  {
   "cell_type": "code",
   "execution_count": null,
   "metadata": {
    "id": "Zncnadi6dpEa"
   },
   "outputs": [],
   "source": [
    "importance_dict = {'Feature' : list(X_train.columns),\n",
    "                   'Feature Importance' : importances}"
   ]
  },
  {
   "cell_type": "code",
   "execution_count": null,
   "metadata": {
    "id": "xMZKUz8Mdtyi"
   },
   "outputs": [],
   "source": [
    "importance_df = pd.DataFrame(importance_dict)"
   ]
  },
  {
   "cell_type": "code",
   "execution_count": null,
   "metadata": {
    "id": "5LExJLhzdzb2"
   },
   "outputs": [],
   "source": [
    "important_features=importance_df.sort_values(by=['Feature Importance'],ascending=False).head(20)"
   ]
  },
  {
   "cell_type": "code",
   "execution_count": null,
   "metadata": {
    "id": "l91CJZkHs-3M"
   },
   "outputs": [],
   "source": [
    "imp_features = important_features['Feature'].tolist()"
   ]
  },
  {
   "cell_type": "code",
   "execution_count": null,
   "metadata": {
    "colab": {
     "base_uri": "https://localhost:8080/",
     "height": 350
    },
    "id": "Qyi6bP4Xd4tU",
    "outputId": "72abd56b-ba35-48c2-e8f6-4e7a61126fa2"
   },
   "outputs": [],
   "source": [
    "##Plotting the feature importance score \n",
    "\n",
    "plt.figure(figsize=(10,5))\n",
    "sns.barplot(y = important_features['Feature'], x = important_features['Feature Importance'] )\n",
    "plt.title('10 Most Important features')\n",
    "plt.show()"
   ]
  },
  {
   "cell_type": "markdown",
   "metadata": {
    "id": "Uq_2ERtbpAHW"
   },
   "source": [
    "Evaluating Model"
   ]
  },
  {
   "cell_type": "code",
   "execution_count": null,
   "metadata": {
    "colab": {
     "base_uri": "https://localhost:8080/"
    },
    "id": "cGCATDIwmovZ",
    "outputId": "d687174d-a725-4103-f558-08d052712024"
   },
   "outputs": [],
   "source": [
    "print('Mean Squared Error (MSE): ',mean_squared_error(y_test, test_preds))\n",
    "print('Mean Absolute Error (MAE): ',mean_absolute_error(y_test, test_preds))\n",
    "print('Root Mean Squared Error (MSE): ',np.sqrt(mean_squared_error(y_test, test_preds)))\n",
    "print('R2 Score: ',r2)\n",
    "print('Adjusted R2 Score: ',adj_r2)"
   ]
  },
  {
   "cell_type": "markdown",
   "metadata": {
    "id": "a0tyipCdpMTM"
   },
   "source": [
    "Conclusion"
   ]
  },
  {
   "cell_type": "markdown",
   "metadata": {
    "id": "Hp4N5Jrepz8H"
   },
   "source": [
    "We used different types of regression algorithms to train our model like Linear Regression, Regularized linear regression (Ridge and Lasso), GBM, Random Forest Regressor, XGboost regressor. And also we tuned the parameters of Random forest regressor and XGboost regressor and also found the important features for training the model. Out of them XGboost with tuned hyperparameters gave the best result.\n",
    "So the accuracy of our best model is 84% which can be said to be good for this large dataset. . This performance could be due to various reasons like  no proper pattern of data, too much data,and  not enough relevant features.\n",
    "bold text"
   ]
  }
 ],
 "metadata": {
  "colab": {
   "collapsed_sections": [],
   "name": "Transport__demand_prediction_Capstone_Project.ipynb",
   "provenance": []
  },
  "kernelspec": {
   "display_name": "Python 3",
   "language": "python",
   "name": "python3"
  },
  "language_info": {
   "codemirror_mode": {
    "name": "ipython",
    "version": 3
   },
   "file_extension": ".py",
   "mimetype": "text/x-python",
   "name": "python",
   "nbconvert_exporter": "python",
   "pygments_lexer": "ipython3",
   "version": "3.8.8"
  }
 },
 "nbformat": 4,
 "nbformat_minor": 1
}
